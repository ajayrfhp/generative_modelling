{
  "nbformat": 4,
  "nbformat_minor": 0,
  "metadata": {
    "colab": {
      "name": "unsupervised_image_translation_mnist",
      "provenance": [],
      "collapsed_sections": [],
      "toc_visible": true
    },
    "kernelspec": {
      "name": "python3",
      "display_name": "Python 3"
    },
    "widgets": {
      "application/vnd.jupyter.widget-state+json": {
        "fac3c82122794535ac3f71921db7217c": {
          "model_module": "@jupyter-widgets/controls",
          "model_name": "HBoxModel",
          "state": {
            "_view_name": "HBoxView",
            "_dom_classes": [],
            "_model_name": "HBoxModel",
            "_view_module": "@jupyter-widgets/controls",
            "_model_module_version": "1.5.0",
            "_view_count": null,
            "_view_module_version": "1.5.0",
            "box_style": "",
            "layout": "IPY_MODEL_764c8ac8d0534232a29bdc0764bb72d9",
            "_model_module": "@jupyter-widgets/controls",
            "children": [
              "IPY_MODEL_3e99e3b095bd415999a47b74b6848da2",
              "IPY_MODEL_42b38346604d4bb88802f78d4a555943"
            ]
          }
        },
        "764c8ac8d0534232a29bdc0764bb72d9": {
          "model_module": "@jupyter-widgets/base",
          "model_name": "LayoutModel",
          "state": {
            "_view_name": "LayoutView",
            "grid_template_rows": null,
            "right": null,
            "justify_content": null,
            "_view_module": "@jupyter-widgets/base",
            "overflow": null,
            "_model_module_version": "1.2.0",
            "_view_count": null,
            "flex_flow": null,
            "width": null,
            "min_width": null,
            "border": null,
            "align_items": null,
            "bottom": null,
            "_model_module": "@jupyter-widgets/base",
            "top": null,
            "grid_column": null,
            "overflow_y": null,
            "overflow_x": null,
            "grid_auto_flow": null,
            "grid_area": null,
            "grid_template_columns": null,
            "flex": null,
            "_model_name": "LayoutModel",
            "justify_items": null,
            "grid_row": null,
            "max_height": null,
            "align_content": null,
            "visibility": null,
            "align_self": null,
            "height": null,
            "min_height": null,
            "padding": null,
            "grid_auto_rows": null,
            "grid_gap": null,
            "max_width": null,
            "order": null,
            "_view_module_version": "1.2.0",
            "grid_template_areas": null,
            "object_position": null,
            "object_fit": null,
            "grid_auto_columns": null,
            "margin": null,
            "display": null,
            "left": null
          }
        },
        "3e99e3b095bd415999a47b74b6848da2": {
          "model_module": "@jupyter-widgets/controls",
          "model_name": "FloatProgressModel",
          "state": {
            "_view_name": "ProgressView",
            "style": "IPY_MODEL_be07d00426314ba0a6087aa1b5bb0b4b",
            "_dom_classes": [],
            "description": "",
            "_model_name": "FloatProgressModel",
            "bar_style": "info",
            "max": 1,
            "_view_module": "@jupyter-widgets/controls",
            "_model_module_version": "1.5.0",
            "value": 1,
            "_view_count": null,
            "_view_module_version": "1.5.0",
            "orientation": "horizontal",
            "min": 0,
            "description_tooltip": null,
            "_model_module": "@jupyter-widgets/controls",
            "layout": "IPY_MODEL_c4e0c65174e849d5b8c55d10919a572c"
          }
        },
        "42b38346604d4bb88802f78d4a555943": {
          "model_module": "@jupyter-widgets/controls",
          "model_name": "HTMLModel",
          "state": {
            "_view_name": "HTMLView",
            "style": "IPY_MODEL_6b83780b365a481ea9fa3c984425f221",
            "_dom_classes": [],
            "description": "",
            "_model_name": "HTMLModel",
            "placeholder": "​",
            "_view_module": "@jupyter-widgets/controls",
            "_model_module_version": "1.5.0",
            "value": " 9920512/? [00:20&lt;00:00, 1173127.31it/s]",
            "_view_count": null,
            "_view_module_version": "1.5.0",
            "description_tooltip": null,
            "_model_module": "@jupyter-widgets/controls",
            "layout": "IPY_MODEL_fc663260a21a4e5795d379e18d6b6ca4"
          }
        },
        "be07d00426314ba0a6087aa1b5bb0b4b": {
          "model_module": "@jupyter-widgets/controls",
          "model_name": "ProgressStyleModel",
          "state": {
            "_view_name": "StyleView",
            "_model_name": "ProgressStyleModel",
            "description_width": "initial",
            "_view_module": "@jupyter-widgets/base",
            "_model_module_version": "1.5.0",
            "_view_count": null,
            "_view_module_version": "1.2.0",
            "bar_color": null,
            "_model_module": "@jupyter-widgets/controls"
          }
        },
        "c4e0c65174e849d5b8c55d10919a572c": {
          "model_module": "@jupyter-widgets/base",
          "model_name": "LayoutModel",
          "state": {
            "_view_name": "LayoutView",
            "grid_template_rows": null,
            "right": null,
            "justify_content": null,
            "_view_module": "@jupyter-widgets/base",
            "overflow": null,
            "_model_module_version": "1.2.0",
            "_view_count": null,
            "flex_flow": null,
            "width": null,
            "min_width": null,
            "border": null,
            "align_items": null,
            "bottom": null,
            "_model_module": "@jupyter-widgets/base",
            "top": null,
            "grid_column": null,
            "overflow_y": null,
            "overflow_x": null,
            "grid_auto_flow": null,
            "grid_area": null,
            "grid_template_columns": null,
            "flex": null,
            "_model_name": "LayoutModel",
            "justify_items": null,
            "grid_row": null,
            "max_height": null,
            "align_content": null,
            "visibility": null,
            "align_self": null,
            "height": null,
            "min_height": null,
            "padding": null,
            "grid_auto_rows": null,
            "grid_gap": null,
            "max_width": null,
            "order": null,
            "_view_module_version": "1.2.0",
            "grid_template_areas": null,
            "object_position": null,
            "object_fit": null,
            "grid_auto_columns": null,
            "margin": null,
            "display": null,
            "left": null
          }
        },
        "6b83780b365a481ea9fa3c984425f221": {
          "model_module": "@jupyter-widgets/controls",
          "model_name": "DescriptionStyleModel",
          "state": {
            "_view_name": "StyleView",
            "_model_name": "DescriptionStyleModel",
            "description_width": "",
            "_view_module": "@jupyter-widgets/base",
            "_model_module_version": "1.5.0",
            "_view_count": null,
            "_view_module_version": "1.2.0",
            "_model_module": "@jupyter-widgets/controls"
          }
        },
        "fc663260a21a4e5795d379e18d6b6ca4": {
          "model_module": "@jupyter-widgets/base",
          "model_name": "LayoutModel",
          "state": {
            "_view_name": "LayoutView",
            "grid_template_rows": null,
            "right": null,
            "justify_content": null,
            "_view_module": "@jupyter-widgets/base",
            "overflow": null,
            "_model_module_version": "1.2.0",
            "_view_count": null,
            "flex_flow": null,
            "width": null,
            "min_width": null,
            "border": null,
            "align_items": null,
            "bottom": null,
            "_model_module": "@jupyter-widgets/base",
            "top": null,
            "grid_column": null,
            "overflow_y": null,
            "overflow_x": null,
            "grid_auto_flow": null,
            "grid_area": null,
            "grid_template_columns": null,
            "flex": null,
            "_model_name": "LayoutModel",
            "justify_items": null,
            "grid_row": null,
            "max_height": null,
            "align_content": null,
            "visibility": null,
            "align_self": null,
            "height": null,
            "min_height": null,
            "padding": null,
            "grid_auto_rows": null,
            "grid_gap": null,
            "max_width": null,
            "order": null,
            "_view_module_version": "1.2.0",
            "grid_template_areas": null,
            "object_position": null,
            "object_fit": null,
            "grid_auto_columns": null,
            "margin": null,
            "display": null,
            "left": null
          }
        },
        "bbb39ff0e1f84afea5e09f790da00ab9": {
          "model_module": "@jupyter-widgets/controls",
          "model_name": "HBoxModel",
          "state": {
            "_view_name": "HBoxView",
            "_dom_classes": [],
            "_model_name": "HBoxModel",
            "_view_module": "@jupyter-widgets/controls",
            "_model_module_version": "1.5.0",
            "_view_count": null,
            "_view_module_version": "1.5.0",
            "box_style": "",
            "layout": "IPY_MODEL_2998061eef2e4a84b75e9aa6f9ccfdb4",
            "_model_module": "@jupyter-widgets/controls",
            "children": [
              "IPY_MODEL_919a582d9c0f49dda720f42e67cfa1a7",
              "IPY_MODEL_70faec4560e245aa8339fa700f991b6a"
            ]
          }
        },
        "2998061eef2e4a84b75e9aa6f9ccfdb4": {
          "model_module": "@jupyter-widgets/base",
          "model_name": "LayoutModel",
          "state": {
            "_view_name": "LayoutView",
            "grid_template_rows": null,
            "right": null,
            "justify_content": null,
            "_view_module": "@jupyter-widgets/base",
            "overflow": null,
            "_model_module_version": "1.2.0",
            "_view_count": null,
            "flex_flow": null,
            "width": null,
            "min_width": null,
            "border": null,
            "align_items": null,
            "bottom": null,
            "_model_module": "@jupyter-widgets/base",
            "top": null,
            "grid_column": null,
            "overflow_y": null,
            "overflow_x": null,
            "grid_auto_flow": null,
            "grid_area": null,
            "grid_template_columns": null,
            "flex": null,
            "_model_name": "LayoutModel",
            "justify_items": null,
            "grid_row": null,
            "max_height": null,
            "align_content": null,
            "visibility": null,
            "align_self": null,
            "height": null,
            "min_height": null,
            "padding": null,
            "grid_auto_rows": null,
            "grid_gap": null,
            "max_width": null,
            "order": null,
            "_view_module_version": "1.2.0",
            "grid_template_areas": null,
            "object_position": null,
            "object_fit": null,
            "grid_auto_columns": null,
            "margin": null,
            "display": null,
            "left": null
          }
        },
        "919a582d9c0f49dda720f42e67cfa1a7": {
          "model_module": "@jupyter-widgets/controls",
          "model_name": "FloatProgressModel",
          "state": {
            "_view_name": "ProgressView",
            "style": "IPY_MODEL_7a9d7694f2f3411fa88a94eaa6cebc79",
            "_dom_classes": [],
            "description": "",
            "_model_name": "FloatProgressModel",
            "bar_style": "success",
            "max": 1,
            "_view_module": "@jupyter-widgets/controls",
            "_model_module_version": "1.5.0",
            "value": 1,
            "_view_count": null,
            "_view_module_version": "1.5.0",
            "orientation": "horizontal",
            "min": 0,
            "description_tooltip": null,
            "_model_module": "@jupyter-widgets/controls",
            "layout": "IPY_MODEL_b1e7d4669fb34ff48b27d0e3d0cd7ece"
          }
        },
        "70faec4560e245aa8339fa700f991b6a": {
          "model_module": "@jupyter-widgets/controls",
          "model_name": "HTMLModel",
          "state": {
            "_view_name": "HTMLView",
            "style": "IPY_MODEL_373a067e5ab145b6990324084e33d795",
            "_dom_classes": [],
            "description": "",
            "_model_name": "HTMLModel",
            "placeholder": "​",
            "_view_module": "@jupyter-widgets/controls",
            "_model_module_version": "1.5.0",
            "value": " 32768/? [00:00&lt;00:00, 40564.04it/s]",
            "_view_count": null,
            "_view_module_version": "1.5.0",
            "description_tooltip": null,
            "_model_module": "@jupyter-widgets/controls",
            "layout": "IPY_MODEL_2f2fb5b61e224e32baf25896988e0f51"
          }
        },
        "7a9d7694f2f3411fa88a94eaa6cebc79": {
          "model_module": "@jupyter-widgets/controls",
          "model_name": "ProgressStyleModel",
          "state": {
            "_view_name": "StyleView",
            "_model_name": "ProgressStyleModel",
            "description_width": "initial",
            "_view_module": "@jupyter-widgets/base",
            "_model_module_version": "1.5.0",
            "_view_count": null,
            "_view_module_version": "1.2.0",
            "bar_color": null,
            "_model_module": "@jupyter-widgets/controls"
          }
        },
        "b1e7d4669fb34ff48b27d0e3d0cd7ece": {
          "model_module": "@jupyter-widgets/base",
          "model_name": "LayoutModel",
          "state": {
            "_view_name": "LayoutView",
            "grid_template_rows": null,
            "right": null,
            "justify_content": null,
            "_view_module": "@jupyter-widgets/base",
            "overflow": null,
            "_model_module_version": "1.2.0",
            "_view_count": null,
            "flex_flow": null,
            "width": null,
            "min_width": null,
            "border": null,
            "align_items": null,
            "bottom": null,
            "_model_module": "@jupyter-widgets/base",
            "top": null,
            "grid_column": null,
            "overflow_y": null,
            "overflow_x": null,
            "grid_auto_flow": null,
            "grid_area": null,
            "grid_template_columns": null,
            "flex": null,
            "_model_name": "LayoutModel",
            "justify_items": null,
            "grid_row": null,
            "max_height": null,
            "align_content": null,
            "visibility": null,
            "align_self": null,
            "height": null,
            "min_height": null,
            "padding": null,
            "grid_auto_rows": null,
            "grid_gap": null,
            "max_width": null,
            "order": null,
            "_view_module_version": "1.2.0",
            "grid_template_areas": null,
            "object_position": null,
            "object_fit": null,
            "grid_auto_columns": null,
            "margin": null,
            "display": null,
            "left": null
          }
        },
        "373a067e5ab145b6990324084e33d795": {
          "model_module": "@jupyter-widgets/controls",
          "model_name": "DescriptionStyleModel",
          "state": {
            "_view_name": "StyleView",
            "_model_name": "DescriptionStyleModel",
            "description_width": "",
            "_view_module": "@jupyter-widgets/base",
            "_model_module_version": "1.5.0",
            "_view_count": null,
            "_view_module_version": "1.2.0",
            "_model_module": "@jupyter-widgets/controls"
          }
        },
        "2f2fb5b61e224e32baf25896988e0f51": {
          "model_module": "@jupyter-widgets/base",
          "model_name": "LayoutModel",
          "state": {
            "_view_name": "LayoutView",
            "grid_template_rows": null,
            "right": null,
            "justify_content": null,
            "_view_module": "@jupyter-widgets/base",
            "overflow": null,
            "_model_module_version": "1.2.0",
            "_view_count": null,
            "flex_flow": null,
            "width": null,
            "min_width": null,
            "border": null,
            "align_items": null,
            "bottom": null,
            "_model_module": "@jupyter-widgets/base",
            "top": null,
            "grid_column": null,
            "overflow_y": null,
            "overflow_x": null,
            "grid_auto_flow": null,
            "grid_area": null,
            "grid_template_columns": null,
            "flex": null,
            "_model_name": "LayoutModel",
            "justify_items": null,
            "grid_row": null,
            "max_height": null,
            "align_content": null,
            "visibility": null,
            "align_self": null,
            "height": null,
            "min_height": null,
            "padding": null,
            "grid_auto_rows": null,
            "grid_gap": null,
            "max_width": null,
            "order": null,
            "_view_module_version": "1.2.0",
            "grid_template_areas": null,
            "object_position": null,
            "object_fit": null,
            "grid_auto_columns": null,
            "margin": null,
            "display": null,
            "left": null
          }
        },
        "a2a15aad0d954e57bb3f62fd3cb2b4f3": {
          "model_module": "@jupyter-widgets/controls",
          "model_name": "HBoxModel",
          "state": {
            "_view_name": "HBoxView",
            "_dom_classes": [],
            "_model_name": "HBoxModel",
            "_view_module": "@jupyter-widgets/controls",
            "_model_module_version": "1.5.0",
            "_view_count": null,
            "_view_module_version": "1.5.0",
            "box_style": "",
            "layout": "IPY_MODEL_93ff49f2265146da99288371bd31c2a6",
            "_model_module": "@jupyter-widgets/controls",
            "children": [
              "IPY_MODEL_2934757296cf4ef683edc19c39faecc9",
              "IPY_MODEL_fb4b2bdbb2294b1199fbafba357f2de7"
            ]
          }
        },
        "93ff49f2265146da99288371bd31c2a6": {
          "model_module": "@jupyter-widgets/base",
          "model_name": "LayoutModel",
          "state": {
            "_view_name": "LayoutView",
            "grid_template_rows": null,
            "right": null,
            "justify_content": null,
            "_view_module": "@jupyter-widgets/base",
            "overflow": null,
            "_model_module_version": "1.2.0",
            "_view_count": null,
            "flex_flow": null,
            "width": null,
            "min_width": null,
            "border": null,
            "align_items": null,
            "bottom": null,
            "_model_module": "@jupyter-widgets/base",
            "top": null,
            "grid_column": null,
            "overflow_y": null,
            "overflow_x": null,
            "grid_auto_flow": null,
            "grid_area": null,
            "grid_template_columns": null,
            "flex": null,
            "_model_name": "LayoutModel",
            "justify_items": null,
            "grid_row": null,
            "max_height": null,
            "align_content": null,
            "visibility": null,
            "align_self": null,
            "height": null,
            "min_height": null,
            "padding": null,
            "grid_auto_rows": null,
            "grid_gap": null,
            "max_width": null,
            "order": null,
            "_view_module_version": "1.2.0",
            "grid_template_areas": null,
            "object_position": null,
            "object_fit": null,
            "grid_auto_columns": null,
            "margin": null,
            "display": null,
            "left": null
          }
        },
        "2934757296cf4ef683edc19c39faecc9": {
          "model_module": "@jupyter-widgets/controls",
          "model_name": "FloatProgressModel",
          "state": {
            "_view_name": "ProgressView",
            "style": "IPY_MODEL_2c8a30755f174553b1ba4b302f9d74a2",
            "_dom_classes": [],
            "description": "",
            "_model_name": "FloatProgressModel",
            "bar_style": "info",
            "max": 1,
            "_view_module": "@jupyter-widgets/controls",
            "_model_module_version": "1.5.0",
            "value": 1,
            "_view_count": null,
            "_view_module_version": "1.5.0",
            "orientation": "horizontal",
            "min": 0,
            "description_tooltip": null,
            "_model_module": "@jupyter-widgets/controls",
            "layout": "IPY_MODEL_6561d5f3dc404c60b0e630d7e88ef924"
          }
        },
        "fb4b2bdbb2294b1199fbafba357f2de7": {
          "model_module": "@jupyter-widgets/controls",
          "model_name": "HTMLModel",
          "state": {
            "_view_name": "HTMLView",
            "style": "IPY_MODEL_1607aa37abd94930b330f62d861ebee6",
            "_dom_classes": [],
            "description": "",
            "_model_name": "HTMLModel",
            "placeholder": "​",
            "_view_module": "@jupyter-widgets/controls",
            "_model_module_version": "1.5.0",
            "value": " 1654784/? [00:15&lt;00:00, 219184.36it/s]",
            "_view_count": null,
            "_view_module_version": "1.5.0",
            "description_tooltip": null,
            "_model_module": "@jupyter-widgets/controls",
            "layout": "IPY_MODEL_785f178ca78d4ee0978b4d1cf9c91c92"
          }
        },
        "2c8a30755f174553b1ba4b302f9d74a2": {
          "model_module": "@jupyter-widgets/controls",
          "model_name": "ProgressStyleModel",
          "state": {
            "_view_name": "StyleView",
            "_model_name": "ProgressStyleModel",
            "description_width": "initial",
            "_view_module": "@jupyter-widgets/base",
            "_model_module_version": "1.5.0",
            "_view_count": null,
            "_view_module_version": "1.2.0",
            "bar_color": null,
            "_model_module": "@jupyter-widgets/controls"
          }
        },
        "6561d5f3dc404c60b0e630d7e88ef924": {
          "model_module": "@jupyter-widgets/base",
          "model_name": "LayoutModel",
          "state": {
            "_view_name": "LayoutView",
            "grid_template_rows": null,
            "right": null,
            "justify_content": null,
            "_view_module": "@jupyter-widgets/base",
            "overflow": null,
            "_model_module_version": "1.2.0",
            "_view_count": null,
            "flex_flow": null,
            "width": null,
            "min_width": null,
            "border": null,
            "align_items": null,
            "bottom": null,
            "_model_module": "@jupyter-widgets/base",
            "top": null,
            "grid_column": null,
            "overflow_y": null,
            "overflow_x": null,
            "grid_auto_flow": null,
            "grid_area": null,
            "grid_template_columns": null,
            "flex": null,
            "_model_name": "LayoutModel",
            "justify_items": null,
            "grid_row": null,
            "max_height": null,
            "align_content": null,
            "visibility": null,
            "align_self": null,
            "height": null,
            "min_height": null,
            "padding": null,
            "grid_auto_rows": null,
            "grid_gap": null,
            "max_width": null,
            "order": null,
            "_view_module_version": "1.2.0",
            "grid_template_areas": null,
            "object_position": null,
            "object_fit": null,
            "grid_auto_columns": null,
            "margin": null,
            "display": null,
            "left": null
          }
        },
        "1607aa37abd94930b330f62d861ebee6": {
          "model_module": "@jupyter-widgets/controls",
          "model_name": "DescriptionStyleModel",
          "state": {
            "_view_name": "StyleView",
            "_model_name": "DescriptionStyleModel",
            "description_width": "",
            "_view_module": "@jupyter-widgets/base",
            "_model_module_version": "1.5.0",
            "_view_count": null,
            "_view_module_version": "1.2.0",
            "_model_module": "@jupyter-widgets/controls"
          }
        },
        "785f178ca78d4ee0978b4d1cf9c91c92": {
          "model_module": "@jupyter-widgets/base",
          "model_name": "LayoutModel",
          "state": {
            "_view_name": "LayoutView",
            "grid_template_rows": null,
            "right": null,
            "justify_content": null,
            "_view_module": "@jupyter-widgets/base",
            "overflow": null,
            "_model_module_version": "1.2.0",
            "_view_count": null,
            "flex_flow": null,
            "width": null,
            "min_width": null,
            "border": null,
            "align_items": null,
            "bottom": null,
            "_model_module": "@jupyter-widgets/base",
            "top": null,
            "grid_column": null,
            "overflow_y": null,
            "overflow_x": null,
            "grid_auto_flow": null,
            "grid_area": null,
            "grid_template_columns": null,
            "flex": null,
            "_model_name": "LayoutModel",
            "justify_items": null,
            "grid_row": null,
            "max_height": null,
            "align_content": null,
            "visibility": null,
            "align_self": null,
            "height": null,
            "min_height": null,
            "padding": null,
            "grid_auto_rows": null,
            "grid_gap": null,
            "max_width": null,
            "order": null,
            "_view_module_version": "1.2.0",
            "grid_template_areas": null,
            "object_position": null,
            "object_fit": null,
            "grid_auto_columns": null,
            "margin": null,
            "display": null,
            "left": null
          }
        },
        "8a79294cd2a5410a9c4043bd601d8b2a": {
          "model_module": "@jupyter-widgets/controls",
          "model_name": "HBoxModel",
          "state": {
            "_view_name": "HBoxView",
            "_dom_classes": [],
            "_model_name": "HBoxModel",
            "_view_module": "@jupyter-widgets/controls",
            "_model_module_version": "1.5.0",
            "_view_count": null,
            "_view_module_version": "1.5.0",
            "box_style": "",
            "layout": "IPY_MODEL_259c4d9394224ec4964914f5f244c410",
            "_model_module": "@jupyter-widgets/controls",
            "children": [
              "IPY_MODEL_bbdecb3ba78449a0a53792343554e7a6",
              "IPY_MODEL_ae3044849f1b43d59096f29a61055e69"
            ]
          }
        },
        "259c4d9394224ec4964914f5f244c410": {
          "model_module": "@jupyter-widgets/base",
          "model_name": "LayoutModel",
          "state": {
            "_view_name": "LayoutView",
            "grid_template_rows": null,
            "right": null,
            "justify_content": null,
            "_view_module": "@jupyter-widgets/base",
            "overflow": null,
            "_model_module_version": "1.2.0",
            "_view_count": null,
            "flex_flow": null,
            "width": null,
            "min_width": null,
            "border": null,
            "align_items": null,
            "bottom": null,
            "_model_module": "@jupyter-widgets/base",
            "top": null,
            "grid_column": null,
            "overflow_y": null,
            "overflow_x": null,
            "grid_auto_flow": null,
            "grid_area": null,
            "grid_template_columns": null,
            "flex": null,
            "_model_name": "LayoutModel",
            "justify_items": null,
            "grid_row": null,
            "max_height": null,
            "align_content": null,
            "visibility": null,
            "align_self": null,
            "height": null,
            "min_height": null,
            "padding": null,
            "grid_auto_rows": null,
            "grid_gap": null,
            "max_width": null,
            "order": null,
            "_view_module_version": "1.2.0",
            "grid_template_areas": null,
            "object_position": null,
            "object_fit": null,
            "grid_auto_columns": null,
            "margin": null,
            "display": null,
            "left": null
          }
        },
        "bbdecb3ba78449a0a53792343554e7a6": {
          "model_module": "@jupyter-widgets/controls",
          "model_name": "FloatProgressModel",
          "state": {
            "_view_name": "ProgressView",
            "style": "IPY_MODEL_bd46fc7aa9dc4a4daa6d365a415ab8b7",
            "_dom_classes": [],
            "description": "",
            "_model_name": "FloatProgressModel",
            "bar_style": "success",
            "max": 1,
            "_view_module": "@jupyter-widgets/controls",
            "_model_module_version": "1.5.0",
            "value": 1,
            "_view_count": null,
            "_view_module_version": "1.5.0",
            "orientation": "horizontal",
            "min": 0,
            "description_tooltip": null,
            "_model_module": "@jupyter-widgets/controls",
            "layout": "IPY_MODEL_6b8c6666ef6640e585be8335f12765e2"
          }
        },
        "ae3044849f1b43d59096f29a61055e69": {
          "model_module": "@jupyter-widgets/controls",
          "model_name": "HTMLModel",
          "state": {
            "_view_name": "HTMLView",
            "style": "IPY_MODEL_c1f1a147d474438294332a7c90efc64a",
            "_dom_classes": [],
            "description": "",
            "_model_name": "HTMLModel",
            "placeholder": "​",
            "_view_module": "@jupyter-widgets/controls",
            "_model_module_version": "1.5.0",
            "value": " 8192/? [00:00&lt;00:00, 11579.57it/s]",
            "_view_count": null,
            "_view_module_version": "1.5.0",
            "description_tooltip": null,
            "_model_module": "@jupyter-widgets/controls",
            "layout": "IPY_MODEL_23f6de5bc7844ac09e724b37ba5ac501"
          }
        },
        "bd46fc7aa9dc4a4daa6d365a415ab8b7": {
          "model_module": "@jupyter-widgets/controls",
          "model_name": "ProgressStyleModel",
          "state": {
            "_view_name": "StyleView",
            "_model_name": "ProgressStyleModel",
            "description_width": "initial",
            "_view_module": "@jupyter-widgets/base",
            "_model_module_version": "1.5.0",
            "_view_count": null,
            "_view_module_version": "1.2.0",
            "bar_color": null,
            "_model_module": "@jupyter-widgets/controls"
          }
        },
        "6b8c6666ef6640e585be8335f12765e2": {
          "model_module": "@jupyter-widgets/base",
          "model_name": "LayoutModel",
          "state": {
            "_view_name": "LayoutView",
            "grid_template_rows": null,
            "right": null,
            "justify_content": null,
            "_view_module": "@jupyter-widgets/base",
            "overflow": null,
            "_model_module_version": "1.2.0",
            "_view_count": null,
            "flex_flow": null,
            "width": null,
            "min_width": null,
            "border": null,
            "align_items": null,
            "bottom": null,
            "_model_module": "@jupyter-widgets/base",
            "top": null,
            "grid_column": null,
            "overflow_y": null,
            "overflow_x": null,
            "grid_auto_flow": null,
            "grid_area": null,
            "grid_template_columns": null,
            "flex": null,
            "_model_name": "LayoutModel",
            "justify_items": null,
            "grid_row": null,
            "max_height": null,
            "align_content": null,
            "visibility": null,
            "align_self": null,
            "height": null,
            "min_height": null,
            "padding": null,
            "grid_auto_rows": null,
            "grid_gap": null,
            "max_width": null,
            "order": null,
            "_view_module_version": "1.2.0",
            "grid_template_areas": null,
            "object_position": null,
            "object_fit": null,
            "grid_auto_columns": null,
            "margin": null,
            "display": null,
            "left": null
          }
        },
        "c1f1a147d474438294332a7c90efc64a": {
          "model_module": "@jupyter-widgets/controls",
          "model_name": "DescriptionStyleModel",
          "state": {
            "_view_name": "StyleView",
            "_model_name": "DescriptionStyleModel",
            "description_width": "",
            "_view_module": "@jupyter-widgets/base",
            "_model_module_version": "1.5.0",
            "_view_count": null,
            "_view_module_version": "1.2.0",
            "_model_module": "@jupyter-widgets/controls"
          }
        },
        "23f6de5bc7844ac09e724b37ba5ac501": {
          "model_module": "@jupyter-widgets/base",
          "model_name": "LayoutModel",
          "state": {
            "_view_name": "LayoutView",
            "grid_template_rows": null,
            "right": null,
            "justify_content": null,
            "_view_module": "@jupyter-widgets/base",
            "overflow": null,
            "_model_module_version": "1.2.0",
            "_view_count": null,
            "flex_flow": null,
            "width": null,
            "min_width": null,
            "border": null,
            "align_items": null,
            "bottom": null,
            "_model_module": "@jupyter-widgets/base",
            "top": null,
            "grid_column": null,
            "overflow_y": null,
            "overflow_x": null,
            "grid_auto_flow": null,
            "grid_area": null,
            "grid_template_columns": null,
            "flex": null,
            "_model_name": "LayoutModel",
            "justify_items": null,
            "grid_row": null,
            "max_height": null,
            "align_content": null,
            "visibility": null,
            "align_self": null,
            "height": null,
            "min_height": null,
            "padding": null,
            "grid_auto_rows": null,
            "grid_gap": null,
            "max_width": null,
            "order": null,
            "_view_module_version": "1.2.0",
            "grid_template_areas": null,
            "object_position": null,
            "object_fit": null,
            "grid_auto_columns": null,
            "margin": null,
            "display": null,
            "left": null
          }
        }
      }
    },
    "accelerator": "GPU"
  },
  "cells": [
    {
      "cell_type": "markdown",
      "metadata": {
        "id": "CJUYg7bVUCB4",
        "colab_type": "text"
      },
      "source": [
        "**Outline**\n",
        "\n",
        "1. Load raw data\n",
        "2. Prepare unpaired image translation dataset\n",
        "3. Write network code\n",
        "4. Write objective function, Write training and evaluation loops\n",
        "5. Train network\n",
        "6. Evaluate network\n",
        "7. Load new dataset\n",
        "8. Prepare unaired image translation dataset\n",
        "9. Use network, objective function, training and evaluation loop from previous section. \n",
        "10. Train and evaluate"
      ]
    },
    {
      "cell_type": "code",
      "metadata": {
        "id": "BfKn546RRsxI",
        "colab_type": "code",
        "colab": {}
      },
      "source": [
        "import torch\n",
        "import torch.nn as nn\n",
        "import torch.optim as optim\n",
        "from torchvision import datasets, transforms\n",
        "from torch.utils import data\n",
        "import numpy as np\n",
        "from matplotlib import pyplot as plt\n",
        "from sklearn.model_selection import train_test_split"
      ],
      "execution_count": 0,
      "outputs": []
    },
    {
      "cell_type": "code",
      "metadata": {
        "id": "L_kE7sxaUrF2",
        "colab_type": "code",
        "outputId": "baa89556-8393-4f7d-a11b-936f116fbd36",
        "colab": {
          "base_uri": "https://localhost:8080/",
          "height": 34
        }
      },
      "source": [
        "torch.set_default_tensor_type('torch.cuda.FloatTensor')\n",
        "torch.cuda.current_device(), torch.cuda.device_count()"
      ],
      "execution_count": 2,
      "outputs": [
        {
          "output_type": "execute_result",
          "data": {
            "text/plain": [
              "(0, 1)"
            ]
          },
          "metadata": {
            "tags": []
          },
          "execution_count": 2
        }
      ]
    },
    {
      "cell_type": "markdown",
      "metadata": {
        "id": "DTJ7ArVVUsZ9",
        "colab_type": "text"
      },
      "source": [
        "**Load raw data**"
      ]
    },
    {
      "cell_type": "code",
      "metadata": {
        "id": "Us-0AB3xTMAB",
        "colab_type": "code",
        "outputId": "2b4c3eb2-6bda-42a4-edf6-831d05ffa312",
        "colab": {
          "base_uri": "https://localhost:8080/",
          "height": 420,
          "referenced_widgets": [
            "fac3c82122794535ac3f71921db7217c",
            "764c8ac8d0534232a29bdc0764bb72d9",
            "3e99e3b095bd415999a47b74b6848da2",
            "42b38346604d4bb88802f78d4a555943",
            "be07d00426314ba0a6087aa1b5bb0b4b",
            "c4e0c65174e849d5b8c55d10919a572c",
            "6b83780b365a481ea9fa3c984425f221",
            "fc663260a21a4e5795d379e18d6b6ca4",
            "bbb39ff0e1f84afea5e09f790da00ab9",
            "2998061eef2e4a84b75e9aa6f9ccfdb4",
            "919a582d9c0f49dda720f42e67cfa1a7",
            "70faec4560e245aa8339fa700f991b6a",
            "7a9d7694f2f3411fa88a94eaa6cebc79",
            "b1e7d4669fb34ff48b27d0e3d0cd7ece",
            "373a067e5ab145b6990324084e33d795",
            "2f2fb5b61e224e32baf25896988e0f51",
            "a2a15aad0d954e57bb3f62fd3cb2b4f3",
            "93ff49f2265146da99288371bd31c2a6",
            "2934757296cf4ef683edc19c39faecc9",
            "fb4b2bdbb2294b1199fbafba357f2de7",
            "2c8a30755f174553b1ba4b302f9d74a2",
            "6561d5f3dc404c60b0e630d7e88ef924",
            "1607aa37abd94930b330f62d861ebee6",
            "785f178ca78d4ee0978b4d1cf9c91c92",
            "8a79294cd2a5410a9c4043bd601d8b2a",
            "259c4d9394224ec4964914f5f244c410",
            "bbdecb3ba78449a0a53792343554e7a6",
            "ae3044849f1b43d59096f29a61055e69",
            "bd46fc7aa9dc4a4daa6d365a415ab8b7",
            "6b8c6666ef6640e585be8335f12765e2",
            "c1f1a147d474438294332a7c90efc64a",
            "23f6de5bc7844ac09e724b37ba5ac501"
          ]
        }
      },
      "source": [
        "batch_size = 25\n",
        "\n",
        "train_loader = torch.utils.data.DataLoader(\n",
        "        datasets.MNIST('../data', train=True, download=True,\n",
        "                       transform=transforms.Compose([\n",
        "                           transforms.ToTensor(),\n",
        "                           transforms.Normalize((0.5,), (0.5,))\n",
        "                       ])),\n",
        "        batch_size=batch_size, shuffle=True)\n",
        "\n",
        "test_loader = torch.utils.data.DataLoader(\n",
        "    datasets.MNIST('../data', train=False, transform=transforms.Compose([\n",
        "                        transforms.ToTensor(),\n",
        "                        transforms.Normalize((0.5,), (0.5,))\n",
        "                    ])),\n",
        "    batch_size=batch_size, shuffle=True)\n",
        "\n",
        "train_loader, test_loader"
      ],
      "execution_count": 3,
      "outputs": [
        {
          "output_type": "stream",
          "text": [
            "Downloading http://yann.lecun.com/exdb/mnist/train-images-idx3-ubyte.gz to ../data/MNIST/raw/train-images-idx3-ubyte.gz\n"
          ],
          "name": "stdout"
        },
        {
          "output_type": "display_data",
          "data": {
            "application/vnd.jupyter.widget-view+json": {
              "model_id": "fac3c82122794535ac3f71921db7217c",
              "version_minor": 0,
              "version_major": 2
            },
            "text/plain": [
              "HBox(children=(FloatProgress(value=1.0, bar_style='info', max=1.0), HTML(value='')))"
            ]
          },
          "metadata": {
            "tags": []
          }
        },
        {
          "output_type": "stream",
          "text": [
            "Extracting ../data/MNIST/raw/train-images-idx3-ubyte.gz to ../data/MNIST/raw\n",
            "Downloading http://yann.lecun.com/exdb/mnist/train-labels-idx1-ubyte.gz to ../data/MNIST/raw/train-labels-idx1-ubyte.gz\n"
          ],
          "name": "stdout"
        },
        {
          "output_type": "display_data",
          "data": {
            "application/vnd.jupyter.widget-view+json": {
              "model_id": "bbb39ff0e1f84afea5e09f790da00ab9",
              "version_minor": 0,
              "version_major": 2
            },
            "text/plain": [
              "HBox(children=(FloatProgress(value=1.0, bar_style='info', max=1.0), HTML(value='')))"
            ]
          },
          "metadata": {
            "tags": []
          }
        },
        {
          "output_type": "stream",
          "text": [
            "Extracting ../data/MNIST/raw/train-labels-idx1-ubyte.gz to ../data/MNIST/raw\n",
            "Downloading http://yann.lecun.com/exdb/mnist/t10k-images-idx3-ubyte.gz to ../data/MNIST/raw/t10k-images-idx3-ubyte.gz\n",
            "\n"
          ],
          "name": "stdout"
        },
        {
          "output_type": "display_data",
          "data": {
            "application/vnd.jupyter.widget-view+json": {
              "model_id": "a2a15aad0d954e57bb3f62fd3cb2b4f3",
              "version_minor": 0,
              "version_major": 2
            },
            "text/plain": [
              "HBox(children=(FloatProgress(value=1.0, bar_style='info', max=1.0), HTML(value='')))"
            ]
          },
          "metadata": {
            "tags": []
          }
        },
        {
          "output_type": "stream",
          "text": [
            "Extracting ../data/MNIST/raw/t10k-images-idx3-ubyte.gz to ../data/MNIST/raw\n",
            "Downloading http://yann.lecun.com/exdb/mnist/t10k-labels-idx1-ubyte.gz to ../data/MNIST/raw/t10k-labels-idx1-ubyte.gz\n"
          ],
          "name": "stdout"
        },
        {
          "output_type": "display_data",
          "data": {
            "application/vnd.jupyter.widget-view+json": {
              "model_id": "8a79294cd2a5410a9c4043bd601d8b2a",
              "version_minor": 0,
              "version_major": 2
            },
            "text/plain": [
              "HBox(children=(FloatProgress(value=1.0, bar_style='info', max=1.0), HTML(value='')))"
            ]
          },
          "metadata": {
            "tags": []
          }
        },
        {
          "output_type": "stream",
          "text": [
            "Extracting ../data/MNIST/raw/t10k-labels-idx1-ubyte.gz to ../data/MNIST/raw\n",
            "Processing...\n",
            "Done!\n",
            "\n"
          ],
          "name": "stdout"
        },
        {
          "output_type": "stream",
          "text": [
            "/pytorch/torch/csrc/utils/tensor_numpy.cpp:141: UserWarning: The given NumPy array is not writeable, and PyTorch does not support non-writeable tensors. This means you can write to the underlying (supposedly non-writeable) NumPy array using the tensor. You may want to copy the array to protect its data or make it writeable before converting it to a tensor. This type of warning will be suppressed for the rest of this program.\n"
          ],
          "name": "stderr"
        },
        {
          "output_type": "execute_result",
          "data": {
            "text/plain": [
              "(<torch.utils.data.dataloader.DataLoader at 0x7fcb03a44be0>,\n",
              " <torch.utils.data.dataloader.DataLoader at 0x7fcaa6233d30>)"
            ]
          },
          "metadata": {
            "tags": []
          },
          "execution_count": 3
        }
      ]
    },
    {
      "cell_type": "markdown",
      "metadata": {
        "id": "p0uN3O6CUzGl",
        "colab_type": "text"
      },
      "source": [
        "**Prepare unpaired image translation dataset**"
      ]
    },
    {
      "cell_type": "code",
      "metadata": {
        "id": "R5cNMXvnUgck",
        "colab_type": "code",
        "outputId": "05b95947-2e0d-4fcf-8568-2059fac9cb00",
        "colab": {
          "base_uri": "https://localhost:8080/",
          "height": 281
        }
      },
      "source": [
        "def tensor2image(x):\n",
        "  return x.detach().numpy().transpose(0, 2, 3, 1)\n",
        "\n",
        "def image2tensor(x):\n",
        "  return torch.tensor(x.transpose(0, 3, 1, 2))\n",
        "\n",
        "def display_image(image):\n",
        "  plt.figure(figsize=(1,1))\n",
        "  plt.imshow(image[:,:,0], cmap = 'gray')\n",
        "  plt.show()\n",
        "\n",
        "\n",
        "\n",
        "X = np.array([ tensor2image(image_batch) for image_batch, _ in train_loader])\n",
        "X = X.reshape((X.shape[0] * X.shape[1], X.shape[2], X.shape[3], X.shape[4]))\n",
        "\n",
        "Y = np.array(X) * -1\n",
        "np.random.shuffle(Y)\n",
        "\n",
        "display_image(X[0])\n",
        "display_image(Y[0])\n",
        "\n",
        "X_train, X_test, Y_train, Y_test = train_test_split(X, Y)\n",
        "unsupervised_train_loader = data.DataLoader(data.TensorDataset(image2tensor(X_train), image2tensor(Y_train)), batch_size=1)\n",
        "unsupervised_test_loader = data.DataLoader(data.TensorDataset(image2tensor(X_test), image2tensor(Y_test)), batch_size=1)\n",
        "unsupervised_train_loader, unsupervised_test_loader\n",
        "\n",
        "x, y = next(iter(unsupervised_train_loader))\n",
        "c = tensor2image(x.cpu()[0:1])\n",
        "display_image(c[0])"
      ],
      "execution_count": 4,
      "outputs": [
        {
          "output_type": "display_data",
          "data": {
            "image/png": "[encoded data removed]",
            "text/plain": [
              "<Figure size 72x72 with 1 Axes>"
            ]
          },
          "metadata": {
            "tags": [],
            "needs_background": "light"
          }
        },
        {
          "output_type": "display_data",
          "data": {
            "image/png": "[encoded data removed]",
            "text/plain": [
              "<Figure size 72x72 with 1 Axes>"
            ]
          },
          "metadata": {
            "tags": [],
            "needs_background": "light"
          }
        },
        {
          "output_type": "display_data",
          "data": {
            "image/png": "[encoded data removed]",
            "text/plain": [
              "<Figure size 72x72 with 1 Axes>"
            ]
          },
          "metadata": {
            "tags": [],
            "needs_background": "light"
          }
        }
      ]
    },
    {
      "cell_type": "markdown",
      "metadata": {
        "id": "UDau4-Oy8my_",
        "colab_type": "text"
      },
      "source": [
        "**Network code**"
      ]
    },
    {
      "cell_type": "code",
      "metadata": {
        "id": "5SrEwTDdU9HW",
        "colab_type": "code",
        "outputId": "2fde3680-3ec9-465b-e91c-77d86a93522c",
        "colab": {
          "base_uri": "https://localhost:8080/",
          "height": 34
        }
      },
      "source": [
        "class Generator(nn.Module):\n",
        "  def __init__(self):\n",
        "    '''\n",
        "    Network is a map from noise vector to image\n",
        "    (Batch, 128) -> (Batch, 1, w, h)\n",
        "    '''\n",
        "    super(Generator, self).__init__()\n",
        "    self.conv1 = nn.Conv2d(1, 32, 3, 2)\n",
        "    self.conv2 = nn.Conv2d(32, 32, 3, 2)\n",
        "    self.fc1 = nn.Linear(32 * 6 * 6, 128)\n",
        "    \n",
        "    self.fc2 = nn.Linear(128, 128)\n",
        "    self.conv1T = nn.ConvTranspose2d(32, 32, 3, 2)\n",
        "    self.conv2T = nn.ConvTranspose2d(64, 32, 3, 2)\n",
        "    self.conv3T = nn.ConvTranspose2d(64, 32, 3, 2)\n",
        "    self.conv4T = nn.ConvTranspose2d(32, 1, 3, 1, padding = 1)\n",
        "\n",
        "    \n",
        "\n",
        "  def forward(self, x):\n",
        "    # DOWN \n",
        "    x1 = self.conv1(x) # (Batch_size, 32, 13, 13)\n",
        "    x1 = nn.LeakyReLU(0.2)(x1) # (Batch_size, 32, 13, 13)\n",
        "    x2 = self.conv2(x1) # (Batch_size, 32, 6, 6)\n",
        "    x2 = nn.LeakyReLU(0.2)(x2) # (Batch_size, 32, 6, 6)\n",
        "    x3 = self.fc1(x2.reshape((-1, 32 * 6 * 6))) # (Batch_size, 128)\n",
        "    x3 = nn.LeakyReLU(0.2)(x3) # (Batch_size, 128)\n",
        "\n",
        "    # UP\n",
        "    x4 = self.fc2(x3) # (Batch_size, 128)\n",
        "    x4 = nn.LeakyReLU(0.1)(x4) # (Batch_size, 128)\n",
        "    x4 = x4.view((-1, 32, 2, 2)) # (Batch_size, 32, 2, 2)\n",
        "    \n",
        "    \n",
        "    x5 = self.conv1T(x4, output_size = (x.shape[0], 32, 6, 6)) # (Batch_size, 32, 6 , 6)\n",
        "    x5 = nn.BatchNorm2d(32)(x5) # (Batch_size, 32 * 6 * 6)\n",
        "    x5 = nn.LeakyReLU(0.1)(x5) # (Batch_size, 32, 6, 6)\n",
        "\n",
        "    x5_stack = torch.cat((x5, x2), dim = 1) ## (Batch_size, 64, 6, 6)\n",
        "    x6 = self.conv2T(x5_stack, output_size = (x.shape[0], 32 , 13, 13)) # (Batch_size, 32, 13, 13)\n",
        "    x6 = nn.BatchNorm2d(32)(x6) # (Batch_size, 32 * 13 * 13)\n",
        "    x6 = nn.LeakyReLU(0.1)(x6) # (Batch_size, 32, 13, 13)\n",
        "\n",
        "    x6_stack = torch.cat((x6, x1), dim = 1) #(Batch_size, 64, 13, 13)\n",
        "    x7 = self.conv3T(x6_stack, output_size = (x.shape[0], 1 , 28, 28)) # (Batch_size, 1, 28, 28)\n",
        "    x7 = nn.LeakyReLU(0.1)(x7)\n",
        "    x8 = self.conv4T(x7, output_size = (x.shape[0], 1 , 28, 28)) # (Batch_size, 1, 28, 28)\n",
        "  \n",
        "    return nn.Tanh()(x8)\n",
        "\n",
        "class Discriminator(nn.Module):\n",
        "  def __init__(self):\n",
        "    '''\n",
        "    Network is a map from an image to (0, 1)\n",
        "    (Batch, 1, w, h) -> (Batch, )\n",
        "    '''\n",
        "    super(Discriminator, self).__init__()\n",
        "    self.conv1 = nn.Conv2d(1, 32, 3, 2)\n",
        "    self.conv2 = nn.Conv2d(32, 32, 3, 2)\n",
        "    self.fc1 = nn.Linear(32 * 6 * 6, 128)\n",
        "    self.output = nn.Linear(128, 1)\n",
        "\n",
        "  def forward(self, x):\n",
        "    x = self.conv1(x) # (Batch_size, 32, 13, 13)\n",
        "    x = nn.LeakyReLU(0.2)(x) # (Batch_size, 32, 13, 13)\n",
        "    x = self.conv2(x) # (Batch_size, 32, 6, 6)\n",
        "    x = nn.LeakyReLU(0.2)(x) # (Batch_size, 32, 6, 6)\n",
        "    x = x.reshape((-1, 32 * 6 * 6)) # (Batch_size, 32 * 6 * 6)\n",
        "    x = self.fc1(x) # (Batch_size, 128)\n",
        "    x = nn.LeakyReLU(0.2)(x) # (Batch_size, 128)\n",
        "    x = self.output(x)\n",
        "    return nn.Sigmoid()(x)\n",
        "\n",
        "\n",
        "generator = Generator()\n",
        "discriminator = Discriminator()\n",
        "generated = generator(torch.randn(10, 1, 28, 28))\n",
        "\n",
        "predictions = discriminator(generated)\n",
        "next(generator.parameters()).is_cuda"
      ],
      "execution_count": 5,
      "outputs": [
        {
          "output_type": "execute_result",
          "data": {
            "text/plain": [
              "True"
            ]
          },
          "metadata": {
            "tags": []
          },
          "execution_count": 5
        }
      ]
    },
    {
      "cell_type": "markdown",
      "metadata": {
        "id": "1cA_qVSRa6gO",
        "colab_type": "text"
      },
      "source": [
        "**Psuedocode**\n",
        "\n",
        " Networks D_x, D_y, F, G\n",
        "\n",
        "```\n",
        "G maps from X to Y\n",
        "F maps from Y to X\n",
        "\n",
        "D_x maps from (b, w_x, s_x, 3) -> {0, 1}\n",
        "D_y maps from (b, w_y, s_y, 3) -> {0, 1}\n",
        "\n",
        "G maps from (b, w_x, s_x, 3) -> (b, w_y, s_y, 3)\n",
        "F maps from (b, w_y, s_y, 3) -> (b, w_x, s_x, 3)\n",
        "\n",
        "CE(y, y_pred) = -sum(ylog(y_pred))\n",
        "\n",
        "for batch X, Y\n",
        "  D_y_loss = CE(ones, D_y(y)) + CE(zeros, D_y(G(x)))\n",
        "  D_x_loss = CE(ones, D_x(x)) + CE(zeros, D_x(G(y)))\n",
        "  cyclical_loss = |F(G(x)) - x | + |G(F(y)) - y |\n",
        "  G_loss = CE(ones, D_y(G(x))) + cyclical_loss\n",
        "  F_loss = CE(ones, D_x(G(y))) + cyclical_loss\n",
        "  G_loss += cyclical_loss\n",
        "  F_loss += cyclical_loss\n",
        "\n",
        "  Compute gradients\n",
        "  Update G, F, D_x, D_y weights\n",
        "\n",
        "```\n",
        "\n",
        "\n",
        "\n",
        "\n"
      ]
    },
    {
      "cell_type": "markdown",
      "metadata": {
        "id": "vON71_S5NDSp",
        "colab_type": "text"
      },
      "source": [
        "**Write Objective function, training loop**"
      ]
    },
    {
      "cell_type": "code",
      "metadata": {
        "id": "yeW28KtQIeTV",
        "colab_type": "code",
        "outputId": "eb723adf-e269-49fd-a1c2-dd70f661d1df",
        "colab": {
          "base_uri": "https://localhost:8080/",
          "height": 1000
        }
      },
      "source": [
        "G = Generator()\n",
        "F = Generator()\n",
        "D_X = Discriminator()\n",
        "D_Y = Discriminator()\n",
        "\n",
        "G_optimizer = optim.Adam(G.parameters(), lr = 1e-4)\n",
        "F_optimizer = optim.Adam(F.parameters(), lr = 1e-4)\n",
        "D_X_optimizer = optim.Adam(D_X.parameters(), lr = 1e-4)\n",
        "D_Y_optimizer = optim.Adam(D_Y.parameters(), lr = 1e-4)\n",
        "\n",
        "\n",
        "def train(G, F, D_X, D_Y, train_loader):\n",
        "  G_losses = []\n",
        "  F_losses = []\n",
        "  D_Y_losses = []\n",
        "  D_X_losses = []\n",
        "  for i, (X, Y) in enumerate(train_loader):\n",
        "    X = X.cuda()\n",
        "    Y = Y.cuda()\n",
        "    for p in D_X.parameters(): p.requires_grad = True\n",
        "    for p in D_Y.parameters(): p.requires_grad = True\n",
        "\n",
        "    # train D_X, D_Y\n",
        "    D_X.zero_grad()\n",
        "    D_Y.zero_grad()\n",
        "\n",
        "    D_Y_loss = nn.BCELoss()(D_Y(Y), torch.ones((X.shape[0], 1))) + nn.BCELoss()(D_Y(G(X)), torch.zeros((X.shape[0], 1)))\n",
        "    D_X_loss = nn.BCELoss()(D_X(X), torch.ones((X.shape[0], 1))) + nn.BCELoss()(D_X(F(Y)), torch.zeros((X.shape[0], 1)))\n",
        "    D_Y_loss.backward(retain_graph=True)\n",
        "    D_X_loss.backward(retain_graph=True)\n",
        "    D_X_optimizer.step()\n",
        "    D_Y_optimizer.step()\n",
        "\n",
        "    # train G, F\n",
        "    F.zero_grad()\n",
        "    G.zero_grad()\n",
        "    for p in D_X.parameters(): p.requires_grad = False\n",
        "    for p in D_Y.parameters(): p.requires_grad = False\n",
        "\n",
        "    cyclical_loss = torch.mean(torch.abs(F(G(X)) - X)) + torch.mean(torch.abs(G(F(Y)) - Y))\n",
        "    \n",
        "    G_loss = nn.BCELoss()(D_Y(G(X)), torch.ones((X.shape[0], 1))) + 2 * cyclical_loss\n",
        "    F_loss = nn.BCELoss()(D_X(F(Y)), torch.ones((X.shape[0], 1))) + 2 * cyclical_loss\n",
        "\n",
        "    G_loss.backward(retain_graph = True)\n",
        "    F_loss.backward()\n",
        "    G_optimizer.step()\n",
        "    F_optimizer.step()\n",
        "    \n",
        "    G_losses.append(G_loss.mean().item())\n",
        "    F_losses.append(F_loss.mean().item())\n",
        "    D_X_losses.append(D_X_loss.mean().item())\n",
        "    D_Y_losses.append(D_Y_loss.mean().item())\n",
        "\n",
        "    if i % 100 == 0:\n",
        "      print(D_X_loss.mean().item(), D_Y_loss.mean().item(), G_loss.mean().item(), F_loss.mean().item(), cyclical_loss.item())\n",
        "      #print(X.is_cuda, G(X).is_cuda, D_Y(Y).is_cuda)\n",
        "\n",
        "for epoch in range(2):\n",
        "  print(epoch)\n",
        "  train(G, F, D_X, D_Y, unsupervised_train_loader)"
      ],
      "execution_count": 6,
      "outputs": [
        {
          "output_type": "stream",
          "text": [
            "0\n",
            "1.3894200325012207 1.4103442430496216 3.9751343727111816 3.960324287414551 1.6134769916534424\n",
            "1.1699737310409546 1.474034070968628 2.2101104259490967 2.1441547870635986 0.4916059076786041\n",
            "1.4534111022949219 1.4789091348648071 1.040050745010376 1.1699628829956055 0.24235203862190247\n",
            "1.7031245231628418 1.3279242515563965 1.010241985321045 0.8418810963630676 0.16528400778770447\n",
            "1.4462578296661377 1.3732353448867798 0.9319513440132141 0.8825123310089111 0.10926544666290283\n",
            "1.3892202377319336 1.3224260807037354 0.8316453695297241 0.8433784246444702 0.0668485164642334\n",
            "1.3846904039382935 1.362098217010498 0.9346747398376465 0.906865656375885 0.09927389025688171\n",
            "1.395173192024231 1.3874342441558838 0.8691070079803467 0.8155261278152466 0.06843997538089752\n",
            "1.3892731666564941 1.3964706659317017 0.8882049322128296 0.8241544365882874 0.07896772027015686\n",
            "1.4003584384918213 1.3975613117218018 0.8789058923721313 0.8028964996337891 0.07597886025905609\n",
            "1.4048047065734863 1.4224662780761719 0.7972999811172485 0.886335015296936 0.07876159250736237\n",
            "1.3664988279342651 1.3822169303894043 0.8553333282470703 0.855891227722168 0.07485014200210571\n",
            "1.4083294868469238 1.4154828786849976 0.7793545722961426 0.8183722496032715 0.0589592307806015\n",
            "1.4312922954559326 1.4354733228683472 0.8701249361038208 0.8597440719604492 0.09657109528779984\n",
            "1.4023985862731934 1.3769010305404663 0.860489010810852 0.8196383714675903 0.07116392254829407\n",
            "1.466975450515747 1.4641790390014648 0.8139346241950989 0.8136222958564758 0.08001264929771423\n",
            "1.4001145362854004 1.381035327911377 0.798150897026062 0.7891812324523926 0.04973635822534561\n",
            "1.4514288902282715 1.4131996631622314 0.8224679231643677 0.7867529392242432 0.06949199736118317\n",
            "1.351651906967163 1.358041763305664 0.8146548271179199 0.8320205211639404 0.05482222139835358\n",
            "1.362594485282898 1.3662803173065186 0.8019506335258484 0.8125293850898743 0.04975462704896927\n",
            "1.5020369291305542 1.4703688621520996 0.7639639973640442 0.7837951183319092 0.06295420974493027\n",
            "1.3907527923583984 1.3878469467163086 0.7815123796463013 0.7564571499824524 0.03746360167860985\n",
            "1.3859666585922241 1.391404390335083 0.8412224650382996 0.8295984864234924 0.07122495770454407\n",
            "1.4016733169555664 1.38856840133667 0.816011905670166 0.8063480854034424 0.06103833019733429\n",
            "1.39451265335083 1.4149882793426514 0.7807216644287109 0.756070613861084 0.04200015217065811\n",
            "1.380706787109375 1.3770861625671387 0.7876862287521362 0.7913464307785034 0.04596008360385895\n",
            "1.4135750532150269 1.4019486904144287 0.7808668613433838 0.8022227883338928 0.051500048488378525\n",
            "1.3794560432434082 1.388962745666504 0.7858597636222839 0.7741520404815674 0.044838689267635345\n",
            "1.4653222560882568 1.4358322620391846 0.8306620121002197 0.817725658416748 0.07560987770557404\n",
            "1.4156646728515625 1.417445421218872 0.7677136063575745 0.8200462460517883 0.05029156804084778\n",
            "1.385178565979004 1.3958594799041748 0.7932287454605103 0.7952942848205566 0.04964280128479004\n",
            "1.434046745300293 1.4181408882141113 0.7798262238502502 0.758354902267456 0.04687431454658508\n",
            "1.4007422924041748 1.380718469619751 0.7825837135314941 0.7802252769470215 0.045857593417167664\n",
            "1.334964394569397 1.3309561014175415 0.8148483037948608 0.7990055084228516 0.04548058658838272\n",
            "1.4177510738372803 1.4074147939682007 0.7611744999885559 0.7788815498352051 0.04611367732286453\n",
            "1.410886287689209 1.4102330207824707 0.785735011100769 0.7839593887329102 0.04543911665678024\n",
            "1.4263346195220947 1.4167284965515137 0.7744743824005127 0.7758647203445435 0.04633628576993942\n",
            "1.3964529037475586 1.3892866373062134 0.798386812210083 0.8431633114814758 0.060987792909145355\n",
            "1.360769271850586 1.3584330081939697 0.8037623763084412 0.8350932002067566 0.055939316749572754\n",
            "1.3814654350280762 1.3801512718200684 0.7897083759307861 0.788134753704071 0.04652784392237663\n",
            "1.3418275117874146 1.3297134637832642 0.798312783241272 0.8183668851852417 0.044823452830314636\n",
            "1.3655993938446045 1.3543686866760254 0.7891654372215271 0.784430205821991 0.04189487546682358\n",
            "1.3463315963745117 1.3423635959625244 0.8174955248832703 0.8172985315322876 0.050679177045822144\n",
            "1.425148844718933 1.4352787733078003 0.7665263414382935 0.7667859196662903 0.047453176230192184\n",
            "1.3794641494750977 1.3643906116485596 0.7786092758178711 0.7651095390319824 0.03742201626300812\n",
            "1.3768987655639648 1.3494960069656372 0.8068033456802368 0.765400230884552 0.042345233261585236\n",
            "1.3877679109573364 1.394991397857666 0.769098162651062 0.7529072761535645 0.03503763675689697\n",
            "1.402656078338623 1.3844332695007324 0.769362211227417 0.7376133799552917 0.031977228820323944\n",
            "1.3883326053619385 1.3877882957458496 0.7785381078720093 0.7880059480667114 0.04796726629137993\n",
            "1.356635570526123 1.3565552234649658 0.796437680721283 0.7688626050949097 0.03261754289269447\n",
            "1.3589279651641846 1.3506686687469482 0.8341383934020996 0.8336122632026672 0.05675765126943588\n",
            "1.4378875494003296 1.4243779182434082 0.7717758417129517 0.7644151449203491 0.05148521810770035\n",
            "1.4224896430969238 1.4100650548934937 0.7612253427505493 0.7270855903625488 0.03552514687180519\n",
            "1.2624433040618896 1.2731781005859375 0.8183079361915588 0.8665760159492493 0.04502498358488083\n",
            "1.4171602725982666 1.410649299621582 0.7752895951271057 0.7532444000244141 0.04237867146730423\n",
            "1.4214365482330322 1.3838707208633423 0.7947629690170288 0.7660938501358032 0.04708088934421539\n",
            "1.3687669038772583 1.3615880012512207 0.8041220903396606 0.7564334869384766 0.03656511753797531\n",
            "1.3638238906860352 1.3758984804153442 0.7796794772148132 0.7262172102928162 0.027022285386919975\n",
            "1.3810045719146729 1.383447527885437 0.759919285774231 0.7492238283157349 0.028923403471708298\n",
            "1.4001832008361816 1.4130818843841553 0.7808065414428711 0.7707321047782898 0.04952473193407059\n",
            "1.4705963134765625 1.4698808193206787 0.7267661690711975 0.7660091519355774 0.04807979613542557\n",
            "1.3843064308166504 1.4121499061584473 0.7535553574562073 0.8131526708602905 0.04530421271920204\n",
            "1.4316747188568115 1.431638479232788 0.7493472695350647 0.757675290107727 0.038993529975414276\n",
            "1.4204907417297363 1.4250160455703735 0.7630131244659424 0.7743609547615051 0.04835047200322151\n",
            "1.3838129043579102 1.3830277919769287 0.7701582908630371 0.751751184463501 0.03249697387218475\n",
            "1.4025321006774902 1.407235860824585 0.7700523138046265 0.770955502986908 0.04412966966629028\n",
            "1.372746229171753 1.3568753004074097 0.7813329100608826 0.7739275693893433 0.03907685726881027\n",
            "1.3943064212799072 1.4040672779083252 0.7622878551483154 0.781859815120697 0.040137238800525665\n",
            "1.4068670272827148 1.4015140533447266 0.7590608596801758 0.7413769364356995 0.03164292499423027\n",
            "1.400350570678711 1.4100316762924194 0.7306511402130127 0.7421261072158813 0.02768932655453682\n",
            "1.4059209823608398 1.4519414901733398 0.7284983992576599 0.7903713583946228 0.050334129482507706\n",
            "1.3908307552337646 1.4039945602416992 0.7182680368423462 0.7657018899917603 0.028599813580513\n",
            "1.3902335166931152 1.3685355186462402 0.7704510688781738 0.7564634084701538 0.03248973563313484\n",
            "1.399195909500122 1.3980664014816284 0.7519684433937073 0.7344412207603455 0.026631604880094528\n",
            "1.3735426664352417 1.3641743659973145 0.7535897493362427 0.7779413461685181 0.03490116447210312\n",
            "1.3759849071502686 1.3793444633483887 0.7650983333587646 0.7946138381958008 0.04551350325345993\n",
            "1.3904978036880493 1.3948869705200195 0.737562894821167 0.7813433408737183 0.04085202515125275\n",
            "1.3877785205841064 1.3980053663253784 0.750735342502594 0.7362074255943298 0.02512248419225216\n",
            "1.3918805122375488 1.3921302556991577 0.74444180727005 0.7714568972587585 0.03500768542289734\n",
            "1.365379810333252 1.356429934501648 0.8179444074630737 0.7547276020050049 0.0329287014901638\n",
            "1.3863677978515625 1.379536509513855 0.7974890470504761 0.7517427206039429 0.03849231079220772\n",
            "1.3769586086273193 1.361912488937378 0.7964411973953247 0.787081778049469 0.042582154273986816\n",
            "1.3634092807769775 1.3633787631988525 0.748992919921875 0.7622032165527344 0.02740006148815155\n",
            "1.3909783363342285 1.392557144165039 0.7880471348762512 0.7580755352973938 0.04018840193748474\n",
            "1.3518149852752686 1.379986047744751 0.7714913487434387 0.7644785642623901 0.033502060920000076\n",
            "1.3773728609085083 1.3861494064331055 0.7557512521743774 0.7699480652809143 0.03353642299771309\n",
            "1.3912923336029053 1.3919665813446045 0.7522517442703247 0.7164121866226196 0.0226123183965683\n",
            "1.4036171436309814 1.3978886604309082 0.7466425895690918 0.7295268177986145 0.02668159455060959\n",
            "1.4160151481628418 1.4041154384613037 0.7517910003662109 0.7210461497306824 0.02861090749502182\n",
            "1.373506784439087 1.3625867366790771 0.7829927802085876 0.7762443423271179 0.038936078548431396\n",
            "1.3770209550857544 1.3606088161468506 0.772120475769043 0.7815067172050476 0.03667810559272766\n",
            "1.387706995010376 1.3661479949951172 0.770168662071228 0.7348991632461548 0.02500888891518116\n",
            "1.385396957397461 1.391556739807129 0.7475057244300842 0.751704216003418 0.027575206011533737\n",
            "1.3875170946121216 1.3880128860473633 0.7455613017082214 0.7409021854400635 0.024754516780376434\n",
            "1.3742382526397705 1.3530950546264648 0.7588858604431152 0.7512716054916382 0.025742754340171814\n",
            "1.3693232536315918 1.363842487335205 0.7723865509033203 0.7564224004745483 0.029934033751487732\n",
            "1.3870275020599365 1.4127769470214844 0.7427176237106323 0.7638121843338013 0.036497458815574646\n",
            "1.3780286312103271 1.3763490915298462 0.7649886012077332 0.7534142136573792 0.027963481843471527\n",
            "1.3762693405151367 1.4057903289794922 0.752270519733429 0.7561643719673157 0.03332141041755676\n",
            "1.3993529081344604 1.389546275138855 0.7644014954566956 0.7842684984207153 0.04148847609758377\n",
            "1.4093413352966309 1.3984920978546143 0.7738044261932373 0.7452654838562012 0.03484393656253815\n",
            "1.3769739866256714 1.3544365167617798 0.7862401008605957 0.7353206872940063 0.028947845101356506\n",
            "1.3550164699554443 1.3783433437347412 0.7426533102989197 0.7541337013244629 0.028234925121068954\n",
            "1.3986583948135376 1.3855557441711426 0.7748349905014038 0.7566840648651123 0.030866965651512146\n",
            "1.4068042039871216 1.4211337566375732 0.7687147259712219 0.7070261836051941 0.025949537754058838\n",
            "1.355252742767334 1.347038745880127 0.7592402100563049 0.7483561635017395 0.021102270111441612\n",
            "1.330841064453125 1.3647507429122925 0.7699249982833862 0.7801595330238342 0.02771787717938423\n",
            "1.4339165687561035 1.4352226257324219 0.7138504385948181 0.7381395101547241 0.029330438002943993\n",
            "1.3742930889129639 1.38446044921875 0.7841185927391052 0.728082001209259 0.03010239265859127\n",
            "1.4028877019882202 1.3941700458526611 0.7707894444465637 0.7294121980667114 0.02976303920149803\n",
            "1.425256371498108 1.3969508409500122 0.7421515583992004 0.7313401103019714 0.02663903683423996\n",
            "1.4489116668701172 1.4491851329803467 0.6806646585464478 0.786304235458374 0.03300740569829941\n",
            "1.480230689048767 1.4529918432235718 0.710860013961792 0.7378677129745483 0.03662075102329254\n",
            "1.3160209655761719 1.32564377784729 0.7604514360427856 0.8379624485969543 0.03620222955942154\n",
            "1.3651797771453857 1.3718481063842773 0.7523233890533447 0.7818777561187744 0.03271607682108879\n",
            "1.3386660814285278 1.3271777629852295 0.768913984298706 0.8006030321121216 0.02696937322616577\n",
            "1.4315181970596313 1.446321964263916 0.6887396574020386 0.7698089480400085 0.030685771256685257\n",
            "1.3728487491607666 1.366958498954773 0.7547303438186646 0.7551077604293823 0.023233816027641296\n",
            "1.4124144315719604 1.3994837999343872 0.7349222302436829 0.7307565808296204 0.027269385755062103\n",
            "1.3610893487930298 1.3658969402313232 0.7557993531227112 0.7611629366874695 0.0302739217877388\n",
            "1.4117255210876465 1.4019417762756348 0.7261518836021423 0.7378988265991211 0.024230848997831345\n",
            "1.3627816438674927 1.375281572341919 0.7564327120780945 0.7434830069541931 0.022471286356449127\n",
            "1.3823087215423584 1.382901906967163 0.7564258575439453 0.7618465423583984 0.028378412127494812\n",
            "1.363269329071045 1.365868330001831 0.755610466003418 0.7458627223968506 0.023709652945399284\n",
            "1.3962514400482178 1.396573781967163 0.7387726902961731 0.7451682090759277 0.023169953376054764\n",
            "1.3716365098953247 1.3706603050231934 0.728123664855957 0.7563762664794922 0.01899789273738861\n",
            "1.392798900604248 1.3942877054214478 0.7462630271911621 0.7644298672676086 0.029493696987628937\n",
            "1.3602714538574219 1.3757708072662354 0.7623639702796936 0.7765944004058838 0.03158629313111305\n",
            "1.3686561584472656 1.3804830312728882 0.7613285779953003 0.7598637342453003 0.029951903969049454\n",
            "1.363452434539795 1.365702509880066 0.7534458041191101 0.781748354434967 0.03190421685576439\n",
            "1.3801250457763672 1.3593577146530151 0.7456439733505249 0.7630016803741455 0.026364028453826904\n",
            "1.3575377464294434 1.373906135559082 0.7407410740852356 0.7359607815742493 0.017540322616696358\n",
            "1.377127766609192 1.37674880027771 0.7395573258399963 0.7646727561950684 0.0264604389667511\n",
            "1.4035749435424805 1.4000874757766724 0.7358332872390747 0.7399865984916687 0.0308687724173069\n",
            "1.3913400173187256 1.3834521770477295 0.7485334277153015 0.7517765164375305 0.026564128696918488\n",
            "1.3783845901489258 1.378281831741333 0.754818856716156 0.7571402192115784 0.02618216536939144\n",
            "1.3559751510620117 1.3640875816345215 0.745363712310791 0.7565903067588806 0.025216929614543915\n",
            "1.371842384338379 1.376376986503601 0.7616153359413147 0.764329731464386 0.03023490309715271\n",
            "1.3768815994262695 1.382171392440796 0.7349991798400879 0.7505002021789551 0.023972228169441223\n",
            "1.392352819442749 1.3663196563720703 0.7634177207946777 0.7646052837371826 0.03382665663957596\n",
            "1.3964881896972656 1.378892183303833 0.7717663049697876 0.7857917547225952 0.04102500155568123\n",
            "1.3783838748931885 1.35847806930542 0.7594848275184631 0.7494780421257019 0.027621524408459663\n",
            "1.3842270374298096 1.3757588863372803 0.7515556812286377 0.7396902441978455 0.024886220693588257\n",
            "1.3670430183410645 1.3558669090270996 0.7652101516723633 0.7528346180915833 0.024246130138635635\n",
            "1.3810982704162598 1.3943144083023071 0.7571280598640442 0.7610962986946106 0.02859249897301197\n",
            "1.386641263961792 1.399052381515503 0.736782968044281 0.7344460487365723 0.022801946848630905\n",
            "1.4076571464538574 1.401819109916687 0.739013671875 0.7236727476119995 0.02381150610744953\n",
            "1.3870395421981812 1.368516206741333 0.7526585459709167 0.7525478005409241 0.02833610028028488\n",
            "1.364861249923706 1.3792321681976318 0.7342743277549744 0.7389060258865356 0.020694438368082047\n",
            "1.349204659461975 1.3712670803070068 0.7317917943000793 0.7557880282402039 0.017866145819425583\n",
            "1.3754522800445557 1.361804723739624 0.7637982368469238 0.7549532055854797 0.03011944144964218\n",
            "1.3787140846252441 1.38698148727417 0.7640450596809387 0.7399893403053284 0.026805337518453598\n",
            "1.425695538520813 1.4130229949951172 0.70155930519104 0.7127810120582581 0.018623046576976776\n",
            "1.4115655422210693 1.3956903219223022 0.7338422536849976 0.7441892027854919 0.026252727955579758\n",
            "1.3993306159973145 1.3939850330352783 0.7128360867500305 0.7549951672554016 0.02317851036787033\n",
            "1.36082124710083 1.3716599941253662 0.7476245760917664 0.7474815249443054 0.02211298793554306\n",
            "1.4084683656692505 1.394010066986084 0.7134772539138794 0.7164176106452942 0.016379088163375854\n",
            "1.3965078592300415 1.3970623016357422 0.7951968908309937 0.7647209167480469 0.04482104629278183\n",
            "1.391465663909912 1.359541893005371 0.7616201043128967 0.751693606376648 0.028522513806819916\n",
            "1.3966434001922607 1.3899273872375488 0.6980562806129456 0.7218689918518066 0.011155076324939728\n",
            "1.390397310256958 1.3914393186569214 0.7346168160438538 0.7621371746063232 0.02657555788755417\n",
            "1.379185438156128 1.385666847229004 0.7397401332855225 0.7568102478981018 0.02495206706225872\n",
            "1.3965868949890137 1.402732491493225 0.7334256768226624 0.7244387269020081 0.022202182561159134\n",
            "1.3974149227142334 1.3912757635116577 0.7468498349189758 0.7351270318031311 0.025701165199279785\n",
            "1.399327039718628 1.3983949422836304 0.7428341507911682 0.736118495464325 0.02561459317803383\n",
            "1.3905878067016602 1.3956782817840576 0.7068471312522888 0.7468085289001465 0.020624570548534393\n",
            "1.4088189601898193 1.4185682535171509 0.7077816724777222 0.74237060546875 0.023878760635852814\n",
            "1.3773934841156006 1.3828213214874268 0.7549571990966797 0.7450328469276428 0.027175074443221092\n",
            "1.3647844791412354 1.3837931156158447 0.7271043658256531 0.7548924088478088 0.020287903025746346\n",
            "1.3720029592514038 1.3683363199234009 0.7666683197021484 0.7728502154350281 0.03364201635122299\n",
            "1.4043569564819336 1.3957760334014893 0.7148779630661011 0.7248575687408447 0.017948530614376068\n",
            "1.3912014961242676 1.3742170333862305 0.7752535939216614 0.7624348998069763 0.03641621023416519\n",
            "1.359170913696289 1.363173246383667 0.7335023880004883 0.7404608130455017 0.016676736995577812\n",
            "1.386892318725586 1.389284372329712 0.7388726472854614 0.7312307357788086 0.021475836634635925\n",
            "1.3640015125274658 1.3779162168502808 0.7358270287513733 0.75047367811203 0.02037445642054081\n",
            "1.3870487213134766 1.397905707359314 0.7419863939285278 0.740027666091919 0.023646458983421326\n",
            "1.4015824794769287 1.3928894996643066 0.7320780754089355 0.7271758317947388 0.021155789494514465\n",
            "1.4077467918395996 1.4011796712875366 0.7324111461639404 0.7227532863616943 0.0219875518232584\n",
            "1.4020073413848877 1.3946558237075806 0.7552516460418701 0.7403528094291687 0.02921951562166214\n",
            "1.3721566200256348 1.3835396766662598 0.7211903929710388 0.7396512627601624 0.017181601375341415\n",
            "1.3872771263122559 1.39493989944458 0.7554641962051392 0.7527347207069397 0.030315447598695755\n",
            "1.4093694686889648 1.4108500480651855 0.7125031352043152 0.708034336566925 0.01577620580792427\n",
            "1.3970048427581787 1.3951067924499512 0.7868860960006714 0.7739222645759583 0.042457856237888336\n",
            "1.4000160694122314 1.3957314491271973 0.7389839291572571 0.7402849197387695 0.02519676275551319\n",
            "1.4141104221343994 1.3996332883834839 0.7395358085632324 0.7058259844779968 0.01961619220674038\n",
            "1.393694281578064 1.4008619785308838 0.7236462235450745 0.7438289523124695 0.022686533629894257\n",
            "1.4010647535324097 1.3934624195098877 0.7253912687301636 0.7270504832267761 0.019150925800204277\n",
            "1.3913486003875732 1.3807045221328735 0.7330548763275146 0.7371948957443237 0.02198367938399315\n",
            "1.386172890663147 1.383476972579956 0.7373174428939819 0.7278826236724854 0.019508536905050278\n",
            "1.4012190103530884 1.3883159160614014 0.7452781200408936 0.7555432319641113 0.026441477239131927\n",
            "1.3923085927963257 1.3954496383666992 0.7295114994049072 0.7309345006942749 0.020329400897026062\n",
            "1.3881447315216064 1.3692219257354736 0.7493355870246887 0.7487327456474304 0.025268737226724625\n",
            "1.401970624923706 1.4023545980453491 0.7388718724250793 0.7038792967796326 0.016814857721328735\n",
            "1.3708826303482056 1.3737499713897705 0.7382799983024597 0.731262743473053 0.016083795577287674\n",
            "1.3797029256820679 1.3736194372177124 0.7507057785987854 0.7507686018943787 0.025110000744462013\n",
            "1.3810851573944092 1.3895859718322754 0.7385398149490356 0.7273696064949036 0.01765141822397709\n",
            "1.378359317779541 1.39505934715271 0.7304179668426514 0.7464802265167236 0.02399919554591179\n",
            "1.3756060600280762 1.3844420909881592 0.731116771697998 0.7428166270256042 0.021745910868048668\n",
            "1.3882191181182861 1.3841577768325806 0.7402729988098145 0.751626193523407 0.025952983647584915\n",
            "1.3852251768112183 1.3744252920150757 0.7407296895980835 0.7185888290405273 0.015657616779208183\n",
            "1.3762102127075195 1.3793479204177856 0.7345057725906372 0.7418349385261536 0.021372132003307343\n",
            "1.3819880485534668 1.3817846775054932 0.7468596696853638 0.7561632394790649 0.0286722369492054\n",
            "1.3707621097564697 1.3785550594329834 0.7360926866531372 0.756281316280365 0.024184491485357285\n",
            "1.386763334274292 1.3871935606002808 0.7289801836013794 0.7330359816551208 0.017616305500268936\n",
            "1.3819128274917603 1.3793530464172363 0.754453718662262 0.7502894401550293 0.02847185544669628\n",
            "1.3907804489135742 1.4034216403961182 0.7327342629432678 0.7380832433700562 0.022870201617479324\n",
            "1.377190113067627 1.3853912353515625 0.7254821062088013 0.7252650856971741 0.013712526299059391\n",
            "1.3829445838928223 1.371216893196106 0.7498488426208496 0.747230589389801 0.024330265820026398\n",
            "1.3853826522827148 1.3830511569976807 0.730685293674469 0.7459424734115601 0.020458081737160683\n",
            "1.3785799741744995 1.3729894161224365 0.7652673125267029 0.7509705424308777 0.030994746834039688\n",
            "1.3747142553329468 1.3868087530136108 0.7290278077125549 0.7412245869636536 0.021085090935230255\n",
            "1.3722949028015137 1.373868465423584 0.7368929982185364 0.7389138340950012 0.020064663141965866\n",
            "1.3810551166534424 1.3865383863449097 0.7205734252929688 0.7370184659957886 0.01571766659617424\n",
            "1.3825817108154297 1.3790497779846191 0.723215639591217 0.7318511605262756 0.01541990227997303\n",
            "1.3778573274612427 1.375910758972168 0.7411425113677979 0.743592381477356 0.02193579450249672\n",
            "1.395721197128296 1.3803112506866455 0.7264270782470703 0.7327190637588501 0.018625006079673767\n",
            "1.3739774227142334 1.3853201866149902 0.7520143985748291 0.7496097683906555 0.026492148637771606\n",
            "1.3851730823516846 1.3798381090164185 0.758711040019989 0.746130108833313 0.028723977506160736\n",
            "1.403538703918457 1.401612401008606 0.7235400676727295 0.7223103046417236 0.020360127091407776\n",
            "1.3720895051956177 1.3715983629226685 0.719287097454071 0.7391644716262817 0.015778720378875732\n",
            "1.3894147872924805 1.393596887588501 0.7308911085128784 0.7305295467376709 0.01942318305373192\n",
            "1.3872196674346924 1.3815011978149414 0.7337173819541931 0.7283899188041687 0.017969584092497826\n",
            "1.376370906829834 1.367913842201233 0.7491816282272339 0.7396080493927002 0.020185090601444244\n",
            "1.392068862915039 1.4010429382324219 0.7263050079345703 0.7372907400131226 0.02420620620250702\n",
            "1.3938984870910645 1.3794163465499878 0.7522217035293579 0.7301182746887207 0.022986602038145065\n",
            "1.393001675605774 1.395494818687439 0.7295994758605957 0.7259119153022766 0.018435504287481308\n",
            "1.3870093822479248 1.3868931531906128 0.7292866706848145 0.7409223318099976 0.02151072397828102\n",
            "1.385819435119629 1.3900078535079956 0.7281603813171387 0.7298840284347534 0.01832418143749237\n",
            "1.387993574142456 1.3936967849731445 0.7323247194290161 0.7361876368522644 0.02321138046681881\n",
            "1.3797707557678223 1.3734617233276367 0.725360631942749 0.7165248394012451 0.009360970929265022\n",
            "1.3927693367004395 1.3974882364273071 0.7331128716468811 0.7160933017730713 0.015134231187403202\n",
            "1.3847005367279053 1.3788423538208008 0.7621392607688904 0.7575708031654358 0.0333402045071125\n",
            "1.3837432861328125 1.396632194519043 0.7304456233978271 0.7366691827774048 0.02071031928062439\n",
            "1.397920846939087 1.395198941230774 0.7427521347999573 0.7393830418586731 0.027046149596571922\n",
            "1.3917839527130127 1.3855595588684082 0.7590097784996033 0.7252904176712036 0.026697397232055664\n",
            "1.3983776569366455 1.404829502105713 0.7439153790473938 0.7216470241546631 0.025823257863521576\n",
            "1.4028512239456177 1.3957798480987549 0.7321166396141052 0.7246132493019104 0.01949670910835266\n",
            "1.399932861328125 1.3957691192626953 0.7314252853393555 0.7388074994087219 0.02366059273481369\n",
            "1.3782103061676025 1.3782552480697632 0.743146538734436 0.7322874069213867 0.01837414875626564\n",
            "1.3884456157684326 1.3876290321350098 0.7428693771362305 0.7271429896354675 0.02066250517964363\n",
            "1.3842482566833496 1.3782334327697754 0.736292839050293 0.745360791683197 0.023095017299056053\n",
            "1.3931677341461182 1.3899033069610596 0.7240867018699646 0.7339756488800049 0.01904779113829136\n",
            "1.3825024366378784 1.3767104148864746 0.7447612881660461 0.7357555627822876 0.021379828453063965\n",
            "1.39547598361969 1.3923908472061157 0.7224963903427124 0.7255215644836426 0.017046190798282623\n",
            "1.37368643283844 1.3793697357177734 0.7388152480125427 0.7416197657585144 0.020740937441587448\n",
            "1.3822773694992065 1.3893049955368042 0.7259926199913025 0.7340230345726013 0.019214186817407608\n",
            "1.3767708539962769 1.3783985376358032 0.7415162920951843 0.7484724521636963 0.02321213111281395\n",
            "1.3977670669555664 1.3941290378570557 0.7326840758323669 0.7329328656196594 0.022016793489456177\n",
            "1.390251874923706 1.3987400531768799 0.730297863483429 0.7226459980010986 0.017965979874134064\n",
            "1.3733199834823608 1.3660776615142822 0.7415921092033386 0.7475470900535583 0.021519191563129425\n",
            "1.3810842037200928 1.3850111961364746 0.7216361165046692 0.7390574216842651 0.01696748659014702\n",
            "1.3827147483825684 1.3835989236831665 0.747750997543335 0.7434912323951721 0.025420580059289932\n",
            "1.391680121421814 1.3850312232971191 0.7412446737289429 0.7373315691947937 0.023772718384861946\n",
            "1.3780956268310547 1.3920848369598389 0.732938289642334 0.7422332167625427 0.021836794912815094\n",
            "1.391744613647461 1.39186692237854 0.7299923896789551 0.7265536189079285 0.01829558238387108\n",
            "1.372251272201538 1.3733144998550415 0.7423913478851318 0.7414464354515076 0.02134718745946884\n",
            "1.3787997961044312 1.3863545656204224 0.7271259427070618 0.7366605401039124 0.0171317458152771\n",
            "1.3879966735839844 1.3892900943756104 0.7236074209213257 0.7269459366798401 0.016674768179655075\n",
            "1.3790483474731445 1.3779606819152832 0.7256470322608948 0.7209669351577759 0.013748747296631336\n",
            "1.3798022270202637 1.3868169784545898 0.7420884370803833 0.7338750958442688 0.020047929137945175\n",
            "1.3892813920974731 1.3874194622039795 0.7256826758384705 0.7180514335632324 0.01563628949224949\n",
            "1.3870919942855835 1.3902466297149658 0.7329607605934143 0.7181101441383362 0.017390070483088493\n",
            "1.3878772258758545 1.3896608352661133 0.7390889525413513 0.7482233047485352 0.025708695873618126\n",
            "1.38751220703125 1.3815903663635254 0.7317070960998535 0.7188093066215515 0.014625230804085732\n",
            "1.3749606609344482 1.3914343118667603 0.7397008538246155 0.7205187678337097 0.01703837886452675\n",
            "1.3990285396575928 1.4023851156234741 0.7120677828788757 0.7455875277519226 0.0224742591381073\n",
            "1.3751280307769775 1.3768806457519531 0.7446916103363037 0.7388298511505127 0.020482167601585388\n",
            "1.3846409320831299 1.3889071941375732 0.7172020077705383 0.7200535535812378 0.015017032623291016\n",
            "1.3883569240570068 1.3780202865600586 0.7251013517379761 0.7110118865966797 0.011089256964623928\n",
            "1.3765276670455933 1.3820044994354248 0.7412092685699463 0.7332459092140198 0.020044248551130295\n",
            "1.3788625001907349 1.384037971496582 0.7424289584159851 0.7452746033668518 0.022360973060131073\n",
            "1.3926060199737549 1.4082250595092773 0.7249292135238647 0.730259895324707 0.020661458373069763\n",
            "1.3806309700012207 1.3917713165283203 0.7204645276069641 0.7598397135734558 0.02176973968744278\n",
            "1.3997414112091064 1.4095752239227295 0.7339361906051636 0.7292566299438477 0.02285652793943882\n",
            "1.3876255750656128 1.3771848678588867 0.7334747910499573 0.7257676720619202 0.018903950229287148\n",
            "1.3530558347702026 1.356255292892456 0.7458919286727905 0.7553068995475769 0.021703068166971207\n",
            "1.3563421964645386 1.3762918710708618 0.7200141549110413 0.7744704484939575 0.021367376670241356\n",
            "1.3293402194976807 1.3447999954223633 0.7536298036575317 0.7540007829666138 0.01941666752099991\n",
            "1.4182648658752441 1.4219729900360107 0.6972100734710693 0.7095508575439453 0.013548534363508224\n",
            "1.3904943466186523 1.3725285530090332 0.7271016240119934 0.7528072595596313 0.02262144349515438\n",
            "1.3823773860931396 1.3808488845825195 0.7216374278068542 0.7300899028778076 0.014913313090801239\n",
            "1.383697748184204 1.3685168027877808 0.730120837688446 0.714592456817627 0.012975163757801056\n",
            "1.3888568878173828 1.3910859823226929 0.7099298238754272 0.7096502184867859 0.01060081459581852\n",
            "1.3882333040237427 1.389120101928711 0.7204902768135071 0.7379025220870972 0.019430266693234444\n",
            "1.3968642950057983 1.4055180549621582 0.7105274200439453 0.7264499068260193 0.017124928534030914\n",
            "1.3893702030181885 1.3980441093444824 0.7147115468978882 0.7313774824142456 0.017328277230262756\n",
            "1.3843488693237305 1.3906354904174805 0.7381007671356201 0.7613839507102966 0.028979022055864334\n",
            "1.3969467878341675 1.3992700576782227 0.7344521284103394 0.749265193939209 0.025695934891700745\n",
            "1.391671061515808 1.3910305500030518 0.7275603413581848 0.7337146997451782 0.020489495247602463\n",
            "1.3886016607284546 1.3886644840240479 0.7329974174499512 0.7327204942703247 0.018829187378287315\n",
            "1.3855284452438354 1.3920738697052002 0.7337679862976074 0.7303076982498169 0.019603759050369263\n",
            "1.3824622631072998 1.3792028427124023 0.7442517280578613 0.7376644015312195 0.021828608587384224\n",
            "1.3831636905670166 1.3782861232757568 0.720029354095459 0.7231844663619995 0.01379990205168724\n",
            "1.3895447254180908 1.3915241956710815 0.7150271534919739 0.7172455787658691 0.01368547324091196\n",
            "1.3855788707733154 1.388798713684082 0.7202407717704773 0.7299472689628601 0.015973007306456566\n",
            "1.3901174068450928 1.393693447113037 0.7197003364562988 0.7326447367668152 0.019079137593507767\n",
            "1.3880804777145386 1.3911242485046387 0.7305100560188293 0.7215180397033691 0.015603420324623585\n",
            "1.3883161544799805 1.3841514587402344 0.7254862785339355 0.7281195521354675 0.018062353134155273\n",
            "1.3903207778930664 1.3907005786895752 0.7257607579231262 0.7286211252212524 0.018238719552755356\n",
            "1.3835185766220093 1.3856959342956543 0.7121217846870422 0.7230125665664673 0.01333530806005001\n",
            "1.3837817907333374 1.3787932395935059 0.7368085980415344 0.7387585639953613 0.02138623595237732\n",
            "1.3891278505325317 1.3956873416900635 0.7351110577583313 0.7362801432609558 0.020664356648921967\n",
            "1.3858014345169067 1.3808848857879639 0.7336069345474243 0.7271919846534729 0.016480881720781326\n",
            "1.3910112380981445 1.386040210723877 0.7390980124473572 0.7425751686096191 0.026378901675343513\n",
            "1.3966803550720215 1.3995380401611328 0.7329360246658325 0.7237644791603088 0.019481021910905838\n",
            "1.3774378299713135 1.3666558265686035 0.750953197479248 0.7346322536468506 0.020470108836889267\n",
            "1.39045250415802 1.391127109527588 0.726466953754425 0.7215582728385925 0.016261190176010132\n",
            "1.3861373662948608 1.384009599685669 0.7295189499855042 0.7291000485420227 0.01896797865629196\n",
            "1.3816946744918823 1.3816074132919312 0.7272970676422119 0.7201845049858093 0.012512128800153732\n",
            "1.3875350952148438 1.389614462852478 0.7343118190765381 0.7246276140213013 0.017106391489505768\n",
            "1.3896375894546509 1.3906197547912598 0.7274332046508789 0.7270001173019409 0.0185847207903862\n",
            "1.4037177562713623 1.3980400562286377 0.7374497652053833 0.7327673435211182 0.025134190917015076\n",
            "1.385718822479248 1.3933684825897217 0.7297425866127014 0.7266378998756409 0.017427895218133926\n",
            "1.3827186822891235 1.3789966106414795 0.7221319675445557 0.7235255837440491 0.01316466461867094\n",
            "1.3871119022369385 1.378098726272583 0.7483747601509094 0.7382146716117859 0.021823357790708542\n",
            "1.392250657081604 1.399573802947998 0.7253122925758362 0.7309983372688293 0.018777884542942047\n",
            "1.3841917514801025 1.3811960220336914 0.7092366218566895 0.7235062718391418 0.013451851904392242\n",
            "1.3880958557128906 1.3977714776992798 0.7161989212036133 0.7194629311561584 0.013899129815399647\n",
            "1.3898156881332397 1.4026052951812744 0.7227143049240112 0.7286167740821838 0.017985966056585312\n",
            "1.3853392601013184 1.388134479522705 0.7365946769714355 0.7325290441513062 0.02094307355582714\n",
            "1.388936161994934 1.3733947277069092 0.7397420406341553 0.7242549657821655 0.016467556357383728\n",
            "1.3806558847427368 1.383723258972168 0.7325544953346252 0.729415774345398 0.017066577449440956\n",
            "1.384049892425537 1.3981924057006836 0.7127549648284912 0.7298702001571655 0.01723497547209263\n",
            "1.3865478038787842 1.3828985691070557 0.7335239052772522 0.7297452688217163 0.0189182348549366\n",
            "1.3906258344650269 1.3735023736953735 0.7314968109130859 0.7153223156929016 0.012953652068972588\n",
            "1.372861385345459 1.356276035308838 0.7509710788726807 0.7366254925727844 0.018551427870988846\n",
            "1.389660120010376 1.391625165939331 0.7218030691146851 0.7329119443893433 0.018995190039277077\n",
            "1.3923664093017578 1.4139678478240967 0.7117738127708435 0.7231281995773315 0.01589662954211235\n",
            "1.3910388946533203 1.3894219398498535 0.7259197235107422 0.7364974617958069 0.02171739563345909\n",
            "1.3829741477966309 1.3838818073272705 0.7566959261894226 0.7381947040557861 0.025233831256628036\n",
            "1.3658761978149414 1.369825005531311 0.7417755722999573 0.7335429787635803 0.017045121639966965\n",
            "1.3985891342163086 1.4059457778930664 0.7104184627532959 0.7192187309265137 0.013784503564238548\n",
            "1.4030324220657349 1.4066014289855957 0.6984098553657532 0.7250903844833374 0.01581808738410473\n",
            "1.3846813440322876 1.3830454349517822 0.742246150970459 0.7371724843978882 0.022849932312965393\n",
            "1.380385398864746 1.383130431175232 0.7248623371124268 0.7313488721847534 0.017511531710624695\n",
            "1.401989459991455 1.417884111404419 0.7294009923934937 0.7375285029411316 0.023666858673095703\n",
            "1.3744258880615234 1.3736666440963745 0.7307528853416443 0.7342446446418762 0.017655594274401665\n",
            "1.3813941478729248 1.3765546083450317 0.7239405512809753 0.7261996865272522 0.013793337158858776\n",
            "1.3851354122161865 1.3841464519500732 0.7295552492141724 0.7328300476074219 0.01971815526485443\n",
            "1.3833520412445068 1.3863525390625 0.7391132712364197 0.7275315523147583 0.017844680696725845\n",
            "1.385951280593872 1.386275053024292 0.7000200152397156 0.7111704349517822 0.0065762558951973915\n",
            "1.3840701580047607 1.3769142627716064 0.7410527467727661 0.7334110736846924 0.01929117925465107\n",
            "1.3951095342636108 1.40110182762146 0.7186905145645142 0.7188201546669006 0.015165125951170921\n",
            "1.3861494064331055 1.3874716758728027 0.728407621383667 0.7262620329856873 0.016825471073389053\n",
            "1.3950145244598389 1.3962557315826416 0.731621503829956 0.7256649732589722 0.01957506500184536\n",
            "1.3894437551498413 1.3887615203857422 0.7184291481971741 0.7202613949775696 0.01451915968209505\n",
            "1.390028476715088 1.3890774250030518 0.7318565845489502 0.7341337203979492 0.021338697522878647\n",
            "1.3845317363739014 1.3829593658447266 0.7313194274902344 0.726448118686676 0.017785973846912384\n",
            "1.3838036060333252 1.3877766132354736 0.7328130602836609 0.729329526424408 0.017980391159653664\n",
            "1.3812742233276367 1.3838762044906616 0.7306249141693115 0.7261943221092224 0.016896899789571762\n",
            "1.3913402557373047 1.3833365440368652 0.7296433448791504 0.7070586085319519 0.011352269910275936\n",
            "1.379889965057373 1.3748736381530762 0.7304847836494446 0.7393998503684998 0.01953565701842308\n",
            "1.3771755695343018 1.3642997741699219 0.734427809715271 0.7446435689926147 0.020176393911242485\n",
            "1.3942410945892334 1.3849612474441528 0.720774233341217 0.7135187983512878 0.013639152981340885\n",
            "1.3896048069000244 1.3964635133743286 0.7164942026138306 0.7150721549987793 0.0126622524112463\n",
            "1.3893377780914307 1.3875157833099365 0.7236112356185913 0.7277750372886658 0.01670251227915287\n",
            "1.3782756328582764 1.37626314163208 0.7302598357200623 0.7225321531295776 0.013983102515339851\n",
            "1.3865801095962524 1.3955262899398804 0.7239080667495728 0.7427732944488525 0.02094467729330063\n",
            "1.3970589637756348 1.392735242843628 0.7247456908226013 0.7169601321220398 0.015762241557240486\n",
            "1.3802766799926758 1.3801789283752441 0.724851667881012 0.7196419835090637 0.012606052681803703\n",
            "1.3845257759094238 1.389540195465088 0.7259550094604492 0.722481369972229 0.014552515931427479\n",
            "1.381763219833374 1.3721940517425537 0.7351951599121094 0.7312788963317871 0.01664094626903534\n",
            "1.3833051919937134 1.380551815032959 0.7313376069068909 0.7217457294464111 0.01545289158821106\n",
            "1.3906116485595703 1.392282485961914 0.7190806865692139 0.7170168161392212 0.013022717088460922\n",
            "1.385944128036499 1.3806476593017578 0.7157254219055176 0.7110775709152222 0.00980027113109827\n",
            "1.3804576396942139 1.3766589164733887 0.7328968644142151 0.7320640087127686 0.017686249688267708\n",
            "1.3917477130889893 1.394372582435608 0.7172483801841736 0.7183021306991577 0.013644827529788017\n",
            "1.3805136680603027 1.3842185735702515 0.7220979928970337 0.7252399921417236 0.013994622975587845\n",
            "1.390425443649292 1.3887903690338135 0.7284848690032959 0.730065107345581 0.01922394335269928\n",
            "1.392844319343567 1.3920296430587769 0.7142024636268616 0.7216167449951172 0.014040300622582436\n",
            "1.3846367597579956 1.3833825588226318 0.7347203493118286 0.7285344004631042 0.018446017056703568\n",
            "1.3850278854370117 1.3833338022232056 0.7209489941596985 0.7245458364486694 0.015042264014482498\n",
            "1.386648178100586 1.3826401233673096 0.7251722812652588 0.7225298881530762 0.014415670186281204\n",
            "1.3902966976165771 1.3935472965240479 0.7297263741493225 0.7254704833030701 0.01799672469496727\n",
            "1.3900468349456787 1.3937711715698242 0.7184640765190125 0.7215247750282288 0.015276167541742325\n",
            "1.3875815868377686 1.3890604972839355 0.7362191081047058 0.7334069609642029 0.02089276909828186\n",
            "1.3809711933135986 1.3869640827178955 0.7270662188529968 0.7335418462753296 0.01901041716337204\n",
            "1.403485655784607 1.394457221031189 0.7224845290184021 0.7280178070068359 0.01847219094634056\n",
            "1.4135748147964478 1.4035933017730713 0.7261527180671692 0.7302867770195007 0.021879710257053375\n",
            "1.3897862434387207 1.3939546346664429 0.7172076106071472 0.7110521793365479 0.011910080909729004\n",
            "1.382505178451538 1.3826578855514526 0.7254452109336853 0.7330734133720398 0.017517810687422752\n",
            "1.382044792175293 1.38154935836792 0.7360706925392151 0.7227708697319031 0.01780100353062153\n",
            "1.390420913696289 1.3940856456756592 0.7194573283195496 0.7215312123298645 0.015369598753750324\n",
            "1.386007308959961 1.3822277784347534 0.7197481989860535 0.7130416035652161 0.011741381138563156\n",
            "1.387959599494934 1.3911980390548706 0.7211806774139404 0.7144460082054138 0.013548268005251884\n",
            "1.3906283378601074 1.3944852352142334 0.7221570014953613 0.7316984534263611 0.017468838021159172\n",
            "1.3884778022766113 1.394712209701538 0.7316861748695374 0.721358597278595 0.01810583844780922\n",
            "1.4046759605407715 1.4057071208953857 0.701399028301239 0.726814329624176 0.01665395312011242\n",
            "1.3893864154815674 1.3839021921157837 0.7335022687911987 0.7152007818222046 0.015524545684456825\n",
            "1.397517442703247 1.389356255531311 0.7115622162818909 0.7316757440567017 0.017885101959109306\n",
            "1.393147349357605 1.4009521007537842 0.7281253933906555 0.7109243273735046 0.013554217293858528\n",
            "1.3856507539749146 1.3773083686828613 0.7257246375083923 0.7197635769844055 0.013314099982380867\n",
            "1.383239507675171 1.3833024501800537 0.7241572737693787 0.7356011867523193 0.01872612163424492\n",
            "1.3796703815460205 1.3700240850448608 0.7369843125343323 0.7331670522689819 0.017404738813638687\n",
            "1.3910070657730103 1.3923208713531494 0.7127479314804077 0.7307504415512085 0.016792310401797295\n",
            "1.386630892753601 1.3862049579620361 0.7329744696617126 0.7223660945892334 0.015921233221888542\n",
            "1.3864562511444092 1.385613203048706 0.7359318733215332 0.7319697737693787 0.019401172176003456\n",
            "1.3828943967819214 1.3859550952911377 0.7204216122627258 0.7266736626625061 0.015447583049535751\n",
            "1.3857165575027466 1.38966703414917 0.7234714031219482 0.7256039381027222 0.015760239213705063\n",
            "1.3860318660736084 1.3772403001785278 0.7291473150253296 0.725795567035675 0.016955194994807243\n",
            "1.3875596523284912 1.3911269903182983 0.7263643145561218 0.722016453742981 0.016565363854169846\n",
            "1.3774787187576294 1.3523755073547363 0.7443127632141113 0.7483341693878174 0.023010658100247383\n",
            "1.388472080230713 1.3822343349456787 0.7342122793197632 0.7326005697250366 0.020646441727876663\n",
            "1.387439250946045 1.3850228786468506 0.7238280177116394 0.7150260806083679 0.011476429179310799\n",
            "1.3851879835128784 1.3936724662780762 0.7187532186508179 0.7280083298683167 0.016650570556521416\n",
            "1.3892114162445068 1.3851598501205444 0.7245875000953674 0.7221907377243042 0.015227232128381729\n",
            "1.3857241868972778 1.3846123218536377 0.7314371466636658 0.7333959341049194 0.019831087440252304\n",
            "1.3906772136688232 1.3837230205535889 0.7248255610466003 0.7230976819992065 0.015415389090776443\n",
            "1.3916206359863281 1.3902033567428589 0.7306333780288696 0.729905903339386 0.019992593675851822\n",
            "1.3871736526489258 1.3863139152526855 0.7149953842163086 0.7192727327346802 0.012470711022615433\n",
            "1.3886239528656006 1.3858509063720703 0.7275516390800476 0.7258203029632568 0.01741841994225979\n",
            "1.3875774145126343 1.3847675323486328 0.7239986658096313 0.7255055904388428 0.015888072550296783\n",
            "1.3828330039978027 1.3806822299957275 0.7247709631919861 0.719810426235199 0.013517137616872787\n",
            "1.385005235671997 1.3794457912445068 0.7311311960220337 0.7301797866821289 0.016743844375014305\n",
            "1.386537790298462 1.3808822631835938 0.7250436544418335 0.7254633903503418 0.015100769698619843\n",
            "1.3976891040802002 1.3841321468353271 0.7262195348739624 0.7227197289466858 0.018110189586877823\n",
            "1.3803648948669434 1.372811198234558 0.747376024723053 0.7182011604309082 0.02106262929737568\n",
            "1.3681819438934326 1.36738121509552 0.7396121621131897 0.728754997253418 0.015366429463028908\n",
            "1.3898180723190308 1.3892959356307983 0.7061449289321899 0.7207126617431641 0.012285307049751282\n",
            "1.386812448501587 1.3913902044296265 0.7322185635566711 0.7239934802055359 0.016408853232860565\n",
            "1.3898956775665283 1.3930211067199707 0.7161948084831238 0.7241932153701782 0.015249250456690788\n",
            "1.4000952243804932 1.395867109298706 0.7095633149147034 0.7132148146629333 0.012263133190572262\n",
            "1.3827147483825684 1.3885973691940308 0.72102290391922 0.7257106304168701 0.014882354065775871\n",
            "1.3796098232269287 1.3801956176757812 0.7335017323493958 0.7421082258224487 0.020651066675782204\n",
            "1.3958353996276855 1.3893320560455322 0.7133638858795166 0.7137564420700073 0.011601824313402176\n",
            "1.3828145265579224 1.376450538635254 0.7261138558387756 0.7247001528739929 0.01421895157545805\n",
            "1.3866344690322876 1.394299030303955 0.7364146113395691 0.7321165800094604 0.01984231360256672\n",
            "1.3763335943222046 1.3864048719406128 0.7209193706512451 0.7280911207199097 0.015253761783242226\n",
            "1.3839497566223145 1.3805880546569824 0.7238645553588867 0.7288728356361389 0.016587816178798676\n",
            "1.3865621089935303 1.3771336078643799 0.7349360585212708 0.7295196652412415 0.01793690398335457\n",
            "1.378485083580017 1.3743140697479248 0.7302539944648743 0.7240161299705505 0.015480714850127697\n",
            "1.3794567584991455 1.3729124069213867 0.7382537722587585 0.7369419932365417 0.019784245640039444\n",
            "1.387630820274353 1.3862624168395996 0.7219695448875427 0.7246536612510681 0.014701718464493752\n",
            "1.385596513748169 1.38851797580719 0.7332867980003357 0.7307692766189575 0.01795836165547371\n",
            "1.3845700025558472 1.3823890686035156 0.731543242931366 0.7323578596115112 0.01892033964395523\n",
            "1.3866653442382812 1.3867881298065186 0.713840901851654 0.7165320515632629 0.011213712394237518\n",
            "1.385011911392212 1.38251531124115 0.7179720997810364 0.7191334366798401 0.012778823263943195\n",
            "1.3848958015441895 1.3808152675628662 0.7271238565444946 0.723563015460968 0.014916479587554932\n",
            "1.3822413682937622 1.3766579627990723 0.7305994629859924 0.7303622364997864 0.01720253750681877\n",
            "1.3900022506713867 1.3953158855438232 0.7242870926856995 0.721825897693634 0.015944533050060272\n",
            "1.3788259029388428 1.3830695152282715 0.7174403667449951 0.7226293087005615 0.014047637581825256\n",
            "1.3836395740509033 1.3893077373504639 0.7330529093742371 0.7258858680725098 0.01895146630704403\n",
            "1.3807467222213745 1.3760743141174316 0.736066997051239 0.729324221611023 0.019697867333889008\n",
            "1.3857722282409668 1.384275197982788 0.7257022857666016 0.7241265773773193 0.0158339012414217\n",
            "1.3921809196472168 1.3879063129425049 0.7241994738578796 0.7254630923271179 0.014986315742135048\n",
            "1.3827792406082153 1.369978427886963 0.7418652772903442 0.7386795282363892 0.02059614285826683\n",
            "1.3819530010223389 1.3843743801116943 0.7216987013816833 0.7285855412483215 0.015793027356266975\n",
            "1.3865993022918701 1.3863877058029175 0.7166833281517029 0.7225649356842041 0.013314862735569477\n",
            "1.3823840618133545 1.3847997188568115 0.7050462365150452 0.7100817561149597 0.006180260330438614\n",
            "1.3918538093566895 1.3838274478912354 0.7292114496231079 0.7189086079597473 0.014408210292458534\n",
            "1\n",
            "1.3821899890899658 1.383206844329834 0.7196702361106873 0.7164532542228699 0.010147960856556892\n",
            "1.3807889223098755 1.3770925998687744 0.7274152040481567 0.7281033992767334 0.016720786690711975\n",
            "1.3899693489074707 1.3836954832077026 0.7245214581489563 0.7209194302558899 0.014599442481994629\n",
            "1.4001473188400269 1.4051942825317383 0.712999165058136 0.7160553336143494 0.015270190313458443\n",
            "1.3906315565109253 1.381886601448059 0.7213669419288635 0.7219065427780151 0.014959709718823433\n",
            "1.3929518461227417 1.387890338897705 0.7161257863044739 0.7217196226119995 0.014338012784719467\n",
            "1.3888403177261353 1.3874380588531494 0.7171432971954346 0.7207695245742798 0.014415431767702103\n",
            "1.3916229009628296 1.3890924453735352 0.7110268473625183 0.7131912708282471 0.010841822251677513\n",
            "1.3844561576843262 1.3840373754501343 0.7252638339996338 0.7148021459579468 0.013999992050230503\n",
            "1.3844197988510132 1.3872281312942505 0.7283992767333984 0.7207763195037842 0.01545782946050167\n",
            "1.3908112049102783 1.3905410766601562 0.7187427282333374 0.7241213321685791 0.014933319762349129\n",
            "1.3820557594299316 1.3876783847808838 0.7178921699523926 0.7209473848342896 0.012829698622226715\n",
            "1.3904967308044434 1.3968908786773682 0.7158067226409912 0.7166367769241333 0.01256738230586052\n",
            "1.383303165435791 1.383802056312561 0.7316062450408936 0.7288535237312317 0.017924683168530464\n",
            "1.3859224319458008 1.3836699724197388 0.728218138217926 0.7168098092079163 0.013539178296923637\n",
            "1.387040138244629 1.3872184753417969 0.7279855012893677 0.7294137477874756 0.017925962805747986\n",
            "1.3881845474243164 1.388504981994629 0.715351939201355 0.7162156105041504 0.011931102722883224\n",
            "1.3869088888168335 1.3864431381225586 0.7271896600723267 0.7242150902748108 0.017110293731093407\n",
            "1.3884172439575195 1.3913321495056152 0.7161291837692261 0.718014121055603 0.013531437143683434\n",
            "1.3859844207763672 1.389976978302002 0.7217764258384705 0.7247185707092285 0.015277993865311146\n",
            "1.3962692022323608 1.3930306434631348 0.7196640372276306 0.718093991279602 0.015160299837589264\n",
            "1.3812808990478516 1.3870517015457153 0.7051876187324524 0.7104929685592651 0.008430244401097298\n",
            "1.3882229328155518 1.3921416997909546 0.7167732119560242 0.7216726541519165 0.014838481321930885\n",
            "1.389939308166504 1.3914940357208252 0.7158367037773132 0.7194820046424866 0.014005864039063454\n",
            "1.3876557350158691 1.3861331939697266 0.7100745439529419 0.712925136089325 0.010044217109680176\n",
            "1.3836935758590698 1.3844530582427979 0.719901978969574 0.716738224029541 0.012278927490115166\n",
            "1.3938181400299072 1.3872106075286865 0.7213804721832275 0.7233562469482422 0.015458701178431511\n",
            "1.3890554904937744 1.388667106628418 0.7165344953536987 0.7103544473648071 0.010893221944570541\n",
            "1.3985545635223389 1.3866643905639648 0.7289120554924011 0.7338313460350037 0.0200676117092371\n",
            "1.4054958820343018 1.3981881141662598 0.7132503986358643 0.718451201915741 0.013993638567626476\n",
            "1.3812711238861084 1.3895395994186401 0.7112237215042114 0.7157226204872131 0.01042104046791792\n",
            "1.39137601852417 1.3882840871810913 0.7146517634391785 0.7124667167663574 0.01120377704501152\n",
            "1.381078839302063 1.3828108310699463 0.7204655408859253 0.7236819863319397 0.013945799320936203\n",
            "1.3803561925888062 1.378359317779541 0.7165044546127319 0.7236636281013489 0.012343624606728554\n",
            "1.3918797969818115 1.3801630735397339 0.7163177728652954 0.7119374871253967 0.010460756719112396\n",
            "1.3874995708465576 1.383832335472107 0.7257031202316284 0.7248731851577759 0.014061315916478634\n",
            "1.3968088626861572 1.3916280269622803 0.7169440984725952 0.7129689455032349 0.01374192163348198\n",
            "1.3817322254180908 1.37998366355896 0.7305586338043213 0.7347341775894165 0.01836448162794113\n",
            "1.3918092250823975 1.38972806930542 0.7192805409431458 0.7332140803337097 0.017371919006109238\n",
            "1.3905738592147827 1.3904128074645996 0.7140569090843201 0.7202965021133423 0.011982401832938194\n",
            "1.3629307746887207 1.366461157798767 0.7317541241645813 0.7382064461708069 0.015097389928996563\n",
            "1.3751336336135864 1.3752548694610596 0.719417929649353 0.7248215079307556 0.01153735350817442\n",
            "1.3602046966552734 1.3713674545288086 0.7399928569793701 0.7311108112335205 0.016861889511346817\n",
            "1.4053139686584473 1.4039345979690552 0.7108999490737915 0.7136576771736145 0.013679882511496544\n",
            "1.3711049556732178 1.3741607666015625 0.7147274017333984 0.7261779308319092 0.010863786563277245\n",
            "1.3905552625656128 1.379953145980835 0.7261675000190735 0.7154907584190369 0.013155420310795307\n",
            "1.3778502941131592 1.37729811668396 0.7184196710586548 0.7213936448097229 0.011349228210747242\n",
            "1.3842487335205078 1.3942235708236694 0.7130683660507202 0.7071539163589478 0.009486106224358082\n",
            "1.3776652812957764 1.3800801038742065 0.7270716428756714 0.7369774580001831 0.018236193805933\n",
            "1.3665270805358887 1.3728731870651245 0.7311915755271912 0.7199660539627075 0.01057090237736702\n",
            "1.3693454265594482 1.3695120811462402 0.7278613448143005 0.7362267374992371 0.015744630247354507\n",
            "1.4032697677612305 1.3984017372131348 0.7212499976158142 0.7176700830459595 0.016350703313946724\n",
            "1.3874715566635132 1.3895528316497803 0.7138122916221619 0.7082056403160095 0.00962939765304327\n",
            "1.3660855293273926 1.378702163696289 0.7295804619789124 0.734852135181427 0.015518184751272202\n",
            "1.388397455215454 1.3801860809326172 0.7340296506881714 0.6968094110488892 0.014154002070426941\n",
            "1.39753258228302 1.3836312294006348 0.7264202833175659 0.7205700278282166 0.016379471868276596\n",
            "1.3702521324157715 1.3765909671783447 0.7224722504615784 0.7142543792724609 0.010745201259851456\n",
            "1.388014316558838 1.3888938426971436 0.7167347073554993 0.6943831443786621 0.00881410576403141\n",
            "1.3747680187225342 1.374634027481079 0.7227229475975037 0.7109281420707703 0.00982617773115635\n",
            "1.4097473621368408 1.4032070636749268 0.7214035391807556 0.7089777588844299 0.01543158758431673\n",
            "1.4275259971618652 1.4163110256195068 0.7126452326774597 0.7064043283462524 0.015096781775355339\n",
            "1.3988747596740723 1.3971850872039795 0.7109259963035583 0.7320016622543335 0.015184161253273487\n",
            "1.4004242420196533 1.3981746435165405 0.7135130167007446 0.7136052846908569 0.0127065759152174\n",
            "1.3951425552368164 1.400740146636963 0.7178127765655518 0.726283609867096 0.016985755413770676\n",
            "1.3787304162979126 1.378472089767456 0.7205865383148193 0.7251764535903931 0.012337571009993553\n",
            "1.386754035949707 1.3833401203155518 0.7263614535331726 0.726174533367157 0.01628449745476246\n",
            "1.3879945278167725 1.3783841133117676 0.7259552478790283 0.72104412317276 0.014489514753222466\n",
            "1.3886098861694336 1.385373830795288 0.7213011980056763 0.7222599983215332 0.014417757280170918\n",
            "1.3938969373703003 1.3871995210647583 0.7188512682914734 0.7161512970924377 0.013084805570542812\n",
            "1.3850234746932983 1.3915960788726807 0.7095658779144287 0.7152994275093079 0.010113345459103584\n",
            "1.3865550756454468 1.3853591680526733 0.7303834557533264 0.733212947845459 0.019235186278820038\n",
            "1.383176326751709 1.3842833042144775 0.7160000205039978 0.7210461497306824 0.012087954208254814\n",
            "1.390958309173584 1.3884656429290771 0.7131743431091309 0.712403416633606 0.010727246291935444\n",
            "1.3863521814346313 1.3881654739379883 0.7138018608093262 0.7154371738433838 0.010267196223139763\n",
            "1.3824241161346436 1.3804413080215454 0.7235747575759888 0.7198171019554138 0.013124849647283554\n",
            "1.385122299194336 1.3858063220977783 0.724323034286499 0.7319521903991699 0.017780795693397522\n",
            "1.3864396810531616 1.382049798965454 0.7224388122558594 0.7249253392219543 0.01554550975561142\n",
            "1.381279706954956 1.3877027034759521 0.7114390134811401 0.712873101234436 0.009088326245546341\n",
            "1.3874397277832031 1.3871831893920898 0.7142253518104553 0.721298098564148 0.012667931616306305\n",
            "1.3829023838043213 1.3807697296142578 0.7233491539955139 0.7176492810249329 0.012032197788357735\n",
            "1.3816211223602295 1.3866273164749146 0.7240708470344543 0.7207912802696228 0.014741024933755398\n",
            "1.3860251903533936 1.3881919384002686 0.7247630953788757 0.7276665568351746 0.017256107181310654\n",
            "1.3825947046279907 1.3811346292495728 0.7101746797561646 0.7197600603103638 0.011393152177333832\n",
            "1.3840223550796509 1.3824514150619507 0.7365368604660034 0.7317454218864441 0.019599027931690216\n",
            "1.381761908531189 1.3752403259277344 0.7230806350708008 0.7220331430435181 0.013587221503257751\n",
            "1.3861041069030762 1.3870959281921387 0.7172598242759705 0.7179750204086304 0.012557350099086761\n",
            "1.3878368139266968 1.3888938426971436 0.7117249369621277 0.7101002931594849 0.009965840727090836\n",
            "1.388601303100586 1.3956224918365479 0.7088271975517273 0.7097486853599548 0.009832335636019707\n",
            "1.3908640146255493 1.392435073852539 0.7191048264503479 0.7161797285079956 0.013009995222091675\n",
            "1.3832157850265503 1.3683819770812988 0.7296594381332397 0.720950186252594 0.013740649446845055\n",
            "1.3856782913208008 1.3761065006256104 0.7259791493415833 0.7245551943778992 0.015030214563012123\n",
            "1.3859007358551025 1.389549970626831 0.7182878851890564 0.716246485710144 0.011372643522918224\n",
            "1.3925549983978271 1.3897578716278076 0.7134393453598022 0.7103926539421082 0.010468455962836742\n",
            "1.390709400177002 1.3891521692276 0.717757523059845 0.7114343643188477 0.010764893144369125\n",
            "1.3830761909484863 1.3847334384918213 0.7168656587600708 0.722050666809082 0.012367702089250088\n",
            "1.3834459781646729 1.3852083683013916 0.7231106162071228 0.7202315330505371 0.012685648165643215\n",
            "1.3858649730682373 1.3857147693634033 0.7187623977661133 0.7229765057563782 0.014230134896934032\n",
            "1.3836579322814941 1.3806252479553223 0.7230623960494995 0.7152612805366516 0.011296311393380165\n",
            "1.3869922161102295 1.3899481296539307 0.717797577381134 0.7204198241233826 0.01406356692314148\n",
            "1.3892264366149902 1.3869998455047607 0.7289474010467529 0.7276487350463867 0.018338726833462715\n",
            "1.3956072330474854 1.389571189880371 0.7265710234642029 0.7167450785636902 0.014600775204598904\n",
            "1.381962537765503 1.372571587562561 0.7328759431838989 0.7154439687728882 0.012399952858686447\n",
            "1.3705846071243286 1.3785619735717773 0.7236257791519165 0.7211200594902039 0.011728895828127861\n",
            "1.39319908618927 1.406386137008667 0.7156972885131836 0.7208724617958069 0.013226637616753578\n",
            "1.385633945465088 1.3963899612426758 0.7337198257446289 0.7078090906143188 0.011505559086799622\n",
            "1.3756749629974365 1.3656845092773438 0.7254303693771362 0.7178351283073425 0.009435470215976238\n",
            "1.3818209171295166 1.388073444366455 0.7203595638275146 0.7201077342033386 0.01177255529910326\n",
            "1.3936727046966553 1.3937420845031738 0.7157071232795715 0.7119894623756409 0.01184367947280407\n",
            "1.3860094547271729 1.3874269723892212 0.7277750968933105 0.7109116315841675 0.013702698051929474\n",
            "1.391568660736084 1.3888671398162842 0.7276803255081177 0.7063935995101929 0.011727795004844666\n",
            "1.3930704593658447 1.4010517597198486 0.7116516828536987 0.7136159539222717 0.01223880983889103\n",
            "1.3963072299957275 1.3971115350723267 0.7025508880615234 0.7282252907752991 0.015722358599305153\n",
            "1.388517141342163 1.3893961906433105 0.7248493432998657 0.7294094562530518 0.015961356461048126\n",
            "1.3756842613220215 1.3645284175872803 0.7302815318107605 0.7376919388771057 0.01545946765691042\n",
            "1.3834006786346436 1.380823016166687 0.7346664667129517 0.7224518656730652 0.014422744512557983\n",
            "1.3745841979980469 1.3825485706329346 0.7162236571311951 0.7237651348114014 0.01087457500398159\n",
            "1.393907070159912 1.3997485637664795 0.7069639563560486 0.7216803431510925 0.013643329963088036\n",
            "1.3817033767700195 1.3830689191818237 0.7205668687820435 0.7160425186157227 0.010744677856564522\n",
            "1.3911256790161133 1.3910452127456665 0.7202581167221069 0.7141302824020386 0.011819584295153618\n",
            "1.38498055934906 1.3895115852355957 0.7122462391853333 0.7152819037437439 0.013324854895472527\n",
            "1.3950376510620117 1.3971328735351562 0.7092587351799011 0.7120447754859924 0.011382661759853363\n",
            "1.3761706352233887 1.3744785785675049 0.7229444980621338 0.7130817174911499 0.010014608502388\n",
            "1.391334891319275 1.3880674839019775 0.7240802049636841 0.7156088948249817 0.012220751494169235\n",
            "1.3818840980529785 1.3817379474639893 0.7220829725265503 0.7157586216926575 0.011708966456353664\n",
            "1.3851473331451416 1.3856496810913086 0.717527449131012 0.7080918550491333 0.009324626997113228\n",
            "1.3850862979888916 1.3817763328552246 0.7131441831588745 0.7198436260223389 0.009516529738903046\n",
            "1.3993260860443115 1.3973898887634277 0.7118324041366577 0.7161335945129395 0.01282300241291523\n",
            "1.36995267868042 1.3732242584228516 0.7209638357162476 0.7297600507736206 0.013028036803007126\n",
            "1.3815803527832031 1.389547348022461 0.7187119126319885 0.7202940583229065 0.01397030334919691\n",
            "1.3800487518310547 1.3871535062789917 0.7220839262008667 0.7292807698249817 0.014736946672201157\n",
            "1.3795790672302246 1.3728736639022827 0.7170548439025879 0.7301836013793945 0.012639705091714859\n",
            "1.3729511499404907 1.3759775161743164 0.7218545079231262 0.7123419642448425 0.008225860074162483\n",
            "1.3776195049285889 1.3769662380218506 0.717031717300415 0.7274200320243835 0.012693128548562527\n",
            "1.395157814025879 1.4129621982574463 0.700558602809906 0.7211557626724243 0.015232009813189507\n",
            "1.3862926959991455 1.3905773162841797 0.7148875594139099 0.7219954133033752 0.012706270441412926\n",
            "1.3635413646697998 1.3771064281463623 0.7281869649887085 0.7283506393432617 0.011686645448207855\n",
            "1.3690565824508667 1.3788646459579468 0.7193648219108582 0.7332724928855896 0.011686176992952824\n",
            "1.3722479343414307 1.3772704601287842 0.724578857421875 0.7277648448944092 0.014119927771389484\n",
            "1.3980469703674316 1.3877325057983398 0.7150865197181702 0.7132905125617981 0.011176119558513165\n",
            "1.3609057664871216 1.3758701086044312 0.7252863049507141 0.74776691198349 0.01603011041879654\n",
            "1.3731430768966675 1.3834030628204346 0.7282117009162903 0.7489914894104004 0.0207687821239233\n",
            "1.3657329082489014 1.3749902248382568 0.7286283373832703 0.729155957698822 0.014054309576749802\n",
            "1.3752715587615967 1.3898890018463135 0.7203125953674316 0.7139684557914734 0.012452328577637672\n",
            "1.3551416397094727 1.379692792892456 0.7206392288208008 0.7223645448684692 0.011116491630673409\n",
            "1.3900214433670044 1.3883370161056519 0.7265081405639648 0.7207093238830566 0.014915840700268745\n",
            "1.380892276763916 1.3963028192520142 0.7128534317016602 0.7149546146392822 0.01093929260969162\n",
            "1.3975269794464111 1.389404535293579 0.7146645784378052 0.7004934549331665 0.010920263826847076\n",
            "1.396390676498413 1.3893449306488037 0.7313413619995117 0.7133609652519226 0.016839295625686646\n",
            "1.3685293197631836 1.369492769241333 0.720366358757019 0.7293315529823303 0.01134408637881279\n",
            "1.353473424911499 1.3677031993865967 0.7220902442932129 0.716881275177002 0.008694276213645935\n",
            "1.3386821746826172 1.3719420433044434 0.7292078137397766 0.7516661286354065 0.015263768844306469\n",
            "1.3589427471160889 1.3790409564971924 0.733487069606781 0.7366796135902405 0.014905460178852081\n",
            "1.4117217063903809 1.398329257965088 0.6991095542907715 0.7102038264274597 0.010253392159938812\n",
            "1.38701593875885 1.3866631984710693 0.7145989537239075 0.7151857614517212 0.01262236014008522\n",
            "1.3857343196868896 1.3864736557006836 0.7076822519302368 0.7366301417350769 0.010150511749088764\n",
            "1.3535683155059814 1.3807010650634766 0.7204707860946655 0.7212514281272888 0.010310186073184013\n",
            "1.392266035079956 1.3981287479400635 0.7030263543128967 0.7188192009925842 0.008566806092858315\n",
            "1.4008948802947998 1.3902413845062256 0.731799840927124 0.7182795405387878 0.02007964625954628\n",
            "1.365915060043335 1.3754067420959473 0.7297937870025635 0.7335805892944336 0.015474239364266396\n",
            "1.3905138969421387 1.3893795013427734 0.6931635141372681 0.7184537649154663 0.004897200036793947\n",
            "1.383022427558899 1.3801944255828857 0.7133884429931641 0.7225885391235352 0.011613155715167522\n",
            "1.365656852722168 1.3851839303970337 0.720563530921936 0.7261096239089966 0.013216843828558922\n",
            "1.3986461162567139 1.3876820802688599 0.7135097980499268 0.70470130443573 0.010211514309048653\n",
            "1.3900352716445923 1.389305830001831 0.7208117842674255 0.7199749946594238 0.013785449787974358\n",
            "1.396843433380127 1.3945164680480957 0.7139737010002136 0.7133200764656067 0.011628888547420502\n",
            "1.3878052234649658 1.391923427581787 0.7018870115280151 0.7233550548553467 0.01095379889011383\n",
            "1.3970046043395996 1.3998470306396484 0.7029291391372681 0.7203914523124695 0.01171201653778553\n",
            "1.3792381286621094 1.3867008686065674 0.7190579771995544 0.7225745320320129 0.013086986728012562\n",
            "1.3762764930725098 1.383866786956787 0.7080466747283936 0.73530113697052 0.010376766324043274\n",
            "1.389333963394165 1.3830859661102295 0.7249389886856079 0.7289827466011047 0.01572473905980587\n",
            "1.3929848670959473 1.4017548561096191 0.6930935382843018 0.718386173248291 0.008855782449245453\n",
            "1.3814727067947388 1.3734378814697266 0.7327548265457153 0.7264699935913086 0.015475735068321228\n",
            "1.3623394966125488 1.3598227500915527 0.716745913028717 0.7223554253578186 0.008158310316503048\n",
            "1.3839521408081055 1.3906464576721191 0.716793954372406 0.7162081003189087 0.011408885940909386\n",
            "1.37455153465271 1.3768627643585205 0.7125261425971985 0.7245652675628662 0.009619739837944508\n",
            "1.388227939605713 1.3889473676681519 0.7239391803741455 0.7071784734725952 0.012140106409788132\n",
            "1.4009552001953125 1.3897736072540283 0.7106542587280273 0.7091677188873291 0.010774885304272175\n",
            "1.3999762535095215 1.3980317115783691 0.7142835259437561 0.7095906734466553 0.01143930945545435\n",
            "1.4008101224899292 1.399567723274231 0.7240453958511353 0.7156417369842529 0.014733949676156044\n",
            "1.3732374906539917 1.3782155513763428 0.7123780846595764 0.7225965261459351 0.008699797093868256\n",
            "1.3834378719329834 1.3822641372680664 0.7301007509231567 0.7251636981964111 0.014370610937476158\n",
            "1.4132492542266846 1.4117119312286377 0.6952989101409912 0.6886350512504578 0.00792122632265091\n",
            "1.3945612907409668 1.3876254558563232 0.7454035878181458 0.728009045124054 0.021328341215848923\n",
            "1.3830664157867432 1.389613389968872 0.7253535389900208 0.7203691601753235 0.013961637392640114\n",
            "1.409501552581787 1.403451919555664 0.7187433838844299 0.6872623562812805 0.009570815600454807\n",
            "1.3954722881317139 1.4002838134765625 0.7083611488342285 0.7158849239349365 0.012185745872557163\n",
            "1.391552448272705 1.3883345127105713 0.7101336121559143 0.7066314220428467 0.009070095606148243\n",
            "1.3810337781906128 1.3791542053222656 0.7176280617713928 0.7165564894676208 0.011585008352994919\n",
            "1.3862494230270386 1.380303978919983 0.7194782495498657 0.7149562239646912 0.011183077469468117\n",
            "1.3943071365356445 1.388316035270691 0.7248871922492981 0.7139134407043457 0.014441238716244698\n",
            "1.3837568759918213 1.3891923427581787 0.7067494988441467 0.7174762487411499 0.009669766761362553\n",
            "1.3813130855560303 1.3834998607635498 0.7201139330863953 0.7260743975639343 0.014257214963436127\n",
            "1.39725661277771 1.397718906402588 0.7148914933204651 0.6977892518043518 0.008972175419330597\n",
            "1.3788354396820068 1.3815144300460815 0.7142278552055359 0.7130104303359985 0.00830112025141716\n",
            "1.3924200534820557 1.3813655376434326 0.7237849235534668 0.7162304520606995 0.01314344722777605\n",
            "1.3893805742263794 1.3889920711517334 0.7097097635269165 0.7070543169975281 0.008192979730665684\n",
            "1.3850188255310059 1.3845875263214111 0.7211791276931763 0.7279551029205322 0.015053560957312584\n",
            "1.3893027305603027 1.3897343873977661 0.7129043936729431 0.7176527976989746 0.011740412563085556\n",
            "1.383681058883667 1.384187936782837 0.7145372033119202 0.7293089628219604 0.013922546058893204\n",
            "1.3782446384429932 1.374882459640503 0.7180882096290588 0.7065542340278625 0.007628742605447769\n",
            "1.3904809951782227 1.3901286125183105 0.7153147459030151 0.7121579647064209 0.011763617396354675\n",
            "1.3695719242095947 1.3767603635787964 0.726679265499115 0.7378597855567932 0.015699533745646477\n",
            "1.3866102695465088 1.3778400421142578 0.7173986434936523 0.7294954061508179 0.013519381172955036\n",
            "1.3924245834350586 1.3883061408996582 0.7163063883781433 0.7113497853279114 0.009391499683260918\n",
            "1.3874328136444092 1.3815391063690186 0.7244088649749756 0.7199907302856445 0.01435121800750494\n",
            "1.3925446271896362 1.4003092050552368 0.7093088626861572 0.7146004438400269 0.01233651116490364\n",
            "1.3891990184783936 1.388563871383667 0.7081666588783264 0.7044737935066223 0.008225373923778534\n",
            "1.3858184814453125 1.3803694248199463 0.7206681966781616 0.714354395866394 0.012260988354682922\n",
            "1.3856412172317505 1.3876599073410034 0.7092556953430176 0.7238306999206543 0.01157219335436821\n",
            "1.3934001922607422 1.3823282718658447 0.7377078533172607 0.7110641598701477 0.01653102971613407\n",
            "1.3784593343734741 1.3782528638839722 0.7107194066047668 0.7196875810623169 0.0111255357041955\n",
            "1.354235053062439 1.3451834917068481 0.7369709610939026 0.7217463850975037 0.010270996950566769\n",
            "1.3935439586639404 1.3928911685943604 0.703022837638855 0.708890974521637 0.008689375594258308\n",
            "1.3701097965240479 1.3700506687164307 0.713091254234314 0.7292884588241577 0.008864139206707478\n",
            "1.364276647567749 1.3689582347869873 0.7193042635917664 0.7262025475502014 0.010880855843424797\n",
            "1.374117136001587 1.3647339344024658 0.711142897605896 0.7246091961860657 0.00986440759152174\n",
            "1.3760159015655518 1.3819303512573242 0.7282233238220215 0.7217215895652771 0.01549459621310234\n",
            "1.3773428201675415 1.3699623346328735 0.7464884519577026 0.7182815074920654 0.015341183170676231\n",
            "1.4093997478485107 1.4083534479141235 0.7050982713699341 0.6893104910850525 0.009843261912465096\n",
            "1.387648344039917 1.3768947124481201 0.6867470741271973 0.7264813184738159 0.008694617077708244\n",
            "1.3873794078826904 1.3960907459259033 0.6970880627632141 0.7122579216957092 0.010097726248204708\n",
            "1.3900413513183594 1.3832281827926636 0.7099407315254211 0.7156974077224731 0.010306721553206444\n",
            "1.3752539157867432 1.3667171001434326 0.7331473231315613 0.7248799800872803 0.011983601376414299\n",
            "1.3961833715438843 1.422866702079773 0.7050904631614685 0.71439528465271 0.0152266975492239\n",
            "1.408334732055664 1.3992729187011719 0.7304972410202026 0.694402277469635 0.012664368376135826\n",
            "1.3948832750320435 1.3909026384353638 0.712407648563385 0.7106978893280029 0.01070934347808361\n",
            "1.4012253284454346 1.3912670612335205 0.7009987831115723 0.7181000709533691 0.011297047138214111\n",
            "1.381410002708435 1.3895468711853027 0.7187696099281311 0.708035409450531 0.009651455096900463\n",
            "1.3696832656860352 1.387485384941101 0.7137463092803955 0.7233808636665344 0.01204234454780817\n",
            "1.3773937225341797 1.3698893785476685 0.7107245922088623 0.7130062580108643 0.005404869560152292\n",
            "1.3955754041671753 1.3979036808013916 0.7150201201438904 0.7069358229637146 0.007553459145128727\n",
            "1.4076645374298096 1.3896267414093018 0.7365448474884033 0.7094070315361023 0.017883293330669403\n",
            "1.3922806978225708 1.3958384990692139 0.713765025138855 0.7045083045959473 0.010993137955665588\n",
            "1.4151124954223633 1.413163185119629 0.7024232149124146 0.714538037776947 0.01501755602657795\n",
            "1.386946201324463 1.4022631645202637 0.7344871163368225 0.7026963829994202 0.014748981222510338\n",
            "1.3927887678146362 1.4203273057937622 0.7553576827049255 0.6702426671981812 0.013746583834290504\n",
            "1.378420352935791 1.3966532945632935 0.712052583694458 0.7052528262138367 0.011676124297082424\n",
            "1.4135186672210693 1.404711127281189 0.699614942073822 0.7143113017082214 0.012572458945214748\n",
            "1.3639342784881592 1.3496630191802979 0.7391999363899231 0.7272005677223206 0.009761331602931023\n",
            "1.4207379817962646 1.4134414196014404 0.7196508646011353 0.6877676248550415 0.01146252267062664\n",
            "1.3868768215179443 1.3850594758987427 0.7093095779418945 0.7277863025665283 0.012739238329231739\n",
            "1.4055464267730713 1.3957405090332031 0.7078298330307007 0.7204844951629639 0.01213766261935234\n",
            "1.3723866939544678 1.3785961866378784 0.7235332131385803 0.7300248146057129 0.011433382518589497\n",
            "1.402878999710083 1.401145100593567 0.7050913572311401 0.7055617570877075 0.009741606190800667\n",
            "1.3746447563171387 1.3706061840057373 0.7238075137138367 0.7203366160392761 0.011006965301930904\n",
            "1.3823171854019165 1.398093819618225 0.7078258395195007 0.7076699733734131 0.010534873232245445\n",
            "1.377571702003479 1.3790159225463867 0.7135706543922424 0.7261008024215698 0.012525991536676884\n",
            "1.4051923751831055 1.3947882652282715 0.7159568667411804 0.7127294540405273 0.013398099690675735\n",
            "1.3963145017623901 1.397089958190918 0.7156127691268921 0.698081910610199 0.008692784234881401\n",
            "1.3667747974395752 1.3569166660308838 0.7249886393547058 0.7336795330047607 0.012631865218281746\n",
            "1.3835234642028809 1.38493812084198 0.6910514235496521 0.7284466028213501 0.008517898619174957\n",
            "1.383244514465332 1.3860948085784912 0.7352813482284546 0.7189280390739441 0.01714455708861351\n",
            "1.4105219841003418 1.3968117237091064 0.7197621464729309 0.6992228031158447 0.012911057099699974\n",
            "1.354299545288086 1.372697353363037 0.7250242829322815 0.7338436841964722 0.013066714629530907\n",
            "1.3855724334716797 1.3976023197174072 0.7078610062599182 0.7122666239738464 0.010958709754049778\n",
            "1.353134036064148 1.3561346530914307 0.7316200137138367 0.73531174659729 0.011615568771958351\n",
            "1.379957914352417 1.3788533210754395 0.7077996134757996 0.7265447974205017 0.009932475164532661\n",
            "1.380501389503479 1.3938848972320557 0.7045560479164124 0.7218135595321655 0.010100819170475006\n",
            "1.374871850013733 1.3660266399383545 0.7191624045372009 0.7027170658111572 0.007292491849511862\n",
            "1.376366138458252 1.3883293867111206 0.725833535194397 0.7142010927200317 0.011427844874560833\n",
            "1.3881980180740356 1.3901309967041016 0.7127439975738525 0.7026691436767578 0.008213303051888943\n",
            "1.4005482196807861 1.4014763832092285 0.7165331840515137 0.6959312558174133 0.009753456339240074\n",
            "1.3721888065338135 1.3802294731140137 0.7242140769958496 0.7323207259178162 0.013812849298119545\n",
            "1.3895866870880127 1.3808062076568604 0.7224470376968384 0.7055040597915649 0.008360043168067932\n",
            "1.3647408485412598 1.3612890243530273 0.7509846091270447 0.6934137940406799 0.009581472724676132\n",
            "1.4182586669921875 1.409062385559082 0.6841897368431091 0.7120400667190552 0.012322789989411831\n",
            "1.3771237134933472 1.361894130706787 0.7303469777107239 0.7236064672470093 0.011408472433686256\n",
            "1.3936129808425903 1.3919579982757568 0.7029547691345215 0.7002913951873779 0.009915956296026707\n",
            "1.3899143934249878 1.3596779108047485 0.7233229279518127 0.7055521607398987 0.005778403952717781\n",
            "1.3793141841888428 1.3809518814086914 0.724785327911377 0.7044351696968079 0.01219571940600872\n",
            "1.3670694828033447 1.3852245807647705 0.7152652144432068 0.7377651333808899 0.012630939483642578\n",
            "1.4041428565979004 1.4306166172027588 0.69772869348526 0.6895774006843567 0.011759224347770214\n",
            "1.3520373106002808 1.3959550857543945 0.6854498386383057 0.785815417766571 0.012227280996739864\n",
            "1.4268196821212769 1.4439418315887451 0.6971008777618408 0.6813669800758362 0.013551818206906319\n",
            "1.4025084972381592 1.3831758499145508 0.71536785364151 0.6965779066085815 0.01132645271718502\n",
            "1.3142459392547607 1.3285026550292969 0.7347275018692017 0.7848485112190247 0.014977939426898956\n",
            "1.3155949115753174 1.3332774639129639 0.7031686305999756 0.80791836977005 0.012099871411919594\n",
            "1.2387079000473022 1.308255672454834 0.7654791474342346 0.780971348285675 0.012233290821313858\n",
            "1.4217538833618164 1.4376968145370483 0.6802903413772583 0.7086620926856995 0.008502913638949394\n",
            "1.4207515716552734 1.3905543088912964 0.6742548942565918 0.7338611483573914 0.013921336270868778\n",
            "1.3742609024047852 1.3870681524276733 0.705943763256073 0.727263331413269 0.007918856106698513\n",
            "1.3669267892837524 1.351104736328125 0.7348121404647827 0.7123718857765198 0.00784467812627554\n",
            "1.3876757621765137 1.3818130493164062 0.7053744792938232 0.704988956451416 0.006334949284791946\n",
            "1.4014270305633545 1.3889126777648926 0.7036746740341187 0.7210038304328918 0.011454436928033829\n",
            "1.3900423049926758 1.4231196641921997 0.6769746541976929 0.7186267375946045 0.010235879570245743\n",
            "1.3883578777313232 1.4023550748825073 0.6967564225196838 0.7205438613891602 0.010967671871185303\n",
            "1.3669805526733398 1.3687831163406372 0.7179081439971924 0.7634491324424744 0.017934581264853477\n",
            "1.4148430824279785 1.425405740737915 0.6919637322425842 0.7309139370918274 0.015163736417889595\n",
            "1.3960258960723877 1.4009838104248047 0.7027624249458313 0.7167531847953796 0.012565834447741508\n",
            "1.3917856216430664 1.3845078945159912 0.7241644859313965 0.7127953767776489 0.011597678065299988\n",
            "1.3819513320922852 1.3922667503356934 0.7174826264381409 0.709541380405426 0.0111086992546916\n",
            "1.3870112895965576 1.3899953365325928 0.7153168320655823 0.7167966961860657 0.012807685881853104\n",
            "1.3812904357910156 1.3777823448181152 0.7107353806495667 0.7101632356643677 0.00839325226843357\n",
            "1.3910431861877441 1.3877995014190674 0.7050338983535767 0.707728922367096 0.008841760456562042\n",
            "1.3861219882965088 1.3913724422454834 0.7015169262886047 0.7229834198951721 0.009809024631977081\n",
            "1.400039553642273 1.4066486358642578 0.6930724382400513 0.7078236937522888 0.010983813554048538\n",
            "1.3911014795303345 1.3902244567871094 0.716058611869812 0.7101312279701233 0.00963535811752081\n",
            "1.384305477142334 1.3827298879623413 0.7147939205169678 0.7238770127296448 0.011600550264120102\n",
            "1.390699863433838 1.3936772346496582 0.7041407823562622 0.7115341424942017 0.01031755842268467\n",
            "1.3789699077606201 1.3872443437576294 0.7009696364402771 0.7142857909202576 0.007840449921786785\n",
            "1.3864021301269531 1.3773624897003174 0.7193053960800171 0.7226820588111877 0.012922318652272224\n",
            "1.391990303993225 1.4110524654388428 0.7058340311050415 0.7144292593002319 0.011388156563043594\n",
            "1.385810136795044 1.3881268501281738 0.7130199670791626 0.716278612613678 0.010260691866278648\n",
            "1.398911952972412 1.3953180313110352 0.7192613482475281 0.713909387588501 0.015397105365991592\n",
            "1.4072413444519043 1.3952715396881104 0.7229291200637817 0.7040274143218994 0.012209360487759113\n",
            "1.3808287382125854 1.374541163444519 0.7285251021385193 0.7182184457778931 0.013125061988830566\n",
            "1.3941973447799683 1.396936058998108 0.7177436947822571 0.705562949180603 0.010470718145370483\n",
            "1.3855619430541992 1.3959943056106567 0.705242395401001 0.7184514999389648 0.010664539411664009\n",
            "1.3719706535339355 1.3769900798797607 0.7258880138397217 0.7170780897140503 0.0076261721551418304\n",
            "1.3808355331420898 1.3873515129089355 0.7271584868431091 0.7092530727386475 0.01034187525510788\n",
            "1.4036085605621338 1.3982155323028564 0.7093837857246399 0.7034189701080322 0.012148793786764145\n",
            "1.3949213027954102 1.401477575302124 0.7139730453491211 0.722898006439209 0.015600873157382011\n",
            "1.376638650894165 1.3941521644592285 0.7209563851356506 0.7083522081375122 0.010165054351091385\n",
            "1.3856401443481445 1.3756179809570312 0.707260012626648 0.71381014585495 0.007174897938966751\n",
            "1.4064044952392578 1.401634693145752 0.7161548733711243 0.7194698452949524 0.013435956090688705\n",
            "1.3824851512908936 1.3881916999816895 0.7134044170379639 0.724544882774353 0.011268869042396545\n",
            "1.391444444656372 1.393768072128296 0.6903119087219238 0.7101432681083679 0.007955941371619701\n",
            "1.4060139656066895 1.4033894538879395 0.7031557559967041 0.7012913227081299 0.008486557751893997\n",
            "1.4036674499511719 1.3965282440185547 0.7024735808372498 0.6997076272964478 0.01080789789557457\n",
            "1.362151861190796 1.3873493671417236 0.729070246219635 0.7237086296081543 0.013287599198520184\n",
            "1.4025671482086182 1.377699613571167 0.7160114049911499 0.6951174139976501 0.009269677102565765\n",
            "1.3503882884979248 1.3739233016967773 0.7246991991996765 0.7229756116867065 0.00986658874899149\n",
            "1.3771185874938965 1.3842296600341797 0.7059298753738403 0.7208964824676514 0.010901368223130703\n",
            "1.3685364723205566 1.3708467483520508 0.7247118353843689 0.7152203917503357 0.011613894253969193\n",
            "1.3984482288360596 1.3892793655395508 0.7102463841438293 0.6950856447219849 0.007271639537066221\n",
            "1.3486032485961914 1.330187439918518 0.7522455453872681 0.7295677661895752 0.011762067675590515\n",
            "1.4056015014648438 1.400503158569336 0.7020920515060425 0.7260485291481018 0.011845611035823822\n",
            "1.4180688858032227 1.4321000576019287 0.6958163976669312 0.6972372531890869 0.010334119200706482\n",
            "1.3863061666488647 1.3975577354431152 0.7068659663200378 0.7300800681114197 0.01370946317911148\n",
            "1.3918921947479248 1.3962831497192383 0.7330827116966248 0.7016626596450806 0.014963543973863125\n",
            "1.357036828994751 1.3523643016815186 0.7382103204727173 0.7088685631752014 0.01007724180817604\n",
            "1.3980278968811035 1.4210546016693115 0.691027820110321 0.7020354270935059 0.008362969383597374\n",
            "1.4060084819793701 1.4299368858337402 0.6589118242263794 0.7247187495231628 0.009668114595115185\n",
            "1.374469518661499 1.3807536363601685 0.722804844379425 0.7292876243591309 0.013523710891604424\n",
            "1.3833043575286865 1.3874884843826294 0.7064676880836487 0.7127695679664612 0.01050071232020855\n",
            "1.4250178337097168 1.4368345737457275 0.7000821232795715 0.7125244140625 0.017039475962519646\n",
            "1.3538172245025635 1.3595044612884521 0.7237054705619812 0.7218167185783386 0.010400641709566116\n",
            "1.3712353706359863 1.3737585544586182 0.7082599997520447 0.7336068153381348 0.00844130851328373\n",
            "1.391932487487793 1.370513916015625 0.7337102293968201 0.6962454915046692 0.010625826194882393\n",
            "1.3612743616104126 1.3637657165527344 0.7461604475975037 0.7181909680366516 0.010640555061399937\n",
            "1.3798277378082275 1.3888542652130127 0.6849399209022522 0.718078076839447 0.00409329030662775\n",
            "1.3817108869552612 1.3626995086669922 0.7362769842147827 0.7182609438896179 0.012448178604245186\n",
            "1.3959112167358398 1.4208234548568726 0.697176992893219 0.7103791832923889 0.010286305099725723\n",
            "1.3892757892608643 1.3863606452941895 0.7219917178153992 0.7079365253448486 0.010538152419030666\n",
            "1.4132881164550781 1.411867380142212 0.7132255434989929 0.6983034014701843 0.012098620645701885\n",
            "1.3981794118881226 1.3943907022476196 0.6988516449928284 0.7033354640007019 0.009262315928936005\n",
            "1.3950296640396118 1.4059796333312988 0.7057905197143555 0.7081155776977539 0.012745261192321777\n",
            "1.3630683422088623 1.3759480714797974 0.7334755063056946 0.7167766094207764 0.010479818098247051\n",
            "1.3691747188568115 1.3853379487991333 0.7320812344551086 0.7047014236450195 0.011818410828709602\n",
            "1.3711915016174316 1.3606984615325928 0.7440970540046692 0.709040105342865 0.010685043409466743\n",
            "1.42917799949646 1.4338536262512207 0.7109596729278564 0.6737880706787109 0.008240444585680962\n",
            "1.3519729375839233 1.3449771404266357 0.7182192206382751 0.7570065855979919 0.012401903048157692\n",
            "1.349449872970581 1.343170166015625 0.731685221195221 0.742264986038208 0.012865966185927391\n",
            "1.4243632555007935 1.4238371849060059 0.6914365887641907 0.6855749487876892 0.00819298904389143\n",
            "1.3961373567581177 1.3930885791778564 0.7144850492477417 0.6963384747505188 0.007771862670779228\n",
            "1.3928894996643066 1.401191234588623 0.7019813060760498 0.7216131687164307 0.010972253046929836\n",
            "1.3365930318832397 1.3313405513763428 0.7577581405639648 0.7090132832527161 0.008318844251334667\n",
            "1.3781206607818604 1.4024425745010376 0.6943844556808472 0.7500197291374207 0.01374397799372673\n",
            "1.4190917015075684 1.4132821559906006 0.7044851779937744 0.6954328417778015 0.010281318798661232\n",
            "1.3598082065582275 1.3531739711761475 0.7359798550605774 0.7164263725280762 0.009311556816101074\n",
            "1.3772670030593872 1.3837716579437256 0.7271971106529236 0.7117623686790466 0.010260816663503647\n",
            "1.3622446060180664 1.3534966707229614 0.736519455909729 0.7308562994003296 0.010564787313342094\n",
            "1.3749427795410156 1.363645315170288 0.7282005548477173 0.7143510580062866 0.009302860125899315\n",
            "1.4077684879302979 1.4151369333267212 0.6953721046447754 0.7043151259422302 0.00917789526283741\n",
            "1.3788083791732788 1.3610845804214478 0.7209919095039368 0.7088652849197388 0.006143619306385517\n",
            "1.3476605415344238 1.351719856262207 0.7436925768852234 0.7249155640602112 0.011463077738881111\n",
            "1.4093046188354492 1.4175584316253662 0.7096680998802185 0.693804144859314 0.009526928886771202\n",
            "1.3737919330596924 1.3866024017333984 0.7100515365600586 0.7184048891067505 0.008199043571949005\n",
            "1.3788812160491943 1.374248743057251 0.7184509634971619 0.7261473536491394 0.012511342763900757\n",
            "1.3989014625549316 1.4022787809371948 0.6901541948318481 0.7189851999282837 0.008847042918205261\n",
            "1.3669826984405518 1.3845114707946777 0.7260745167732239 0.7154885530471802 0.011678950861096382\n",
            "1.3820148706436157 1.3833374977111816 0.6971356272697449 0.728115439414978 0.010263154283165932\n",
            "1.3861451148986816 1.3824950456619263 0.729426383972168 0.7074294686317444 0.010047043673694134\n",
            "1.3990070819854736 1.4030414819717407 0.7203494310379028 0.701860785484314 0.011166855692863464\n",
            "1.403393030166626 1.4024229049682617 0.7148067355155945 0.704250156879425 0.009624557569622993\n",
            "1.3899012804031372 1.3951518535614014 0.728188693523407 0.7176229953765869 0.013983836397528648\n",
            "1.3636529445648193 1.392216444015503 0.7067938446998596 0.7301377654075623 0.012393401935696602\n",
            "1.4389138221740723 1.4324543476104736 0.6658007502555847 0.7148255109786987 0.012239523231983185\n",
            "1.4591563940048218 1.4578828811645508 0.6575892567634583 0.7091874480247498 0.012783074751496315\n",
            "1.396820068359375 1.3850734233856201 0.7244791984558105 0.6913482546806335 0.0075730932876467705\n",
            "1.385176420211792 1.384706974029541 0.7119712829589844 0.7122632265090942 0.011157498694956303\n",
            "1.3680263757705688 1.3661596775054932 0.7432160377502441 0.7004520893096924 0.010600743815302849\n",
            "1.4104814529418945 1.4114007949829102 0.6974170207977295 0.6956844329833984 0.009786002337932587\n",
            "1.389345407485962 1.3882145881652832 0.714621365070343 0.7002469897270203 0.008383014239370823\n",
            "1.3927429914474487 1.395514965057373 0.7163839340209961 0.6966500878334045 0.00935968104749918\n",
            "1.4079170227050781 1.4064470529556274 0.6984748840332031 0.7164485454559326 0.011156096123158932\n",
            "1.3947467803955078 1.398094654083252 0.726016104221344 0.6959471702575684 0.011600237339735031\n",
            "1.4302847385406494 1.4234397411346436 0.6653961539268494 0.7262397408485413 0.01033270638436079\n",
            "1.3853509426116943 1.3960272073745728 0.726353645324707 0.7008757591247559 0.01148984394967556\n",
            "1.4194244146347046 1.3912383317947388 0.6951038837432861 0.717094361782074 0.011375759728252888\n",
            "1.4078654050827026 1.4149643182754517 0.7230290174484253 0.6911188960075378 0.009407302364706993\n",
            "1.3802196979522705 1.3641271591186523 0.7208883166313171 0.7117039561271667 0.00837058573961258\n",
            "1.3810360431671143 1.3754286766052246 0.7111071348190308 0.725744366645813 0.010656537488102913\n",
            "1.374342918395996 1.3724360466003418 0.7248331308364868 0.729880690574646 0.011710298247635365\n",
            "1.3968802690505981 1.4031083583831787 0.6888765096664429 0.7250437140464783 0.011737814173102379\n",
            "1.3942880630493164 1.3899290561676025 0.7295374274253845 0.7016103863716125 0.010872388258576393\n",
            "1.3892614841461182 1.3918215036392212 0.7179978489875793 0.7166742086410522 0.012796823866665363\n",
            "1.3762669563293457 1.3847925662994385 0.7042098045349121 0.7241678237915039 0.010578341782093048\n",
            "1.3843482732772827 1.3938727378845215 0.7111176252365112 0.7143901586532593 0.010563368909060955\n",
            "1.3865625858306885 1.3682997226715088 0.7202216982841492 0.7161524891853333 0.010894529521465302\n",
            "1.3860630989074707 1.3869295120239258 0.7166116833686829 0.7070623636245728 0.01049475185573101\n",
            "1.372018814086914 1.3528883457183838 0.7289199829101562 0.7396793961524963 0.01520534511655569\n",
            "1.3958572149276733 1.3879725933074951 0.7237356901168823 0.710760772228241 0.013769973069429398\n",
            "1.3925116062164307 1.389201045036316 0.7142850160598755 0.7036970257759094 0.006622363347560167\n",
            "1.3821934461593628 1.3965795040130615 0.6992653012275696 0.7266049981117249 0.010761845856904984\n",
            "1.3921878337860107 1.3827296495437622 0.718677818775177 0.7136738896369934 0.010955533012747765\n",
            "1.3963872194290161 1.3817399740219116 0.7183849215507507 0.7146833539009094 0.013060800731182098\n",
            "1.3994383811950684 1.3902394771575928 0.7166244387626648 0.709113597869873 0.009960679337382317\n",
            "1.3977240324020386 1.3879077434539795 0.7263925671577454 0.7178462743759155 0.015366323292255402\n",
            "1.3882144689559937 1.3913068771362305 0.7037546038627625 0.7162718176841736 0.008314905688166618\n",
            "1.3800545930862427 1.383631944656372 0.717275857925415 0.7224578857421875 0.01134669128805399\n",
            "1.3933446407318115 1.3872647285461426 0.7071142792701721 0.7051874995231628 0.008817361667752266\n",
            "1.3757596015930176 1.3706398010253906 0.7227294445037842 0.7159785628318787 0.008887935429811478\n",
            "1.3765068054199219 1.3682740926742554 0.7195789217948914 0.7276387810707092 0.010366023518145084\n",
            "1.3687951564788818 1.374849557876587 0.7176691889762878 0.7337727546691895 0.010003874078392982\n",
            "1.3971233367919922 1.3912403583526611 0.7169588804244995 0.7033016085624695 0.012035934254527092\n",
            "1.3931658267974854 1.3504199981689453 0.7634710669517517 0.687445342540741 0.01441058237105608\n",
            "1.369387149810791 1.3602138757705688 0.7256264686584473 0.7189173102378845 0.009765928611159325\n",
            "1.3931300640106201 1.3831933736801147 0.706366777420044 0.7008139491081238 0.008037458173930645\n",
            "1.3921253681182861 1.3892114162445068 0.7227057218551636 0.6969103217124939 0.010722724720835686\n",
            "1.3803503513336182 1.3888880014419556 0.708263099193573 0.7240803837776184 0.009655097499489784\n",
            "1.4326183795928955 1.4077038764953613 0.6944548487663269 0.6977740526199341 0.00827079638838768\n",
            "1.3888027667999268 1.393048644065857 0.7045131921768188 0.7038905620574951 0.010104230605065823\n",
            "1.3301746845245361 1.3635743856430054 0.7212035655975342 0.7699474096298218 0.01322169415652752\n",
            "1.434732437133789 1.395853042602539 0.6988469362258911 0.6841400861740112 0.008137566037476063\n",
            "1.3509788513183594 1.3563997745513916 0.7191367149353027 0.730693519115448 0.009152552112936974\n",
            "1.4290827512741089 1.4178872108459473 0.7296566367149353 0.6906648874282837 0.014341795817017555\n",
            "1.3204545974731445 1.375110387802124 0.7106764912605286 0.7389820218086243 0.009657151065766811\n",
            "1.3710601329803467 1.376230239868164 0.720201313495636 0.7326222062110901 0.01127944327890873\n",
            "1.3849611282348633 1.3644039630889893 0.7326315641403198 0.7206469774246216 0.011386229656636715\n",
            "1.3580156564712524 1.3658961057662964 0.732440173625946 0.7078623175621033 0.010683971457183361\n",
            "1.3590421676635742 1.366032600402832 0.7232588529586792 0.7352619171142578 0.013014361262321472\n",
            "1.3822829723358154 1.3901917934417725 0.7091080546379089 0.7201981544494629 0.010083850473165512\n",
            "1.3746811151504517 1.3889409303665161 0.7169761657714844 0.7224025130271912 0.011072877794504166\n",
            "1.3814201354980469 1.3833212852478027 0.7211857438087463 0.7234376668930054 0.013801266439259052\n",
            "1.390602469444275 1.3895435333251953 0.7054423093795776 0.7142055630683899 0.007646000012755394\n",
            "1.3692445755004883 1.3712692260742188 0.7149789929389954 0.7207628488540649 0.008747424930334091\n",
            "1.368864893913269 1.3654158115386963 0.7271425724029541 0.7139431238174438 0.01013357937335968\n",
            "1.3732688426971436 1.3643746376037598 0.7274354100227356 0.7287583351135254 0.011833582073450089\n",
            "1.3872010707855225 1.3953993320465088 0.7136315107345581 0.7162375450134277 0.010634317994117737\n",
            "1.3870164155960083 1.3791429996490479 0.7112646102905273 0.7114100456237793 0.010265570133924484\n",
            "1.3885905742645264 1.3964062929153442 0.7174645662307739 0.7072499394416809 0.012706462293863297\n",
            "1.3879567384719849 1.3766224384307861 0.7251217365264893 0.7124133110046387 0.012973766773939133\n",
            "1.3729368448257446 1.3820481300354004 0.7165428400039673 0.724518895149231 0.010282093659043312\n",
            "1.3983230590820312 1.4051196575164795 0.6996565461158752 0.7130523324012756 0.010732920840382576\n",
            "1.3939881324768066 1.374778151512146 0.7228251695632935 0.7175450325012207 0.013797268271446228\n",
            "1.3905916213989258 1.3815281391143799 0.7098425626754761 0.7155989408493042 0.009594784118235111\n",
            "1.3881914615631104 1.39031982421875 0.7014871835708618 0.7141479253768921 0.008757837116718292\n",
            "1.370115876197815 1.3813650608062744 0.6949759721755981 0.72767174243927 0.0046603623777627945\n",
            "1.3943716287612915 1.3989040851593018 0.7214582562446594 0.6908478736877441 0.008692380040884018\n"
          ],
          "name": "stdout"
        }
      ]
    },
    {
      "cell_type": "markdown",
      "metadata": {
        "id": "em-NF2w5gCd0",
        "colab_type": "text"
      },
      "source": [
        "## Evaluate network\n",
        "**Display and check quality of generated images**"
      ]
    },
    {
      "cell_type": "code",
      "metadata": {
        "id": "2Vo8JGlKqnB9",
        "colab_type": "code",
        "outputId": "640d7e2c-86eb-4ca8-e229-304415a7e64f",
        "colab": {
          "base_uri": "https://localhost:8080/",
          "height": 1000
        }
      },
      "source": [
        "def display_image_side(image1, image2):\n",
        "  plt.subplot(1, 2, 1)\n",
        "  plt.imshow(image1[:,:,0], cmap = 'gray')\n",
        "  \n",
        "  plt.subplot(1, 2, 2)\n",
        "  plt.imshow(image2[:,:,0], cmap = 'gray')\n",
        "  plt.show()\n",
        "\n",
        "\n",
        "\n",
        "for j, (inputs, _)  in enumerate(iter(unsupervised_test_loader)):\n",
        "  if j > 50:\n",
        "    break\n",
        "  predictions = G(inputs).cpu()\n",
        "  inputs_numpy = tensor2image(inputs.cpu())\n",
        "  predictions_numpy = tensor2image(predictions.cpu())\n",
        "  for i, (inpt, prediction) in enumerate(zip(inputs_numpy, predictions_numpy)):\n",
        "    display_image_side(inpt, prediction)"
      ],
      "execution_count": 7,
      "outputs": [
        {
          "output_type": "display_data",
          "data": {
            "image/png": "[encoded data removed]",
            "text/plain": [
              "<Figure size 432x288 with 2 Axes>"
            ]
          },
          "metadata": {
            "tags": [],
            "needs_background": "light"
          }
        },
        {
          "output_type": "display_data",
          "data": {
            "image/png": "[encoded data removed]",
            "text/plain": [
              "<Figure size 432x288 with 2 Axes>"
            ]
          },
          "metadata": {
            "tags": [],
            "needs_background": "light"
          }
        },
        {
          "output_type": "display_data",
          "data": {
            "image/png": "[encoded data removed]",
            "text/plain": [
              "<Figure size 432x288 with 2 Axes>"
            ]
          },
          "metadata": {
            "tags": [],
            "needs_background": "light"
          }
        },
        {
          "output_type": "display_data",
          "data": {
            "image/png": "[encoded data removed]",
            "text/plain": [
              "<Figure size 432x288 with 2 Axes>"
            ]
          },
          "metadata": {
            "tags": [],
            "needs_background": "light"
          }
        },
        {
          "output_type": "display_data",
          "data": {
            "image/png": "[encoded data removed]",
            "text/plain": [
              "<Figure size 432x288 with 2 Axes>"
            ]
          },
          "metadata": {
            "tags": [],
            "needs_background": "light"
          }
        },
        {
          "output_type": "display_data",
          "data": {
            "image/png": "[encoded data removed]",
            "text/plain": [
              "<Figure size 432x288 with 2 Axes>"
            ]
          },
          "metadata": {
            "tags": [],
            "needs_background": "light"
          }
        },
        {
          "output_type": "display_data",
          "data": {
            "image/png": "[encoded data removed]",
            "text/plain": [
              "<Figure size 432x288 with 2 Axes>"
            ]
          },
          "metadata": {
            "tags": [],
            "needs_background": "light"
          }
        },
        {
          "output_type": "display_data",
          "data": {
            "image/png": "[encoded data removed]",
            "text/plain": [
              "<Figure size 432x288 with 2 Axes>"
            ]
          },
          "metadata": {
            "tags": [],
            "needs_background": "light"
          }
        },
        {
          "output_type": "display_data",
          "data": {
            "image/png": "[encoded data removed]",
            "text/plain": [
              "<Figure size 432x288 with 2 Axes>"
            ]
          },
          "metadata": {
            "tags": [],
            "needs_background": "light"
          }
        },
        {
          "output_type": "display_data",
          "data": {
            "image/png": "[encoded data removed]",
            "text/plain": [
              "<Figure size 432x288 with 2 Axes>"
            ]
          },
          "metadata": {
            "tags": [],
            "needs_background": "light"
          }
        },
        {
          "output_type": "display_data",
          "data": {
            "image/png": "[encoded data removed]",
            "text/plain": [
              "<Figure size 432x288 with 2 Axes>"
            ]
          },
          "metadata": {
            "tags": [],
            "needs_background": "light"
          }
        },
        {
          "output_type": "display_data",
          "data": {
            "image/png": "[encoded data removed]",
            "text/plain": [
              "<Figure size 432x288 with 2 Axes>"
            ]
          },
          "metadata": {
            "tags": [],
            "needs_background": "light"
          }
        },
        {
          "output_type": "display_data",
          "data": {
            "image/png": "[encoded data removed]",
            "text/plain": [
              "<Figure size 432x288 with 2 Axes>"
            ]
          },
          "metadata": {
            "tags": [],
            "needs_background": "light"
          }
        },
        {
          "output_type": "display_data",
          "data": {
            "image/png": "[encoded data removed]",
            "text/plain": [
              "<Figure size 432x288 with 2 Axes>"
            ]
          },
          "metadata": {
            "tags": [],
            "needs_background": "light"
          }
        },
        {
          "output_type": "display_data",
          "data": {
            "image/png": "[encoded data removed]",
            "text/plain": [
              "<Figure size 432x288 with 2 Axes>"
            ]
          },
          "metadata": {
            "tags": [],
            "needs_background": "light"
          }
        },
        {
          "output_type": "display_data",
          "data": {
            "image/png": "[encoded data removed]",
            "text/plain": [
              "<Figure size 432x288 with 2 Axes>"
            ]
          },
          "metadata": {
            "tags": [],
            "needs_background": "light"
          }
        },
        {
          "output_type": "display_data",
          "data": {
            "image/png": "[encoded data removed]",
            "text/plain": [
              "<Figure size 432x288 with 2 Axes>"
            ]
          },
          "metadata": {
            "tags": [],
            "needs_background": "light"
          }
        },
        {
          "output_type": "display_data",
          "data": {
            "image/png": "[encoded data removed]",
            "text/plain": [
              "<Figure size 432x288 with 2 Axes>"
            ]
          },
          "metadata": {
            "tags": [],
            "needs_background": "light"
          }
        },
        {
          "output_type": "display_data",
          "data": {
            "image/png": "[encoded data removed]",
            "text/plain": [
              "<Figure size 432x288 with 2 Axes>"
            ]
          },
          "metadata": {
            "tags": [],
            "needs_background": "light"
          }
        },
        {
          "output_type": "display_data",
          "data": {
            "image/png": "[encoded data removed]",
            "text/plain": [
              "<Figure size 432x288 with 2 Axes>"
            ]
          },
          "metadata": {
            "tags": [],
            "needs_background": "light"
          }
        },
        {
          "output_type": "display_data",
          "data": {
            "image/png": "[encoded data removed]",
            "text/plain": [
              "<Figure size 432x288 with 2 Axes>"
            ]
          },
          "metadata": {
            "tags": [],
            "needs_background": "light"
          }
        },
        {
          "output_type": "display_data",
          "data": {
            "image/png": "[encoded data removed]",
            "text/plain": [
              "<Figure size 432x288 with 2 Axes>"
            ]
          },
          "metadata": {
            "tags": [],
            "needs_background": "light"
          }
        },
        {
          "output_type": "display_data",
          "data": {
            "image/png": "[encoded data removed]",
            "text/plain": [
              "<Figure size 432x288 with 2 Axes>"
            ]
          },
          "metadata": {
            "tags": [],
            "needs_background": "light"
          }
        },
        {
          "output_type": "display_data",
          "data": {
            "image/png": "[encoded data removed]",
            "text/plain": [
              "<Figure size 432x288 with 2 Axes>"
            ]
          },
          "metadata": {
            "tags": [],
            "needs_background": "light"
          }
        },
        {
          "output_type": "display_data",
          "data": {
            "image/png": "[encoded data removed]",
            "text/plain": [
              "<Figure size 432x288 with 2 Axes>"
            ]
          },
          "metadata": {
            "tags": [],
            "needs_background": "light"
          }
        },
        {
          "output_type": "display_data",
          "data": {
            "image/png": "[encoded data removed]",
            "text/plain": [
              "<Figure size 432x288 with 2 Axes>"
            ]
          },
          "metadata": {
            "tags": [],
            "needs_background": "light"
          }
        },
        {
          "output_type": "display_data",
          "data": {
            "image/png": "[encoded data removed]",
            "text/plain": [
              "<Figure size 432x288 with 2 Axes>"
            ]
          },
          "metadata": {
            "tags": [],
            "needs_background": "light"
          }
        },
        {
          "output_type": "display_data",
          "data": {
            "image/png": "[encoded data removed]",
            "text/plain": [
              "<Figure size 432x288 with 2 Axes>"
            ]
          },
          "metadata": {
            "tags": [],
            "needs_background": "light"
          }
        },
        {
          "output_type": "display_data",
          "data": {
            "image/png": "[encoded data removed]",
            "text/plain": [
              "<Figure size 432x288 with 2 Axes>"
            ]
          },
          "metadata": {
            "tags": [],
            "needs_background": "light"
          }
        },
        {
          "output_type": "display_data",
          "data": {
            "image/png": "[encoded data removed]",
            "text/plain": [
              "<Figure size 432x288 with 2 Axes>"
            ]
          },
          "metadata": {
            "tags": [],
            "needs_background": "light"
          }
        },
        {
          "output_type": "display_data",
          "data": {
            "image/png": "[encoded data removed]",
            "text/plain": [
              "<Figure size 432x288 with 2 Axes>"
            ]
          },
          "metadata": {
            "tags": [],
            "needs_background": "light"
          }
        },
        {
          "output_type": "display_data",
          "data": {
            "image/png": "[encoded data removed]",
            "text/plain": [
              "<Figure size 432x288 with 2 Axes>"
            ]
          },
          "metadata": {
            "tags": [],
            "needs_background": "light"
          }
        },
        {
          "output_type": "display_data",
          "data": {
            "image/png": "[encoded data removed]",
            "text/plain": [
              "<Figure size 432x288 with 2 Axes>"
            ]
          },
          "metadata": {
            "tags": [],
            "needs_background": "light"
          }
        },
        {
          "output_type": "display_data",
          "data": {
            "image/png": "[encoded data removed]",
            "text/plain": [
              "<Figure size 432x288 with 2 Axes>"
            ]
          },
          "metadata": {
            "tags": [],
            "needs_background": "light"
          }
        },
        {
          "output_type": "display_data",
          "data": {
            "image/png": "[encoded data removed]",
            "text/plain": [
              "<Figure size 432x288 with 2 Axes>"
            ]
          },
          "metadata": {
            "tags": [],
            "needs_background": "light"
          }
        },
        {
          "output_type": "display_data",
          "data": {
            "image/png": "[encoded data removed]",
            "text/plain": [
              "<Figure size 432x288 with 2 Axes>"
            ]
          },
          "metadata": {
            "tags": [],
            "needs_background": "light"
          }
        },
        {
          "output_type": "display_data",
          "data": {
            "image/png": "[encoded data removed]",
            "text/plain": [
              "<Figure size 432x288 with 2 Axes>"
            ]
          },
          "metadata": {
            "tags": [],
            "needs_background": "light"
          }
        },
        {
          "output_type": "display_data",
          "data": {
            "image/png": "[encoded data removed]",
            "text/plain": [
              "<Figure size 432x288 with 2 Axes>"
            ]
          },
          "metadata": {
            "tags": [],
            "needs_background": "light"
          }
        },
        {
          "output_type": "display_data",
          "data": {
            "image/png": "[encoded data removed]",
            "text/plain": [
              "<Figure size 432x288 with 2 Axes>"
            ]
          },
          "metadata": {
            "tags": [],
            "needs_background": "light"
          }
        },
        {
          "output_type": "display_data",
          "data": {
            "image/png": "[encoded data removed]",
            "text/plain": [
              "<Figure size 432x288 with 2 Axes>"
            ]
          },
          "metadata": {
            "tags": [],
            "needs_background": "light"
          }
        },
        {
          "output_type": "display_data",
          "data": {
            "image/png": "[encoded data removed]",
            "text/plain": [
              "<Figure size 432x288 with 2 Axes>"
            ]
          },
          "metadata": {
            "tags": [],
            "needs_background": "light"
          }
        },
        {
          "output_type": "display_data",
          "data": {
            "image/png": "[encoded data removed]",
            "text/plain": [
              "<Figure size 432x288 with 2 Axes>"
            ]
          },
          "metadata": {
            "tags": [],
            "needs_background": "light"
          }
        },
        {
          "output_type": "display_data",
          "data": {
            "image/png": "[encoded data removed]",
            "text/plain": [
              "<Figure size 432x288 with 2 Axes>"
            ]
          },
          "metadata": {
            "tags": [],
            "needs_background": "light"
          }
        },
        {
          "output_type": "display_data",
          "data": {
            "image/png": "[encoded data removed]",
            "text/plain": [
              "<Figure size 432x288 with 2 Axes>"
            ]
          },
          "metadata": {
            "tags": [],
            "needs_background": "light"
          }
        },
        {
          "output_type": "display_data",
          "data": {
            "image/png": "[encoded data removed]",
            "text/plain": [
              "<Figure size 432x288 with 2 Axes>"
            ]
          },
          "metadata": {
            "tags": [],
            "needs_background": "light"
          }
        },
        {
          "output_type": "display_data",
          "data": {
            "image/png": "[encoded data removed]",
            "text/plain": [
              "<Figure size 432x288 with 2 Axes>"
            ]
          },
          "metadata": {
            "tags": [],
            "needs_background": "light"
          }
        },
        {
          "output_type": "display_data",
          "data": {
            "image/png": "[encoded data removed]",
            "text/plain": [
              "<Figure size 432x288 with 2 Axes>"
            ]
          },
          "metadata": {
            "tags": [],
            "needs_background": "light"
          }
        },
        {
          "output_type": "display_data",
          "data": {
            "image/png": "[encoded data removed]",
            "text/plain": [
              "<Figure size 432x288 with 2 Axes>"
            ]
          },
          "metadata": {
            "tags": [],
            "needs_background": "light"
          }
        },
        {
          "output_type": "display_data",
          "data": {
            "image/png": "[encoded data removed]",
            "text/plain": [
              "<Figure size 432x288 with 2 Axes>"
            ]
          },
          "metadata": {
            "tags": [],
            "needs_background": "light"
          }
        },
        {
          "output_type": "display_data",
          "data": {
            "image/png": "[encoded data removed]",
            "text/plain": [
              "<Figure size 432x288 with 2 Axes>"
            ]
          },
          "metadata": {
            "tags": [],
            "needs_background": "light"
          }
        },
        {
          "output_type": "display_data",
          "data": {
            "image/png": "[encoded data removed]",
            "text/plain": [
              "<Figure size 432x288 with 2 Axes>"
            ]
          },
          "metadata": {
            "tags": [],
            "needs_background": "light"
          }
        }
      ]
    },
    {
      "cell_type": "code",
      "metadata": {
        "id": "uLrMdQw8m5Do",
        "colab_type": "code",
        "colab": {}
      },
      "source": [
        ""
      ],
      "execution_count": 0,
      "outputs": []
    }
  ]
}