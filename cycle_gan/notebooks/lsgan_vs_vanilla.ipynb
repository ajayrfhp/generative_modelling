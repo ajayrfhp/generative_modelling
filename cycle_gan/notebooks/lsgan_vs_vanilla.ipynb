{
  "nbformat": 4,
  "nbformat_minor": 0,
  "metadata": {
    "colab": {
      "name": "lsgan_vs_vanilla.ipynb",
      "provenance": [],
      "collapsed_sections": []
    },
    "kernelspec": {
      "name": "python3",
      "display_name": "Python 3"
    },
    "accelerator": "GPU",
    "widgets": {
      "application/vnd.jupyter.widget-state+json": {
        "353f513c0d4e4dd2afe7bf7f094fd7ac": {
          "model_module": "@jupyter-widgets/controls",
          "model_name": "HBoxModel",
          "state": {
            "_view_name": "HBoxView",
            "_dom_classes": [],
            "_model_name": "HBoxModel",
            "_view_module": "@jupyter-widgets/controls",
            "_model_module_version": "1.5.0",
            "_view_count": null,
            "_view_module_version": "1.5.0",
            "box_style": "",
            "layout": "IPY_MODEL_2552c0c41d3741aaa7520f79408d9248",
            "_model_module": "@jupyter-widgets/controls",
            "children": [
              "IPY_MODEL_84e0c0bffde342e98a1c402174255ff0",
              "IPY_MODEL_181acb72b1fb444b9b6bc9349cf1d403"
            ]
          }
        },
        "2552c0c41d3741aaa7520f79408d9248": {
          "model_module": "@jupyter-widgets/base",
          "model_name": "LayoutModel",
          "state": {
            "_view_name": "LayoutView",
            "grid_template_rows": null,
            "right": null,
            "justify_content": null,
            "_view_module": "@jupyter-widgets/base",
            "overflow": null,
            "_model_module_version": "1.2.0",
            "_view_count": null,
            "flex_flow": null,
            "width": null,
            "min_width": null,
            "border": null,
            "align_items": null,
            "bottom": null,
            "_model_module": "@jupyter-widgets/base",
            "top": null,
            "grid_column": null,
            "overflow_y": null,
            "overflow_x": null,
            "grid_auto_flow": null,
            "grid_area": null,
            "grid_template_columns": null,
            "flex": null,
            "_model_name": "LayoutModel",
            "justify_items": null,
            "grid_row": null,
            "max_height": null,
            "align_content": null,
            "visibility": null,
            "align_self": null,
            "height": null,
            "min_height": null,
            "padding": null,
            "grid_auto_rows": null,
            "grid_gap": null,
            "max_width": null,
            "order": null,
            "_view_module_version": "1.2.0",
            "grid_template_areas": null,
            "object_position": null,
            "object_fit": null,
            "grid_auto_columns": null,
            "margin": null,
            "display": null,
            "left": null
          }
        },
        "84e0c0bffde342e98a1c402174255ff0": {
          "model_module": "@jupyter-widgets/controls",
          "model_name": "FloatProgressModel",
          "state": {
            "_view_name": "ProgressView",
            "style": "IPY_MODEL_87bc5bda4d87430197357cb9ea494326",
            "_dom_classes": [],
            "description": "",
            "_model_name": "FloatProgressModel",
            "bar_style": "info",
            "max": 1,
            "_view_module": "@jupyter-widgets/controls",
            "_model_module_version": "1.5.0",
            "value": 1,
            "_view_count": null,
            "_view_module_version": "1.5.0",
            "orientation": "horizontal",
            "min": 0,
            "description_tooltip": null,
            "_model_module": "@jupyter-widgets/controls",
            "layout": "IPY_MODEL_871ea004815a43049d255d0acc72a772"
          }
        },
        "181acb72b1fb444b9b6bc9349cf1d403": {
          "model_module": "@jupyter-widgets/controls",
          "model_name": "HTMLModel",
          "state": {
            "_view_name": "HTMLView",
            "style": "IPY_MODEL_361ccdd3393749fe9f3e27dd0a1025fb",
            "_dom_classes": [],
            "description": "",
            "_model_name": "HTMLModel",
            "placeholder": "​",
            "_view_module": "@jupyter-widgets/controls",
            "_model_module_version": "1.5.0",
            "value": " 9920512/? [00:20&lt;00:00, 1005955.35it/s]",
            "_view_count": null,
            "_view_module_version": "1.5.0",
            "description_tooltip": null,
            "_model_module": "@jupyter-widgets/controls",
            "layout": "IPY_MODEL_c50c2b83706840bdaa8f90b8a1e3099d"
          }
        },
        "87bc5bda4d87430197357cb9ea494326": {
          "model_module": "@jupyter-widgets/controls",
          "model_name": "ProgressStyleModel",
          "state": {
            "_view_name": "StyleView",
            "_model_name": "ProgressStyleModel",
            "description_width": "initial",
            "_view_module": "@jupyter-widgets/base",
            "_model_module_version": "1.5.0",
            "_view_count": null,
            "_view_module_version": "1.2.0",
            "bar_color": null,
            "_model_module": "@jupyter-widgets/controls"
          }
        },
        "871ea004815a43049d255d0acc72a772": {
          "model_module": "@jupyter-widgets/base",
          "model_name": "LayoutModel",
          "state": {
            "_view_name": "LayoutView",
            "grid_template_rows": null,
            "right": null,
            "justify_content": null,
            "_view_module": "@jupyter-widgets/base",
            "overflow": null,
            "_model_module_version": "1.2.0",
            "_view_count": null,
            "flex_flow": null,
            "width": null,
            "min_width": null,
            "border": null,
            "align_items": null,
            "bottom": null,
            "_model_module": "@jupyter-widgets/base",
            "top": null,
            "grid_column": null,
            "overflow_y": null,
            "overflow_x": null,
            "grid_auto_flow": null,
            "grid_area": null,
            "grid_template_columns": null,
            "flex": null,
            "_model_name": "LayoutModel",
            "justify_items": null,
            "grid_row": null,
            "max_height": null,
            "align_content": null,
            "visibility": null,
            "align_self": null,
            "height": null,
            "min_height": null,
            "padding": null,
            "grid_auto_rows": null,
            "grid_gap": null,
            "max_width": null,
            "order": null,
            "_view_module_version": "1.2.0",
            "grid_template_areas": null,
            "object_position": null,
            "object_fit": null,
            "grid_auto_columns": null,
            "margin": null,
            "display": null,
            "left": null
          }
        },
        "361ccdd3393749fe9f3e27dd0a1025fb": {
          "model_module": "@jupyter-widgets/controls",
          "model_name": "DescriptionStyleModel",
          "state": {
            "_view_name": "StyleView",
            "_model_name": "DescriptionStyleModel",
            "description_width": "",
            "_view_module": "@jupyter-widgets/base",
            "_model_module_version": "1.5.0",
            "_view_count": null,
            "_view_module_version": "1.2.0",
            "_model_module": "@jupyter-widgets/controls"
          }
        },
        "c50c2b83706840bdaa8f90b8a1e3099d": {
          "model_module": "@jupyter-widgets/base",
          "model_name": "LayoutModel",
          "state": {
            "_view_name": "LayoutView",
            "grid_template_rows": null,
            "right": null,
            "justify_content": null,
            "_view_module": "@jupyter-widgets/base",
            "overflow": null,
            "_model_module_version": "1.2.0",
            "_view_count": null,
            "flex_flow": null,
            "width": null,
            "min_width": null,
            "border": null,
            "align_items": null,
            "bottom": null,
            "_model_module": "@jupyter-widgets/base",
            "top": null,
            "grid_column": null,
            "overflow_y": null,
            "overflow_x": null,
            "grid_auto_flow": null,
            "grid_area": null,
            "grid_template_columns": null,
            "flex": null,
            "_model_name": "LayoutModel",
            "justify_items": null,
            "grid_row": null,
            "max_height": null,
            "align_content": null,
            "visibility": null,
            "align_self": null,
            "height": null,
            "min_height": null,
            "padding": null,
            "grid_auto_rows": null,
            "grid_gap": null,
            "max_width": null,
            "order": null,
            "_view_module_version": "1.2.0",
            "grid_template_areas": null,
            "object_position": null,
            "object_fit": null,
            "grid_auto_columns": null,
            "margin": null,
            "display": null,
            "left": null
          }
        },
        "f7ffdef511e141d1a33be7c8792c222c": {
          "model_module": "@jupyter-widgets/controls",
          "model_name": "HBoxModel",
          "state": {
            "_view_name": "HBoxView",
            "_dom_classes": [],
            "_model_name": "HBoxModel",
            "_view_module": "@jupyter-widgets/controls",
            "_model_module_version": "1.5.0",
            "_view_count": null,
            "_view_module_version": "1.5.0",
            "box_style": "",
            "layout": "IPY_MODEL_8182537c8d244098bc71a6641781f396",
            "_model_module": "@jupyter-widgets/controls",
            "children": [
              "IPY_MODEL_8d2c289dbb1642f2af02865a8e7ba4ef",
              "IPY_MODEL_bf8e9e7dfa724dff9b6069e310f08422"
            ]
          }
        },
        "8182537c8d244098bc71a6641781f396": {
          "model_module": "@jupyter-widgets/base",
          "model_name": "LayoutModel",
          "state": {
            "_view_name": "LayoutView",
            "grid_template_rows": null,
            "right": null,
            "justify_content": null,
            "_view_module": "@jupyter-widgets/base",
            "overflow": null,
            "_model_module_version": "1.2.0",
            "_view_count": null,
            "flex_flow": null,
            "width": null,
            "min_width": null,
            "border": null,
            "align_items": null,
            "bottom": null,
            "_model_module": "@jupyter-widgets/base",
            "top": null,
            "grid_column": null,
            "overflow_y": null,
            "overflow_x": null,
            "grid_auto_flow": null,
            "grid_area": null,
            "grid_template_columns": null,
            "flex": null,
            "_model_name": "LayoutModel",
            "justify_items": null,
            "grid_row": null,
            "max_height": null,
            "align_content": null,
            "visibility": null,
            "align_self": null,
            "height": null,
            "min_height": null,
            "padding": null,
            "grid_auto_rows": null,
            "grid_gap": null,
            "max_width": null,
            "order": null,
            "_view_module_version": "1.2.0",
            "grid_template_areas": null,
            "object_position": null,
            "object_fit": null,
            "grid_auto_columns": null,
            "margin": null,
            "display": null,
            "left": null
          }
        },
        "8d2c289dbb1642f2af02865a8e7ba4ef": {
          "model_module": "@jupyter-widgets/controls",
          "model_name": "FloatProgressModel",
          "state": {
            "_view_name": "ProgressView",
            "style": "IPY_MODEL_25e1aadca61f4a61aab8afbc86dd9437",
            "_dom_classes": [],
            "description": "",
            "_model_name": "FloatProgressModel",
            "bar_style": "success",
            "max": 1,
            "_view_module": "@jupyter-widgets/controls",
            "_model_module_version": "1.5.0",
            "value": 1,
            "_view_count": null,
            "_view_module_version": "1.5.0",
            "orientation": "horizontal",
            "min": 0,
            "description_tooltip": null,
            "_model_module": "@jupyter-widgets/controls",
            "layout": "IPY_MODEL_3dfafd907f4a48859149a61e08b79d5c"
          }
        },
        "bf8e9e7dfa724dff9b6069e310f08422": {
          "model_module": "@jupyter-widgets/controls",
          "model_name": "HTMLModel",
          "state": {
            "_view_name": "HTMLView",
            "style": "IPY_MODEL_928133c1c1f14ee3899b8f3099fcfdac",
            "_dom_classes": [],
            "description": "",
            "_model_name": "HTMLModel",
            "placeholder": "​",
            "_view_module": "@jupyter-widgets/controls",
            "_model_module_version": "1.5.0",
            "value": " 32768/? [00:00&lt;00:00, 102817.36it/s]",
            "_view_count": null,
            "_view_module_version": "1.5.0",
            "description_tooltip": null,
            "_model_module": "@jupyter-widgets/controls",
            "layout": "IPY_MODEL_b41d8b5defb14f0782386fb9dca210f1"
          }
        },
        "25e1aadca61f4a61aab8afbc86dd9437": {
          "model_module": "@jupyter-widgets/controls",
          "model_name": "ProgressStyleModel",
          "state": {
            "_view_name": "StyleView",
            "_model_name": "ProgressStyleModel",
            "description_width": "initial",
            "_view_module": "@jupyter-widgets/base",
            "_model_module_version": "1.5.0",
            "_view_count": null,
            "_view_module_version": "1.2.0",
            "bar_color": null,
            "_model_module": "@jupyter-widgets/controls"
          }
        },
        "3dfafd907f4a48859149a61e08b79d5c": {
          "model_module": "@jupyter-widgets/base",
          "model_name": "LayoutModel",
          "state": {
            "_view_name": "LayoutView",
            "grid_template_rows": null,
            "right": null,
            "justify_content": null,
            "_view_module": "@jupyter-widgets/base",
            "overflow": null,
            "_model_module_version": "1.2.0",
            "_view_count": null,
            "flex_flow": null,
            "width": null,
            "min_width": null,
            "border": null,
            "align_items": null,
            "bottom": null,
            "_model_module": "@jupyter-widgets/base",
            "top": null,
            "grid_column": null,
            "overflow_y": null,
            "overflow_x": null,
            "grid_auto_flow": null,
            "grid_area": null,
            "grid_template_columns": null,
            "flex": null,
            "_model_name": "LayoutModel",
            "justify_items": null,
            "grid_row": null,
            "max_height": null,
            "align_content": null,
            "visibility": null,
            "align_self": null,
            "height": null,
            "min_height": null,
            "padding": null,
            "grid_auto_rows": null,
            "grid_gap": null,
            "max_width": null,
            "order": null,
            "_view_module_version": "1.2.0",
            "grid_template_areas": null,
            "object_position": null,
            "object_fit": null,
            "grid_auto_columns": null,
            "margin": null,
            "display": null,
            "left": null
          }
        },
        "928133c1c1f14ee3899b8f3099fcfdac": {
          "model_module": "@jupyter-widgets/controls",
          "model_name": "DescriptionStyleModel",
          "state": {
            "_view_name": "StyleView",
            "_model_name": "DescriptionStyleModel",
            "description_width": "",
            "_view_module": "@jupyter-widgets/base",
            "_model_module_version": "1.5.0",
            "_view_count": null,
            "_view_module_version": "1.2.0",
            "_model_module": "@jupyter-widgets/controls"
          }
        },
        "b41d8b5defb14f0782386fb9dca210f1": {
          "model_module": "@jupyter-widgets/base",
          "model_name": "LayoutModel",
          "state": {
            "_view_name": "LayoutView",
            "grid_template_rows": null,
            "right": null,
            "justify_content": null,
            "_view_module": "@jupyter-widgets/base",
            "overflow": null,
            "_model_module_version": "1.2.0",
            "_view_count": null,
            "flex_flow": null,
            "width": null,
            "min_width": null,
            "border": null,
            "align_items": null,
            "bottom": null,
            "_model_module": "@jupyter-widgets/base",
            "top": null,
            "grid_column": null,
            "overflow_y": null,
            "overflow_x": null,
            "grid_auto_flow": null,
            "grid_area": null,
            "grid_template_columns": null,
            "flex": null,
            "_model_name": "LayoutModel",
            "justify_items": null,
            "grid_row": null,
            "max_height": null,
            "align_content": null,
            "visibility": null,
            "align_self": null,
            "height": null,
            "min_height": null,
            "padding": null,
            "grid_auto_rows": null,
            "grid_gap": null,
            "max_width": null,
            "order": null,
            "_view_module_version": "1.2.0",
            "grid_template_areas": null,
            "object_position": null,
            "object_fit": null,
            "grid_auto_columns": null,
            "margin": null,
            "display": null,
            "left": null
          }
        },
        "114d56feec57419089b408d42d8fd71e": {
          "model_module": "@jupyter-widgets/controls",
          "model_name": "HBoxModel",
          "state": {
            "_view_name": "HBoxView",
            "_dom_classes": [],
            "_model_name": "HBoxModel",
            "_view_module": "@jupyter-widgets/controls",
            "_model_module_version": "1.5.0",
            "_view_count": null,
            "_view_module_version": "1.5.0",
            "box_style": "",
            "layout": "IPY_MODEL_3b1e61f36389455587496cc7a01449cd",
            "_model_module": "@jupyter-widgets/controls",
            "children": [
              "IPY_MODEL_51bfc9cb8b8047fe91058f5e6f851ed3",
              "IPY_MODEL_0440bb38198e482bbcef2923dc667db2"
            ]
          }
        },
        "3b1e61f36389455587496cc7a01449cd": {
          "model_module": "@jupyter-widgets/base",
          "model_name": "LayoutModel",
          "state": {
            "_view_name": "LayoutView",
            "grid_template_rows": null,
            "right": null,
            "justify_content": null,
            "_view_module": "@jupyter-widgets/base",
            "overflow": null,
            "_model_module_version": "1.2.0",
            "_view_count": null,
            "flex_flow": null,
            "width": null,
            "min_width": null,
            "border": null,
            "align_items": null,
            "bottom": null,
            "_model_module": "@jupyter-widgets/base",
            "top": null,
            "grid_column": null,
            "overflow_y": null,
            "overflow_x": null,
            "grid_auto_flow": null,
            "grid_area": null,
            "grid_template_columns": null,
            "flex": null,
            "_model_name": "LayoutModel",
            "justify_items": null,
            "grid_row": null,
            "max_height": null,
            "align_content": null,
            "visibility": null,
            "align_self": null,
            "height": null,
            "min_height": null,
            "padding": null,
            "grid_auto_rows": null,
            "grid_gap": null,
            "max_width": null,
            "order": null,
            "_view_module_version": "1.2.0",
            "grid_template_areas": null,
            "object_position": null,
            "object_fit": null,
            "grid_auto_columns": null,
            "margin": null,
            "display": null,
            "left": null
          }
        },
        "51bfc9cb8b8047fe91058f5e6f851ed3": {
          "model_module": "@jupyter-widgets/controls",
          "model_name": "FloatProgressModel",
          "state": {
            "_view_name": "ProgressView",
            "style": "IPY_MODEL_31255a0671554e08a4a130d98f906908",
            "_dom_classes": [],
            "description": "",
            "_model_name": "FloatProgressModel",
            "bar_style": "info",
            "max": 1,
            "_view_module": "@jupyter-widgets/controls",
            "_model_module_version": "1.5.0",
            "value": 1,
            "_view_count": null,
            "_view_module_version": "1.5.0",
            "orientation": "horizontal",
            "min": 0,
            "description_tooltip": null,
            "_model_module": "@jupyter-widgets/controls",
            "layout": "IPY_MODEL_933a5ea2fb194f68abbe99f9e0ad9f0e"
          }
        },
        "0440bb38198e482bbcef2923dc667db2": {
          "model_module": "@jupyter-widgets/controls",
          "model_name": "HTMLModel",
          "state": {
            "_view_name": "HTMLView",
            "style": "IPY_MODEL_0779424412dc47a696da5a202983ea19",
            "_dom_classes": [],
            "description": "",
            "_model_name": "HTMLModel",
            "placeholder": "​",
            "_view_module": "@jupyter-widgets/controls",
            "_model_module_version": "1.5.0",
            "value": " 1654784/? [00:18&lt;00:00, 249170.92it/s]",
            "_view_count": null,
            "_view_module_version": "1.5.0",
            "description_tooltip": null,
            "_model_module": "@jupyter-widgets/controls",
            "layout": "IPY_MODEL_4f1902abc8bc4160bd80b2764f9db68b"
          }
        },
        "31255a0671554e08a4a130d98f906908": {
          "model_module": "@jupyter-widgets/controls",
          "model_name": "ProgressStyleModel",
          "state": {
            "_view_name": "StyleView",
            "_model_name": "ProgressStyleModel",
            "description_width": "initial",
            "_view_module": "@jupyter-widgets/base",
            "_model_module_version": "1.5.0",
            "_view_count": null,
            "_view_module_version": "1.2.0",
            "bar_color": null,
            "_model_module": "@jupyter-widgets/controls"
          }
        },
        "933a5ea2fb194f68abbe99f9e0ad9f0e": {
          "model_module": "@jupyter-widgets/base",
          "model_name": "LayoutModel",
          "state": {
            "_view_name": "LayoutView",
            "grid_template_rows": null,
            "right": null,
            "justify_content": null,
            "_view_module": "@jupyter-widgets/base",
            "overflow": null,
            "_model_module_version": "1.2.0",
            "_view_count": null,
            "flex_flow": null,
            "width": null,
            "min_width": null,
            "border": null,
            "align_items": null,
            "bottom": null,
            "_model_module": "@jupyter-widgets/base",
            "top": null,
            "grid_column": null,
            "overflow_y": null,
            "overflow_x": null,
            "grid_auto_flow": null,
            "grid_area": null,
            "grid_template_columns": null,
            "flex": null,
            "_model_name": "LayoutModel",
            "justify_items": null,
            "grid_row": null,
            "max_height": null,
            "align_content": null,
            "visibility": null,
            "align_self": null,
            "height": null,
            "min_height": null,
            "padding": null,
            "grid_auto_rows": null,
            "grid_gap": null,
            "max_width": null,
            "order": null,
            "_view_module_version": "1.2.0",
            "grid_template_areas": null,
            "object_position": null,
            "object_fit": null,
            "grid_auto_columns": null,
            "margin": null,
            "display": null,
            "left": null
          }
        },
        "0779424412dc47a696da5a202983ea19": {
          "model_module": "@jupyter-widgets/controls",
          "model_name": "DescriptionStyleModel",
          "state": {
            "_view_name": "StyleView",
            "_model_name": "DescriptionStyleModel",
            "description_width": "",
            "_view_module": "@jupyter-widgets/base",
            "_model_module_version": "1.5.0",
            "_view_count": null,
            "_view_module_version": "1.2.0",
            "_model_module": "@jupyter-widgets/controls"
          }
        },
        "4f1902abc8bc4160bd80b2764f9db68b": {
          "model_module": "@jupyter-widgets/base",
          "model_name": "LayoutModel",
          "state": {
            "_view_name": "LayoutView",
            "grid_template_rows": null,
            "right": null,
            "justify_content": null,
            "_view_module": "@jupyter-widgets/base",
            "overflow": null,
            "_model_module_version": "1.2.0",
            "_view_count": null,
            "flex_flow": null,
            "width": null,
            "min_width": null,
            "border": null,
            "align_items": null,
            "bottom": null,
            "_model_module": "@jupyter-widgets/base",
            "top": null,
            "grid_column": null,
            "overflow_y": null,
            "overflow_x": null,
            "grid_auto_flow": null,
            "grid_area": null,
            "grid_template_columns": null,
            "flex": null,
            "_model_name": "LayoutModel",
            "justify_items": null,
            "grid_row": null,
            "max_height": null,
            "align_content": null,
            "visibility": null,
            "align_self": null,
            "height": null,
            "min_height": null,
            "padding": null,
            "grid_auto_rows": null,
            "grid_gap": null,
            "max_width": null,
            "order": null,
            "_view_module_version": "1.2.0",
            "grid_template_areas": null,
            "object_position": null,
            "object_fit": null,
            "grid_auto_columns": null,
            "margin": null,
            "display": null,
            "left": null
          }
        },
        "9bb831f616874f83aa38158d3f450df0": {
          "model_module": "@jupyter-widgets/controls",
          "model_name": "HBoxModel",
          "state": {
            "_view_name": "HBoxView",
            "_dom_classes": [],
            "_model_name": "HBoxModel",
            "_view_module": "@jupyter-widgets/controls",
            "_model_module_version": "1.5.0",
            "_view_count": null,
            "_view_module_version": "1.5.0",
            "box_style": "",
            "layout": "IPY_MODEL_c9be09731a1644f4896fe267bade1175",
            "_model_module": "@jupyter-widgets/controls",
            "children": [
              "IPY_MODEL_56a14858fdaa40d39925a57f5dc19a2e",
              "IPY_MODEL_412cc9b445de43c1bb5aadb77e2a4c15"
            ]
          }
        },
        "c9be09731a1644f4896fe267bade1175": {
          "model_module": "@jupyter-widgets/base",
          "model_name": "LayoutModel",
          "state": {
            "_view_name": "LayoutView",
            "grid_template_rows": null,
            "right": null,
            "justify_content": null,
            "_view_module": "@jupyter-widgets/base",
            "overflow": null,
            "_model_module_version": "1.2.0",
            "_view_count": null,
            "flex_flow": null,
            "width": null,
            "min_width": null,
            "border": null,
            "align_items": null,
            "bottom": null,
            "_model_module": "@jupyter-widgets/base",
            "top": null,
            "grid_column": null,
            "overflow_y": null,
            "overflow_x": null,
            "grid_auto_flow": null,
            "grid_area": null,
            "grid_template_columns": null,
            "flex": null,
            "_model_name": "LayoutModel",
            "justify_items": null,
            "grid_row": null,
            "max_height": null,
            "align_content": null,
            "visibility": null,
            "align_self": null,
            "height": null,
            "min_height": null,
            "padding": null,
            "grid_auto_rows": null,
            "grid_gap": null,
            "max_width": null,
            "order": null,
            "_view_module_version": "1.2.0",
            "grid_template_areas": null,
            "object_position": null,
            "object_fit": null,
            "grid_auto_columns": null,
            "margin": null,
            "display": null,
            "left": null
          }
        },
        "56a14858fdaa40d39925a57f5dc19a2e": {
          "model_module": "@jupyter-widgets/controls",
          "model_name": "FloatProgressModel",
          "state": {
            "_view_name": "ProgressView",
            "style": "IPY_MODEL_37fa1f357aa44b32a2c14c81ce024ec0",
            "_dom_classes": [],
            "description": "",
            "_model_name": "FloatProgressModel",
            "bar_style": "success",
            "max": 1,
            "_view_module": "@jupyter-widgets/controls",
            "_model_module_version": "1.5.0",
            "value": 1,
            "_view_count": null,
            "_view_module_version": "1.5.0",
            "orientation": "horizontal",
            "min": 0,
            "description_tooltip": null,
            "_model_module": "@jupyter-widgets/controls",
            "layout": "IPY_MODEL_a529f002ad464803989aaffc12c6ab7b"
          }
        },
        "412cc9b445de43c1bb5aadb77e2a4c15": {
          "model_module": "@jupyter-widgets/controls",
          "model_name": "HTMLModel",
          "state": {
            "_view_name": "HTMLView",
            "style": "IPY_MODEL_ef0e501328364d438b221d302ac90a97",
            "_dom_classes": [],
            "description": "",
            "_model_name": "HTMLModel",
            "placeholder": "​",
            "_view_module": "@jupyter-widgets/controls",
            "_model_module_version": "1.5.0",
            "value": " 8192/? [00:00&lt;00:00, 22524.36it/s]",
            "_view_count": null,
            "_view_module_version": "1.5.0",
            "description_tooltip": null,
            "_model_module": "@jupyter-widgets/controls",
            "layout": "IPY_MODEL_6cc4256008974852ba4e9bfa6c6db61b"
          }
        },
        "37fa1f357aa44b32a2c14c81ce024ec0": {
          "model_module": "@jupyter-widgets/controls",
          "model_name": "ProgressStyleModel",
          "state": {
            "_view_name": "StyleView",
            "_model_name": "ProgressStyleModel",
            "description_width": "initial",
            "_view_module": "@jupyter-widgets/base",
            "_model_module_version": "1.5.0",
            "_view_count": null,
            "_view_module_version": "1.2.0",
            "bar_color": null,
            "_model_module": "@jupyter-widgets/controls"
          }
        },
        "a529f002ad464803989aaffc12c6ab7b": {
          "model_module": "@jupyter-widgets/base",
          "model_name": "LayoutModel",
          "state": {
            "_view_name": "LayoutView",
            "grid_template_rows": null,
            "right": null,
            "justify_content": null,
            "_view_module": "@jupyter-widgets/base",
            "overflow": null,
            "_model_module_version": "1.2.0",
            "_view_count": null,
            "flex_flow": null,
            "width": null,
            "min_width": null,
            "border": null,
            "align_items": null,
            "bottom": null,
            "_model_module": "@jupyter-widgets/base",
            "top": null,
            "grid_column": null,
            "overflow_y": null,
            "overflow_x": null,
            "grid_auto_flow": null,
            "grid_area": null,
            "grid_template_columns": null,
            "flex": null,
            "_model_name": "LayoutModel",
            "justify_items": null,
            "grid_row": null,
            "max_height": null,
            "align_content": null,
            "visibility": null,
            "align_self": null,
            "height": null,
            "min_height": null,
            "padding": null,
            "grid_auto_rows": null,
            "grid_gap": null,
            "max_width": null,
            "order": null,
            "_view_module_version": "1.2.0",
            "grid_template_areas": null,
            "object_position": null,
            "object_fit": null,
            "grid_auto_columns": null,
            "margin": null,
            "display": null,
            "left": null
          }
        },
        "ef0e501328364d438b221d302ac90a97": {
          "model_module": "@jupyter-widgets/controls",
          "model_name": "DescriptionStyleModel",
          "state": {
            "_view_name": "StyleView",
            "_model_name": "DescriptionStyleModel",
            "description_width": "",
            "_view_module": "@jupyter-widgets/base",
            "_model_module_version": "1.5.0",
            "_view_count": null,
            "_view_module_version": "1.2.0",
            "_model_module": "@jupyter-widgets/controls"
          }
        },
        "6cc4256008974852ba4e9bfa6c6db61b": {
          "model_module": "@jupyter-widgets/base",
          "model_name": "LayoutModel",
          "state": {
            "_view_name": "LayoutView",
            "grid_template_rows": null,
            "right": null,
            "justify_content": null,
            "_view_module": "@jupyter-widgets/base",
            "overflow": null,
            "_model_module_version": "1.2.0",
            "_view_count": null,
            "flex_flow": null,
            "width": null,
            "min_width": null,
            "border": null,
            "align_items": null,
            "bottom": null,
            "_model_module": "@jupyter-widgets/base",
            "top": null,
            "grid_column": null,
            "overflow_y": null,
            "overflow_x": null,
            "grid_auto_flow": null,
            "grid_area": null,
            "grid_template_columns": null,
            "flex": null,
            "_model_name": "LayoutModel",
            "justify_items": null,
            "grid_row": null,
            "max_height": null,
            "align_content": null,
            "visibility": null,
            "align_self": null,
            "height": null,
            "min_height": null,
            "padding": null,
            "grid_auto_rows": null,
            "grid_gap": null,
            "max_width": null,
            "order": null,
            "_view_module_version": "1.2.0",
            "grid_template_areas": null,
            "object_position": null,
            "object_fit": null,
            "grid_auto_columns": null,
            "margin": null,
            "display": null,
            "left": null
          }
        }
      }
    }
  },
  "cells": [
    {
      "cell_type": "code",
      "metadata": {
        "id": "wGl7Gyuxk1qm",
        "colab_type": "code",
        "colab": {}
      },
      "source": [
        "import torch\n",
        "import torch.nn as nn\n",
        "import torch.optim as optim\n",
        "from torchvision import datasets, transforms\n",
        "from torch.utils import data\n",
        "import numpy as np\n",
        "from matplotlib import pyplot as plt\n",
        "from sklearn.model_selection import train_test_split"
      ],
      "execution_count": 0,
      "outputs": []
    },
    {
      "cell_type": "code",
      "metadata": {
        "id": "_9BZ_Ksjl7yq",
        "colab_type": "code",
        "outputId": "a8fab919-d736-43fd-c02a-60931ac6969a",
        "colab": {
          "base_uri": "https://localhost:8080/",
          "height": 35
        }
      },
      "source": [
        "torch.set_default_tensor_type('torch.cuda.FloatTensor')\n",
        "torch.cuda.current_device(), torch.cuda.device_count()"
      ],
      "execution_count": 0,
      "outputs": [
        {
          "output_type": "execute_result",
          "data": {
            "text/plain": [
              "(0, 1)"
            ]
          },
          "metadata": {
            "tags": []
          },
          "execution_count": 2
        }
      ]
    },
    {
      "cell_type": "code",
      "metadata": {
        "id": "OSN1vhDZk9vk",
        "colab_type": "code",
        "outputId": "26ffc024-c3bf-42d7-e5f3-bc5329532826",
        "colab": {
          "base_uri": "https://localhost:8080/",
          "height": 437,
          "referenced_widgets": [
            "353f513c0d4e4dd2afe7bf7f094fd7ac",
            "2552c0c41d3741aaa7520f79408d9248",
            "84e0c0bffde342e98a1c402174255ff0",
            "181acb72b1fb444b9b6bc9349cf1d403",
            "87bc5bda4d87430197357cb9ea494326",
            "871ea004815a43049d255d0acc72a772",
            "361ccdd3393749fe9f3e27dd0a1025fb",
            "c50c2b83706840bdaa8f90b8a1e3099d",
            "f7ffdef511e141d1a33be7c8792c222c",
            "8182537c8d244098bc71a6641781f396",
            "8d2c289dbb1642f2af02865a8e7ba4ef",
            "bf8e9e7dfa724dff9b6069e310f08422",
            "25e1aadca61f4a61aab8afbc86dd9437",
            "3dfafd907f4a48859149a61e08b79d5c",
            "928133c1c1f14ee3899b8f3099fcfdac",
            "b41d8b5defb14f0782386fb9dca210f1",
            "114d56feec57419089b408d42d8fd71e",
            "3b1e61f36389455587496cc7a01449cd",
            "51bfc9cb8b8047fe91058f5e6f851ed3",
            "0440bb38198e482bbcef2923dc667db2",
            "31255a0671554e08a4a130d98f906908",
            "933a5ea2fb194f68abbe99f9e0ad9f0e",
            "0779424412dc47a696da5a202983ea19",
            "4f1902abc8bc4160bd80b2764f9db68b",
            "9bb831f616874f83aa38158d3f450df0",
            "c9be09731a1644f4896fe267bade1175",
            "56a14858fdaa40d39925a57f5dc19a2e",
            "412cc9b445de43c1bb5aadb77e2a4c15",
            "37fa1f357aa44b32a2c14c81ce024ec0",
            "a529f002ad464803989aaffc12c6ab7b",
            "ef0e501328364d438b221d302ac90a97",
            "6cc4256008974852ba4e9bfa6c6db61b"
          ]
        }
      },
      "source": [
        "batch_size = 100\n",
        "\n",
        "train_loader = torch.utils.data.DataLoader(\n",
        "        datasets.MNIST('../data', train=True, download=True,\n",
        "                       transform=transforms.Compose([\n",
        "                           transforms.ToTensor(),\n",
        "                           transforms.Normalize((0.5,), (0.5,))\n",
        "                       ])),\n",
        "        batch_size=batch_size, shuffle=True)\n",
        "\n",
        "test_loader = torch.utils.data.DataLoader(\n",
        "    datasets.MNIST('../data', train=False, transform=transforms.Compose([\n",
        "                        transforms.ToTensor(),\n",
        "                        transforms.Normalize((0.5,), (0.5,))\n",
        "                    ])),\n",
        "    batch_size=batch_size, shuffle=True)\n",
        "\n",
        "train_loader, test_loader"
      ],
      "execution_count": 0,
      "outputs": [
        {
          "output_type": "stream",
          "text": [
            "Downloading http://yann.lecun.com/exdb/mnist/train-images-idx3-ubyte.gz to ../data/MNIST/raw/train-images-idx3-ubyte.gz\n"
          ],
          "name": "stdout"
        },
        {
          "output_type": "display_data",
          "data": {
            "application/vnd.jupyter.widget-view+json": {
              "model_id": "353f513c0d4e4dd2afe7bf7f094fd7ac",
              "version_minor": 0,
              "version_major": 2
            },
            "text/plain": [
              "HBox(children=(FloatProgress(value=1.0, bar_style='info', max=1.0), HTML(value='')))"
            ]
          },
          "metadata": {
            "tags": []
          }
        },
        {
          "output_type": "stream",
          "text": [
            "Extracting ../data/MNIST/raw/train-images-idx3-ubyte.gz to ../data/MNIST/raw\n",
            "Downloading http://yann.lecun.com/exdb/mnist/train-labels-idx1-ubyte.gz to ../data/MNIST/raw/train-labels-idx1-ubyte.gz\n"
          ],
          "name": "stdout"
        },
        {
          "output_type": "display_data",
          "data": {
            "application/vnd.jupyter.widget-view+json": {
              "model_id": "f7ffdef511e141d1a33be7c8792c222c",
              "version_minor": 0,
              "version_major": 2
            },
            "text/plain": [
              "HBox(children=(FloatProgress(value=1.0, bar_style='info', max=1.0), HTML(value='')))"
            ]
          },
          "metadata": {
            "tags": []
          }
        },
        {
          "output_type": "stream",
          "text": [
            "Extracting ../data/MNIST/raw/train-labels-idx1-ubyte.gz to ../data/MNIST/raw\n",
            "Downloading http://yann.lecun.com/exdb/mnist/t10k-images-idx3-ubyte.gz to ../data/MNIST/raw/t10k-images-idx3-ubyte.gz\n",
            "\n"
          ],
          "name": "stdout"
        },
        {
          "output_type": "display_data",
          "data": {
            "application/vnd.jupyter.widget-view+json": {
              "model_id": "114d56feec57419089b408d42d8fd71e",
              "version_minor": 0,
              "version_major": 2
            },
            "text/plain": [
              "HBox(children=(FloatProgress(value=1.0, bar_style='info', max=1.0), HTML(value='')))"
            ]
          },
          "metadata": {
            "tags": []
          }
        },
        {
          "output_type": "stream",
          "text": [
            "Extracting ../data/MNIST/raw/t10k-images-idx3-ubyte.gz to ../data/MNIST/raw\n",
            "Downloading http://yann.lecun.com/exdb/mnist/t10k-labels-idx1-ubyte.gz to ../data/MNIST/raw/t10k-labels-idx1-ubyte.gz\n"
          ],
          "name": "stdout"
        },
        {
          "output_type": "display_data",
          "data": {
            "application/vnd.jupyter.widget-view+json": {
              "model_id": "9bb831f616874f83aa38158d3f450df0",
              "version_minor": 0,
              "version_major": 2
            },
            "text/plain": [
              "HBox(children=(FloatProgress(value=1.0, bar_style='info', max=1.0), HTML(value='')))"
            ]
          },
          "metadata": {
            "tags": []
          }
        },
        {
          "output_type": "stream",
          "text": [
            "Extracting ../data/MNIST/raw/t10k-labels-idx1-ubyte.gz to ../data/MNIST/raw\n",
            "Processing...\n",
            "Done!\n",
            "\n"
          ],
          "name": "stdout"
        },
        {
          "output_type": "stream",
          "text": [
            "/pytorch/torch/csrc/utils/tensor_numpy.cpp:141: UserWarning: The given NumPy array is not writeable, and PyTorch does not support non-writeable tensors. This means you can write to the underlying (supposedly non-writeable) NumPy array using the tensor. You may want to copy the array to protect its data or make it writeable before converting it to a tensor. This type of warning will be suppressed for the rest of this program.\n"
          ],
          "name": "stderr"
        },
        {
          "output_type": "execute_result",
          "data": {
            "text/plain": [
              "(<torch.utils.data.dataloader.DataLoader at 0x7f9cde006978>,\n",
              " <torch.utils.data.dataloader.DataLoader at 0x7f9c807e4dd8>)"
            ]
          },
          "metadata": {
            "tags": []
          },
          "execution_count": 3
        }
      ]
    },
    {
      "cell_type": "code",
      "metadata": {
        "id": "89w_1xNEpkGR",
        "colab_type": "code",
        "colab": {}
      },
      "source": [
        "??nn.ConvTranspose2d"
      ],
      "execution_count": 0,
      "outputs": []
    },
    {
      "cell_type": "code",
      "metadata": {
        "id": "O8nBSs_mlBA3",
        "colab_type": "code",
        "outputId": "2318f7bd-35c4-4567-ad23-8b9fe9f16915",
        "colab": {
          "base_uri": "https://localhost:8080/",
          "height": 35
        }
      },
      "source": [
        "class Generator(nn.Module):\n",
        "  def __init__(self):\n",
        "    '''\n",
        "    Network is a map from one image to another image\n",
        "    (Batch, 1, w, h) -> (Batch, 1, w, h)\n",
        "    (Batch, 1, w, h) -> 2ConvDown -> Flatten -> FC -> Bottleneck -> FC -> Reshape -> 2ConvUp -> (Batch, 1, w, h)\n",
        "    '''\n",
        "    super(Generator, self).__init__()\n",
        "    self.fc1 = nn.Linear(128, 256)\n",
        "    self.fc2 = nn.Linear(256, 512)\n",
        "    self.fc3 = nn.Linear(512, 1024)\n",
        "    self.fc4 = nn.Linear(1024, 784)\n",
        "\n",
        "  def forward(self, z):\n",
        "    # Down\n",
        "    z = self.fc1(z)\n",
        "    z = nn.LeakyReLU(0.2)(z)\n",
        "    z = self.fc2(z)\n",
        "    z = nn.LeakyReLU(0.2)(z) \n",
        "    z = self.fc3(z)\n",
        "    z = nn.LeakyReLU(0.2)(z)\n",
        "    z = self.fc4(z)\n",
        "    z = nn.Tanh()(z)\n",
        "    z = z.view((-1, 1, 28, 28))\n",
        "    return z \n",
        "\n",
        "\n",
        "class Discriminator(nn.Module):\n",
        "  def __init__(self):\n",
        "    '''\n",
        "    Network is a map from an image to (0, 1)\n",
        "    (Batch, 1, w, h) -> (Batch, )\n",
        "    '''\n",
        "    super(Discriminator, self).__init__()\n",
        "    self.fc1 = nn.Linear(784, 1024)\n",
        "    self.fc2 = nn.Linear(1024, 512)\n",
        "    self.fc3 = nn.Linear(512, 256)\n",
        "    self.fc4 = nn.Linear(256, 1)\n",
        "\n",
        "  \n",
        "  def forward(self, x):\n",
        "    x = x.view((-1, 784))\n",
        "    x = self.fc1(x)\n",
        "    x = nn.LeakyReLU(0.2)(x)\n",
        "    x = self.fc2(x)\n",
        "    x = nn.LeakyReLU(0.2)(x)\n",
        "    x = self.fc3(x)\n",
        "    x = nn.LeakyReLU(0.2)(x)\n",
        "    x = self.fc4(x)\n",
        "    return (x)\n",
        "\n",
        "\n",
        "generator = Generator()\n",
        "discriminator = Discriminator()\n",
        "generated = generator(torch.randn(10, 128))\n",
        "\n",
        "predictions = discriminator(generated)\n",
        "next(discriminator.parameters()).is_cuda"
      ],
      "execution_count": 0,
      "outputs": [
        {
          "output_type": "execute_result",
          "data": {
            "text/plain": [
              "True"
            ]
          },
          "metadata": {
            "tags": []
          },
          "execution_count": 19
        }
      ]
    },
    {
      "cell_type": "code",
      "metadata": {
        "id": "MVBFXxKflGJY",
        "colab_type": "code",
        "outputId": "00b14726-129e-4fc3-c1a4-d0f41bf59383",
        "colab": {
          "base_uri": "https://localhost:8080/",
          "height": 381
        }
      },
      "source": [
        "G = Generator()\n",
        "D = Discriminator()\n",
        "\n",
        "G_optimizer = optim.Adam(G.parameters(), lr = 1e-4)\n",
        "D_optimizer = optim.Adam(D.parameters(), lr = 1e-4)\n",
        "\n",
        "\n",
        "def train(G, D, G_optimizer, D_optimizer, train_loader, criterion):\n",
        "  G_losses = []\n",
        "  D_losses = []\n",
        "  transform = transforms.Compose([\n",
        "    transforms.Normalize(mean=[0.5,],\n",
        "                         std=[0.5,])])\n",
        "  D_grads = 0\n",
        "  for i, (X, Y) in enumerate(train_loader):\n",
        "    \n",
        "    # train D\n",
        "    Z = torch.randn((X.shape[0], 128))\n",
        "    D.zero_grad()\n",
        "    X = X.cuda()\n",
        "    for p in D.parameters(): p.requires_grad = True\n",
        "    D_loss = criterion(D(X), torch.ones((X.shape[0], 1))) + criterion(D(G(Z)), torch.zeros((X.shape[0], 1)))\n",
        "    D_loss.backward(retain_graph=True)\n",
        "    D_optimizer.step()\n",
        "\n",
        "    # train G\n",
        "    G.zero_grad()\n",
        "    for p in D.parameters(): p.requires_grad = False\n",
        "    \n",
        "    G_loss = criterion(D(G(Z)), torch.ones((X.shape[0], 1)))\n",
        "\n",
        "    G_loss.backward()\n",
        "    G_optimizer.step()\n",
        "    \n",
        "    G_losses.append(G_loss.mean().item())\n",
        "    D_losses.append(D_loss.mean().item())\n",
        "    D_grads += sum([x.grad.sum() for x in D.parameters()])\n",
        "  return D_grads.item()\n",
        "\n",
        "\n",
        "def validate(G, D, test_loader):\n",
        "  D_losses = []\n",
        "  G_losses = []\n",
        "  for i, (X, Y) in enumerate(test_loader):\n",
        "    Z = torch.randn((X.shape[0], 128))\n",
        "    X = X.cuda()\n",
        "    D_loss = nn.BCEWithLogitsLoss()(D(X), torch.ones((X.shape[0], 1))) + nn.BCEWithLogitsLoss()(D(G(Z)), torch.zeros((X.shape[0], 1)))\n",
        "    G_loss = nn.BCEWithLogitsLoss()(D(G(Z)), torch.ones((X.shape[0], 1)))\n",
        "    D_losses.append(D_loss.item())\n",
        "    G_losses.append(G_loss.item())\n",
        "  return sum(D_losses) / len(D_losses), sum(G_losses) / len(G_losses)\n",
        "\n",
        "\n",
        "vanilla_train_D_losses = []\n",
        "vanilla_train_G_losses = []\n",
        "vanilla_test_D_losses = []\n",
        "vanilla_test_G_losses = []\n",
        "vanilla_D_grads = []\n",
        "for epoch in range(20):\n",
        "  D_grads = train(G, D, G_optimizer, D_optimizer, train_loader, nn.BCEWithLogitsLoss())\n",
        "  D_train_loss, G_train_loss = validate(G, D, train_loader)\n",
        "  D_test_loss, G_test_loss = validate(G, D, test_loader)\n",
        "  vanilla_train_D_losses.append(D_train_loss)\n",
        "  vanilla_train_G_losses.append(G_train_loss)\n",
        "  vanilla_test_D_losses.append(D_test_loss)\n",
        "  vanilla_test_G_losses.append(G_test_loss)\n",
        "  vanilla_D_grads.append(D_grads)\n",
        "  print(epoch, D_train_loss, G_train_loss, D_test_loss, G_test_loss, D_grads)"
      ],
      "execution_count": 0,
      "outputs": [
        {
          "output_type": "stream",
          "text": [
            "0 0.007098380734678358 5.251410919825236 0.007186153386719525 5.239679307937622 -81867.28125\n",
            "1 1.485745810866356 0.7718314775824546 1.458698320388794 0.773635219335556 -96763.328125\n",
            "2 1.7557849717140197 0.6813558129469554 1.7210032153129577 0.6816789954900742 -21116.990234375\n",
            "3 0.6933100758989652 1.5463926148414613 0.6703984469175339 1.5533172750473023 -16262.4462890625\n",
            "4 0.28317722126841544 2.681951805750529 0.2724164763092995 2.677890591621399 -40927.64453125\n",
            "5 0.39921839646995066 4.2797645584742225 0.3644161753356457 4.266320893764496 -2186.205078125\n",
            "6 0.49294293959935503 3.6253692213694255 0.4566254475712776 3.5967805194854736 -20791.427734375\n",
            "7 0.19307719574620327 4.0416479635238645 0.18084774792194366 4.041655700206757 -22693.697265625\n",
            "8 0.2426580854008595 3.563074883619944 0.24222129844129087 3.5569009351730347 -16302.712890625\n",
            "9 0.18499002527445554 3.2871685282389325 0.1807719711214304 3.276175181865692 -26073.287109375\n",
            "10 0.3552126371363799 2.793499341805776 0.318126655369997 2.7860576462745668 -10638.390625\n",
            "11 0.14030327799419562 3.6209280455112456 0.1396943747252226 3.5984529662132263 -18438.484375\n",
            "12 0.21742445816596348 2.806824959516525 0.20850727200508118 2.808405055999756 -27103.87109375\n",
            "13 0.24987470231950282 3.5469192377726237 0.24846928238868712 3.544935455322266 -10904.791015625\n",
            "14 0.41787413254380223 4.427995555003484 0.4052296203374863 4.402915856838226 -33089.5234375\n",
            "15 0.19399472220490377 4.41798352042834 0.1830011160671711 4.4333251142501835 -18235.142578125\n",
            "16 0.29963120783368746 4.634439401626587 0.2656608198583126 4.640897054672241 -16273.2607421875\n",
            "17 0.2596882347886761 4.0192858521143595 0.24291277058422567 4.017109916210175 -18470.5078125\n",
            "18 0.20492402082930009 4.348447980880738 0.19177457340061665 4.37108793258667 -12307.484375\n",
            "19 0.38354656847814717 3.142565351724625 0.3765346720814705 3.136402688026428 -29352.50390625\n"
          ],
          "name": "stdout"
        }
      ]
    },
    {
      "cell_type": "code",
      "metadata": {
        "id": "JWZub3rxXO_B",
        "colab_type": "code",
        "outputId": "f3396b3d-b143-48f1-846c-e866355dd974",
        "colab": {
          "base_uri": "https://localhost:8080/",
          "height": 381
        }
      },
      "source": [
        "G = Generator()\n",
        "D = Discriminator()\n",
        "\n",
        "G_optimizer = optim.Adam(G.parameters(), lr = 1e-4)\n",
        "D_optimizer = optim.Adam(D.parameters(), lr = 1e-4)\n",
        "\n",
        "def lsgan_train(G, D, G_optimizer, D_optimizer, train_loader):\n",
        "  G_losses = []\n",
        "  D_losses = []\n",
        "  transform = transforms.Compose([\n",
        "    transforms.Normalize(mean=[0.5,],\n",
        "                         std=[0.5,])])\n",
        "  D_grads = 0\n",
        "  for i, (X, Y) in enumerate(train_loader):\n",
        "    \n",
        "    # train D\n",
        "    Z = torch.randn((X.shape[0], 128))\n",
        "    D.zero_grad()\n",
        "    X = X.cuda()\n",
        "    for p in D.parameters(): p.requires_grad = True\n",
        "    D_loss = torch.mean((D(X) - 1) ** 2) + torch.mean(D(G(Z))** 2)\n",
        "    D_loss.backward(retain_graph=True)\n",
        "    D_optimizer.step()\n",
        "\n",
        "    # train G\n",
        "    G.zero_grad()\n",
        "    for p in D.parameters(): p.requires_grad = False\n",
        "    \n",
        "    G_loss = torch.mean((D(G(Z)) - 1) ** 2)\n",
        "\n",
        "    G_loss.backward()\n",
        "    G_optimizer.step()\n",
        "    \n",
        "    G_losses.append(G_loss.mean().item())\n",
        "    D_losses.append(D_loss.mean().item())\n",
        "    D_grads += sum([x.grad.sum() for x in D.parameters()])\n",
        "  return D_grads.item()\n",
        "\n",
        "\n",
        "def lsgan_validate(G, D, test_loader):\n",
        "  D_losses = []\n",
        "  G_losses = []\n",
        "  for i, (X, Y) in enumerate(test_loader):\n",
        "    Z = torch.randn((X.shape[0], 128))\n",
        "    X = X.cuda()\n",
        "    D_loss = torch.mean((D(X) - 1) ** 2) + torch.mean(D(G(Z))** 2)\n",
        "    G_loss = torch.mean((D(G(Z)) - 1) ** 2)\n",
        "    D_losses.append(D_loss.item())\n",
        "    G_losses.append(G_loss.item())\n",
        "  return sum(D_losses) / len(D_losses), sum(G_losses) / len(G_losses)\n",
        "\n",
        "\n",
        "lsgan_train_D_losses = []\n",
        "lsgan_train_G_losses = []\n",
        "lsgan_test_D_losses = []\n",
        "lsgan_test_G_losses = []\n",
        "lsgan_D_grads = []\n",
        "for epoch in range(20):\n",
        "  D_grads = lsgan_train(G, D, G_optimizer, D_optimizer, train_loader)\n",
        "  D_train_loss, G_train_loss = lsgan_validate(G, D, train_loader)\n",
        "  D_test_loss, G_test_loss = lsgan_validate(G, D, test_loader)\n",
        "  lsgan_train_D_losses.append(D_train_loss)\n",
        "  lsgan_train_G_losses.append(G_train_loss)\n",
        "  lsgan_test_D_losses.append(D_test_loss)\n",
        "  lsgan_test_G_losses.append(G_test_loss)\n",
        "  lsgan_D_grads.append(D_grads)\n",
        "  print(epoch, D_train_loss, G_train_loss, D_test_loss, G_test_loss, D_grads)\n",
        "\n",
        "\n"
      ],
      "execution_count": 0,
      "outputs": [
        {
          "output_type": "stream",
          "text": [
            "0 0.009389001687522977 1.0367376120885212 0.009046091199852526 1.0368039345741271 -656.7423095703125\n",
            "1 0.026924112001433968 0.953295039832592 0.02619913412258029 0.9520184171199798 -4306.0380859375\n",
            "2 0.030888673192821445 0.898793844183286 0.031226962730288507 0.8968929767608642 -9203.63671875\n",
            "3 0.021156578003428878 0.9979965257644653 0.02065524226985872 0.9966447746753693 -1194.85107421875\n",
            "4 0.012250107836443931 0.9433636684219042 0.012010319205000997 0.943834200501442 -573.3889770507812\n",
            "5 0.0034615192837857954 0.9957740618785222 0.003528431076556444 0.9958921998739243 -349.7980041503906\n",
            "6 0.0031146335027491053 0.9886494926611582 0.003056748628150672 0.9890676724910736 -1002.9805297851562\n",
            "7 0.007860312590685984 0.9260141750176748 0.007696460923179984 0.9252230489253997 -596.7741088867188\n",
            "8 0.0024960930631884063 0.9627696454524994 0.0022899902355857193 0.9621945041418075 -128.0499267578125\n",
            "9 0.006368466278072447 0.9177174745996793 0.006591102653183043 0.917053673863411 -741.1671752929688\n",
            "10 0.005156517569557764 0.9909858943025271 0.00544750633998774 0.9910975164175033 -536.3783569335938\n",
            "11 0.002078283192337646 1.0309725677967072 0.002593413511640392 1.0311037909984588 -428.67822265625\n",
            "12 0.0009684502193704248 0.9979506166776021 0.0009872101485962049 0.9979651200771332 -264.0714416503906\n",
            "13 0.0057861576105157535 0.9473828257123629 0.00570892927236855 0.9478392362594604 -75.13258361816406\n",
            "14 0.003278195320744999 1.0220836156606674 0.0034396347624715416 1.0217032861709594 41.31901168823242\n",
            "15 0.001383060626152049 0.9888474794228872 0.0014938018315297085 0.987908018231392 -251.93621826171875\n",
            "16 0.0004442607345117722 0.9753801587224007 0.0004440477100433782 0.9753643554449082 -99.49896240234375\n",
            "17 0.00731390854731823 1.1388515816132228 0.0076153149409219625 1.1386575973033906 -154.35763549804688\n",
            "18 0.0006468339732964523 1.007927971680959 0.0006028277275618166 1.0083258724212647 -63.43192672729492\n",
            "19 0.0010812858247421294 0.9913815410931905 0.001167908895004075 0.9915521836280823 -214.8269805908203\n"
          ],
          "name": "stdout"
        }
      ]
    },
    {
      "cell_type": "code",
      "metadata": {
        "id": "6xTRnKZYbi7v",
        "colab_type": "code",
        "outputId": "36734da1-5d47-4804-dd48-83dda2997b38",
        "colab": {
          "base_uri": "https://localhost:8080/",
          "height": 676
        }
      },
      "source": [
        "plt.figure(figsize=(7, 7))\n",
        "plt.plot(range(0, 20), lsgan_train_D_losses, label = 'lsgan train d losses')\n",
        "plt.plot(range(0, 20), lsgan_train_G_losses, label = 'lsgan test g losses')\n",
        "plt.plot(range(0, 20), lsgan_test_D_losses, label = 'lsgan train d losses')\n",
        "plt.plot(range(0, 20), lsgan_test_G_losses, label = 'lsgan test g losses')\n",
        "plt.plot(range(0, 20), vanilla_train_D_losses, label = 'vanilla train d losses')\n",
        "plt.plot(range(0, 20), vanilla_train_G_losses, label = 'vanilla test g losses')\n",
        "plt.plot(range(0, 20), vanilla_test_D_losses, label = 'vanilla train d losses')\n",
        "plt.plot(range(0, 20), vanilla_test_G_losses, label = 'vanilla test g losses')\n",
        "plt.legend(loc='upper left')\n",
        "plt.show()\n",
        "\n",
        "plt.plot(range(0, 20), lsgan_D_grads, label = 'lsgan D Grads')\n",
        "plt.plot(range(0, 20), vanilla_D_grads, label = 'vanilla D Grads')\n",
        "plt.legend(loc='upper left')\n",
        "plt.show()"
      ],
      "execution_count": 0,
      "outputs": [
        {
          "output_type": "display_data",
          "data": {
            "image/png": "[encoded data removed]",
            "text/plain": [
              "<Figure size 504x504 with 1 Axes>"
            ]
          },
          "metadata": {
            "tags": [],
            "needs_background": "light"
          }
        },
        {
          "output_type": "display_data",
          "data": {
            "image/png": "[encoded data removed]",
            "text/plain": [
              "<Figure size 432x288 with 1 Axes>"
            ]
          },
          "metadata": {
            "tags": [],
            "needs_background": "light"
          }
        }
      ]
    },
    {
      "cell_type": "code",
      "metadata": {
        "id": "Edax4MaumzVP",
        "colab_type": "code",
        "outputId": "ea783308-5377-40ed-8096-979160a68120",
        "colab": {
          "base_uri": "https://localhost:8080/",
          "height": 1000
        }
      },
      "source": [
        "def tensor2image(x):\n",
        "  return x.detach().numpy().transpose(0, 2, 3, 1)\n",
        "\n",
        "def image2tensor(x):\n",
        "  return torch.tensor(x.transpose(0, 3, 1, 2))\n",
        "\n",
        "def display_image(image):\n",
        "  plt.figure(figsize=(1,1))\n",
        "  plt.imshow(image[:,:,0], cmap = 'gray')\n",
        "  plt.show()\n",
        "\n",
        "\n",
        "transform = transforms.Compose([\n",
        "  transforms.Normalize(mean=[0.5,],\n",
        "                        std=[0.5,])])\n",
        "inputs = torch.randn((10, 128))\n",
        "print(inputs.shape)\n",
        "predictions = G(inputs).cpu()\n",
        "predictions_numpy = tensor2image(predictions.cpu())\n",
        "for j, (inpt, prediction) in enumerate(zip(inputs, predictions_numpy)):\n",
        "  print(inpt.sum(), prediction.sum())\n",
        "  display_image(prediction)\n",
        "  if j > 30:\n",
        "    break"
      ],
      "execution_count": 0,
      "outputs": [
        {
          "output_type": "stream",
          "text": [
            "torch.Size([10, 128])\n",
            "tensor(-12.7953) -515.401\n"
          ],
          "name": "stdout"
        },
        {
          "output_type": "display_data",
          "data": {
            "image/png": "[encoded data removed]",
            "text/plain": [
              "<Figure size 72x72 with 1 Axes>"
            ]
          },
          "metadata": {
            "tags": [],
            "needs_background": "light"
          }
        },
        {
          "output_type": "stream",
          "text": [
            "tensor(-0.0599) -452.0\n"
          ],
          "name": "stdout"
        },
        {
          "output_type": "display_data",
          "data": {
            "image/png": "[encoded data removed]",
            "text/plain": [
              "<Figure size 72x72 with 1 Axes>"
            ]
          },
          "metadata": {
            "tags": [],
            "needs_background": "light"
          }
        },
        {
          "output_type": "stream",
          "text": [
            "tensor(17.9077) -452.0\n"
          ],
          "name": "stdout"
        },
        {
          "output_type": "display_data",
          "data": {
            "image/png": "[encoded data removed]",
            "text/plain": [
              "<Figure size 72x72 with 1 Axes>"
            ]
          },
          "metadata": {
            "tags": [],
            "needs_background": "light"
          }
        },
        {
          "output_type": "stream",
          "text": [
            "tensor(16.4850) -451.99927\n"
          ],
          "name": "stdout"
        },
        {
          "output_type": "display_data",
          "data": {
            "image/png": "[encoded data removed]",
            "text/plain": [
              "<Figure size 72x72 with 1 Axes>"
            ]
          },
          "metadata": {
            "tags": [],
            "needs_background": "light"
          }
        },
        {
          "output_type": "stream",
          "text": [
            "tensor(-15.2782) -467.47916\n"
          ],
          "name": "stdout"
        },
        {
          "output_type": "display_data",
          "data": {
            "image/png": "[encoded data removed]",
            "text/plain": [
              "<Figure size 72x72 with 1 Axes>"
            ]
          },
          "metadata": {
            "tags": [],
            "needs_background": "light"
          }
        },
        {
          "output_type": "stream",
          "text": [
            "tensor(4.4406) -451.90955\n"
          ],
          "name": "stdout"
        },
        {
          "output_type": "display_data",
          "data": {
            "image/png": "[encoded data removed]",
            "text/plain": [
              "<Figure size 72x72 with 1 Axes>"
            ]
          },
          "metadata": {
            "tags": [],
            "needs_background": "light"
          }
        },
        {
          "output_type": "stream",
          "text": [
            "tensor(-13.6163) -461.65314\n"
          ],
          "name": "stdout"
        },
        {
          "output_type": "display_data",
          "data": {
            "image/png": "[encoded data removed]",
            "text/plain": [
              "<Figure size 72x72 with 1 Axes>"
            ]
          },
          "metadata": {
            "tags": [],
            "needs_background": "light"
          }
        },
        {
          "output_type": "stream",
          "text": [
            "tensor(-3.1896) -449.41708\n"
          ],
          "name": "stdout"
        },
        {
          "output_type": "display_data",
          "data": {
            "image/png": "[encoded data removed]",
            "text/plain": [
              "<Figure size 72x72 with 1 Axes>"
            ]
          },
          "metadata": {
            "tags": [],
            "needs_background": "light"
          }
        },
        {
          "output_type": "stream",
          "text": [
            "tensor(-11.4873) -452.00015\n"
          ],
          "name": "stdout"
        },
        {
          "output_type": "display_data",
          "data": {
            "image/png": "[encoded data removed]",
            "text/plain": [
              "<Figure size 72x72 with 1 Axes>"
            ]
          },
          "metadata": {
            "tags": [],
            "needs_background": "light"
          }
        },
        {
          "output_type": "stream",
          "text": [
            "tensor(9.9147) -452.00037\n"
          ],
          "name": "stdout"
        },
        {
          "output_type": "display_data",
          "data": {
            "image/png": "[encoded data removed]",
            "text/plain": [
              "<Figure size 72x72 with 1 Axes>"
            ]
          },
          "metadata": {
            "tags": [],
            "needs_background": "light"
          }
        }
      ]
    },
    {
      "cell_type": "code",
      "metadata": {
        "id": "O3kHepXJpPJm",
        "colab_type": "code",
        "colab": {}
      },
      "source": [
        ""
      ],
      "execution_count": 0,
      "outputs": []
    }
  ]
}